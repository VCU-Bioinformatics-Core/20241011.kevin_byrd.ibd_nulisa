{
 "cells": [
  {
   "cell_type": "code",
   "execution_count": null,
   "id": "4f906eb4-9f61-444d-a38c-eccf8ada1842",
   "metadata": {
    "tags": []
   },
   "outputs": [],
   "source": [
    "import os\n",
    "import pandas as pd \n",
    "import seaborn as sns\n",
    "import matplotlib.pyplot as plt\n",
    "from upsetplot import UpSet, from_indicators, from_memberships\n",
    "\n",
    "os.chdir('/lustre/home/reynaj/Projects/20241011.Byrd_Lab.IBD_NuLisa')\n",
    "\n",
    "# set data dirs\n",
    "limma_dir = 'results/aggregated/limma/'\n",
    "rf_dir = 'results/aggregated/rf_model/'\n",
    "\n",
    "# set the data levels/order\n",
    "da_levels = ['N/A (Non-IBD Control)', 'Quiescent', 'Mild', 'Moderate']"
   ]
  },
  {
   "cell_type": "markdown",
   "id": "217febbe-882d-4668-82f5-0f5ceddbd25b",
   "metadata": {},
   "source": [
    "## Load the DEG results for disease activity"
   ]
  },
  {
   "cell_type": "code",
   "execution_count": null,
   "id": "058230e8-f653-4ef3-887d-3db9da0fd8a3",
   "metadata": {
    "tags": []
   },
   "outputs": [],
   "source": [
    "fn = os.path.join(limma_dir, 'limma.all_data.disease_activity.control_versus_quiescent.tsv') \n",
    "qu_df = pd.read_table(fn)\n",
    "qu_df.loc[:, 'group'] = 'quiescent'\n",
    "top_qu_df = qu_df.loc[(qu_df['P.Value'] < 0.05), :]"
   ]
  },
  {
   "cell_type": "code",
   "execution_count": null,
   "id": "fcea7173-6584-40c8-9d9d-01040117f672",
   "metadata": {
    "tags": []
   },
   "outputs": [],
   "source": [
    "fn = os.path.join(limma_dir, 'limma.all_data.disease_activity.control_versus_mild.tsv') \n",
    "mild_df = pd.read_table(fn)\n",
    "mild_df.loc[:, 'group'] = 'mild'\n",
    "top_mild_df = mild_df.loc[(mild_df['P.Value'] < 0.05), :]"
   ]
  },
  {
   "cell_type": "code",
   "execution_count": null,
   "id": "b8037e16-e95e-463a-9550-d337a2b4c28e",
   "metadata": {
    "tags": []
   },
   "outputs": [],
   "source": [
    "fn = os.path.join(limma_dir, 'limma.all_data.disease_activity.control_versus_moderate.tsv') \n",
    "mod_df = pd.read_table(fn)\n",
    "mod_df.loc[:, 'group'] = 'moderate'\n",
    "top_mod_df = mod_df.loc[(mod_df['P.Value'] < 0.05), :]"
   ]
  },
  {
   "cell_type": "markdown",
   "id": "59a0cd7f-df48-4606-acc3-540ff81affde",
   "metadata": {},
   "source": [
    "## Load the importance scores from the RF model for disease activity"
   ]
  },
  {
   "cell_type": "code",
   "execution_count": null,
   "id": "d745be17-baa3-4535-b0da-f2b86d7ef91b",
   "metadata": {
    "tags": []
   },
   "outputs": [],
   "source": [
    "fn = os.path.join(rf_dir, 'rf_model.disease_activity.scores.tsv')\n",
    "model_imp_df = pd.read_table(fn, index_col=0)\n",
    "model_imp_df.loc[:, 'group'] = 'rf_model'"
   ]
  },
  {
   "cell_type": "code",
   "execution_count": null,
   "id": "5c9f7d98-5bcb-48ac-ae24-85000d4630fd",
   "metadata": {
    "tags": []
   },
   "outputs": [],
   "source": [
    "topn = 30\n",
    "top_model_imp_df = model_imp_df.sort_values('score', ascending=False).head(topn) "
   ]
  },
  {
   "cell_type": "markdown",
   "id": "f1d72c4b-6af7-4311-a5ef-3b8d8f3cda6f",
   "metadata": {},
   "source": [
    "## Compare the overlaps between all groups (Upset Plot)"
   ]
  },
  {
   "cell_type": "code",
   "execution_count": null,
   "id": "d3e966c4-e868-4704-a849-4cde29aea9b7",
   "metadata": {
    "tags": []
   },
   "outputs": [],
   "source": [
    "combined_df = pd.concat([top_qu_df, top_mild_df, top_mod_df, top_model_imp_df])"
   ]
  },
  {
   "cell_type": "code",
   "execution_count": null,
   "id": "b1a3d831-d93d-4582-ad37-f3002437db56",
   "metadata": {
    "tags": []
   },
   "outputs": [],
   "source": [
    "combined_df.head()"
   ]
  },
  {
   "cell_type": "code",
   "execution_count": null,
   "id": "68227559-8f0a-431e-bfaa-d9cc57fca1fe",
   "metadata": {
    "tags": []
   },
   "outputs": [],
   "source": [
    "# generate the data for the upset plot\n",
    "upset_df = combined_df.reset_index()\n",
    "upset_df.rename(columns={'index': 'protein'}, inplace=True)\n",
    "upset_df.loc[:, 'indicator'] = 1\n",
    "upset_df = upset_df.loc[:, ['protein', 'group', 'indicator']]\n",
    "upset_df = upset_df.pivot(index='protein', columns=['group'], values='indicator')\n",
    "upset_df = upset_df.fillna(0).astype(bool).reset_index()\n",
    "upset_df = from_indicators(indicators=['quiescent', 'mild', 'moderate', 'rf_model'], data=upset_df)"
   ]
  },
  {
   "cell_type": "code",
   "execution_count": null,
   "id": "ab351274-3f86-44a7-8aab-105c679e97eb",
   "metadata": {
    "tags": []
   },
   "outputs": [],
   "source": [
    "upset_df.head()"
   ]
  },
  {
   "cell_type": "code",
   "execution_count": null,
   "id": "e67da2db-4e31-4771-b73a-a0054028bda9",
   "metadata": {
    "tags": []
   },
   "outputs": [],
   "source": [
    "# Create UpSet plot\n",
    "upset = UpSet(upset_df, show_counts=True)\n",
    "upset.plot();"
   ]
  },
  {
   "cell_type": "code",
   "execution_count": null,
   "id": "73e7f3aa-40b1-4434-ab28-9d84df4b6824",
   "metadata": {},
   "outputs": [],
   "source": [
    "upset_df.loc[(True, True, True, True)]"
   ]
  },
  {
   "cell_type": "markdown",
   "id": "455c9034-577a-4b00-90b3-1728ff30b987",
   "metadata": {},
   "source": [
    "## Plot gene expression for interesting genes across the RF Model and all other groups"
   ]
  },
  {
   "cell_type": "code",
   "execution_count": null,
   "id": "5e6195d5-fd89-4bde-be7e-2c25931767cb",
   "metadata": {
    "tags": []
   },
   "outputs": [],
   "source": [
    "# Load the protein levels data\n",
    "fn = \"results/aggregated/comp_data/protein_levels.npq.tsv\"\n",
    "protein_data = pd.read_csv(fn, sep=\"\\t\")\n",
    "protein_data = protein_data.T\n",
    "protein_data.index = protein_data.index.astype(int)\n",
    "\n",
    "# Load the clinical data\n",
    "fn = 'results/aggregated/comp_data/clinical_data.tsv'\n",
    "clinical_data = pd.read_csv(fn, sep=\"\\t\")\n",
    "clinical_data.index = clinical_data.matched_subject_id.astype(int)\n",
    "\n",
    "# remove alamar samples\n",
    "keep = (~clinical_data['matched_subject_id'] != 999).tolist()\n",
    "clinical_data = clinical_data.loc[keep,:]\n",
    "protein_data = protein_data.loc[keep,:]"
   ]
  },
  {
   "cell_type": "code",
   "execution_count": null,
   "id": "a65d1cdc-2a45-438f-9b68-4ae6607ef67a",
   "metadata": {
    "tags": []
   },
   "outputs": [],
   "source": [
    "# combine protein with clinical data\n",
    "comp_protein_data = pd.concat([protein_data, clinical_data[['disease_activity']]], axis=1)"
   ]
  },
  {
   "cell_type": "code",
   "execution_count": null,
   "id": "2d5d3122-38f6-443a-8066-b4d1d91562c1",
   "metadata": {
    "tags": []
   },
   "outputs": [],
   "source": [
    "comp_protein_data.shape"
   ]
  },
  {
   "cell_type": "markdown",
   "id": "d53f8b4c-16df-4b10-a9af-bcf5dd8622f1",
   "metadata": {},
   "source": [
    "### Completely shared protein levels"
   ]
  },
  {
   "cell_type": "code",
   "execution_count": null,
   "id": "44b12422-9aab-40e4-89b5-f49a06a2bdf2",
   "metadata": {},
   "outputs": [],
   "source": [
    "completely_shared = upset_df.loc[(True, True, True, True), 'protein'].tolist()"
   ]
  },
  {
   "cell_type": "code",
   "execution_count": null,
   "id": "d975fca6-e828-45c0-986b-43333e5979ba",
   "metadata": {},
   "outputs": [],
   "source": [
    "completely_shared"
   ]
  },
  {
   "cell_type": "code",
   "execution_count": null,
   "id": "72461128-3f26-4cf0-9043-5c83d46d1b1d",
   "metadata": {
    "tags": []
   },
   "outputs": [],
   "source": [
    "def da_boxplot(data, protein):\n",
    "    fig, ax = plt.subplots()\n",
    "    #sns.boxplot(data=data, x='disease_activity', y=protein, order=da_levels, ax=ax)\n",
    "    sns.boxplot(data=data, x='disease_activity', y=protein, ax=ax)\n",
    "    ax.set_title('{} levels across disease activity'.format(protein))\n",
    "    return(fig, ax)"
   ]
  },
  {
   "cell_type": "code",
   "execution_count": null,
   "id": "07b85e92-54a0-4fde-b272-116a424c88ab",
   "metadata": {},
   "outputs": [],
   "source": [
    "comp_protein_data"
   ]
  },
  {
   "cell_type": "code",
   "execution_count": null,
   "id": "3b73886d-a62c-45d5-a7bf-089f9bda20c6",
   "metadata": {
    "tags": []
   },
   "outputs": [],
   "source": [
    "protein = 'IL36B'\n",
    "fig, ax = da_boxplot(comp_protein_data, protein)"
   ]
  },
  {
   "cell_type": "code",
   "execution_count": null,
   "id": "568e0bd4-88b6-4ec6-ba73-1cfb16058778",
   "metadata": {
    "tags": []
   },
   "outputs": [],
   "source": [
    "protein = 'CD80'\n",
    "fig, ax = da_boxplot(comp_protein_data, protein)"
   ]
  },
  {
   "cell_type": "markdown",
   "id": "1a164849-f82d-45f9-9098-4e255460c9df",
   "metadata": {},
   "source": [
    "### Shared between RF and Mild"
   ]
  },
  {
   "cell_type": "code",
   "execution_count": null,
   "id": "b1a08d01-2a67-4795-9ec2-ee2caf5024b5",
   "metadata": {
    "tags": []
   },
   "outputs": [],
   "source": [
    "shared = upset_df.loc[(False, True, False, True), 'protein'].tolist()\n",
    "for protein in shared:\n",
    "    fig, ax = da_boxplot(comp_protein_data, protein)"
   ]
  },
  {
   "cell_type": "markdown",
   "id": "2074a25a-5118-4cde-b09b-1431d57f165d",
   "metadata": {},
   "source": [
    "### Shared between RF, Quiescent and Mild "
   ]
  },
  {
   "cell_type": "code",
   "execution_count": null,
   "id": "d26eb86d-b432-48ee-b128-4736c900df53",
   "metadata": {
    "tags": []
   },
   "outputs": [],
   "source": [
    "shared = upset_df.loc[(True, True, False, True), 'protein'].tolist()\n",
    "for protein in shared:\n",
    "    fig, ax = da_boxplot(comp_protein_data, protein)"
   ]
  },
  {
   "cell_type": "markdown",
   "id": "844381d8-b4f4-4e75-b280-3ee91c745054",
   "metadata": {},
   "source": [
    "### Shared between RF, Mild and Moderate"
   ]
  },
  {
   "cell_type": "code",
   "execution_count": null,
   "id": "8d9a1b76-21ef-4080-badc-ac7aa0524c14",
   "metadata": {
    "tags": []
   },
   "outputs": [],
   "source": [
    "shared = upset_df.loc[(False, True, True, True), 'protein'].tolist()\n",
    "for protein in shared:\n",
    "    fig, ax = da_boxplot(comp_protein_data, protein)"
   ]
  },
  {
   "cell_type": "markdown",
   "id": "7ec5ce0f-f18b-4b73-89b5-cb1dd185407a",
   "metadata": {},
   "source": [
    "## Genes important only in RF "
   ]
  },
  {
   "cell_type": "code",
   "execution_count": null,
   "id": "b50216b8-3322-4109-913c-ea090e4a3d4a",
   "metadata": {
    "tags": []
   },
   "outputs": [],
   "source": [
    "shared = upset_df.loc[(False, False, False, True), 'protein'].tolist()\n",
    "for protein in shared:\n",
    "    fig, ax = da_boxplot(comp_protein_data, protein)"
   ]
  },
  {
   "cell_type": "code",
   "execution_count": null,
   "id": "3350546d-ac9b-4591-b324-71e0879f0e81",
   "metadata": {},
   "outputs": [],
   "source": []
  },
  {
   "cell_type": "code",
   "execution_count": null,
   "id": "921c1ea3-f0f9-4353-880a-42eb108edd4e",
   "metadata": {},
   "outputs": [],
   "source": []
  },
  {
   "cell_type": "code",
   "execution_count": null,
   "id": "6d3566ca-eb43-4b7c-bdd0-f7ff8b802fdf",
   "metadata": {},
   "outputs": [],
   "source": []
  }
 ],
 "metadata": {
  "kernelspec": {
   "display_name": "starter",
   "language": "python",
   "name": "starter"
  },
  "language_info": {
   "codemirror_mode": {
    "name": "ipython",
    "version": 3
   },
   "file_extension": ".py",
   "mimetype": "text/x-python",
   "name": "python",
   "nbconvert_exporter": "python",
   "pygments_lexer": "ipython3",
   "version": "3.11.10"
  }
 },
 "nbformat": 4,
 "nbformat_minor": 5
}

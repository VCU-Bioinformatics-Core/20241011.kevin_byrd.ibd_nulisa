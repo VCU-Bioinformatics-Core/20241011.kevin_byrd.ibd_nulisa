{
 "cells": [
  {
   "cell_type": "code",
   "execution_count": 1,
   "id": "0841cbee-1a9d-4c6e-94fc-e585afc96934",
   "metadata": {
    "tags": []
   },
   "outputs": [
    {
     "name": "stderr",
     "output_type": "stream",
     "text": [
      "── \u001b[1mAttaching core tidyverse packages\u001b[22m ──────────────────────── tidyverse 2.0.0 ──\n",
      "\u001b[32m✔\u001b[39m \u001b[34mdplyr    \u001b[39m 1.1.4     \u001b[32m✔\u001b[39m \u001b[34mpurrr    \u001b[39m 1.0.2\n",
      "\u001b[32m✔\u001b[39m \u001b[34mforcats  \u001b[39m 1.0.0     \u001b[32m✔\u001b[39m \u001b[34mreadr    \u001b[39m 2.1.5\n",
      "\u001b[32m✔\u001b[39m \u001b[34mggplot2  \u001b[39m 3.5.1     \u001b[32m✔\u001b[39m \u001b[34mstringr  \u001b[39m 1.5.1\n",
      "\u001b[32m✔\u001b[39m \u001b[34mlubridate\u001b[39m 1.9.3     \u001b[32m✔\u001b[39m \u001b[34mtibble   \u001b[39m 3.2.1\n",
      "── \u001b[1mConflicts\u001b[22m ────────────────────────────────────────── tidyverse_conflicts() ──\n",
      "\u001b[31m✖\u001b[39m \u001b[34mdplyr\u001b[39m::\u001b[32mfilter()\u001b[39m masks \u001b[34mstats\u001b[39m::filter()\n",
      "\u001b[31m✖\u001b[39m \u001b[34mdplyr\u001b[39m::\u001b[32mlag()\u001b[39m    masks \u001b[34mstats\u001b[39m::lag()\n",
      "\u001b[36mℹ\u001b[39m Use the conflicted package (\u001b[3m\u001b[34m<http://conflicted.r-lib.org/>\u001b[39m\u001b[23m) to force all conflicts to become errors\n"
     ]
    }
   ],
   "source": [
    "# suppress warnings globally\n",
    "options(warn = -1)\n",
    "\n",
    "# load libraries\n",
    "library(readxl)\n",
    "library(tidyr)\n",
    "library(tidyverse)\n",
    "\n",
    "# set working directory\n",
    "setwd('/lustre/home/reynaj/Projects/20241011.Byrd_Lab.IBD_NuLisa')\n",
    "\n",
    "# set the output directory\n",
    "outdir <- \"results/aggregated/comp_data/\""
   ]
  },
  {
   "cell_type": "markdown",
   "id": "e8e9f0be-f8b1-4384-9385-cf013e40b2c5",
   "metadata": {},
   "source": [
    "## Process the clinical data"
   ]
  },
  {
   "cell_type": "code",
   "execution_count": 2,
   "id": "5ffd0207-570e-4e36-8bc4-b8a4d7b95907",
   "metadata": {},
   "outputs": [],
   "source": [
    "# load clinical data\n",
    "fn <- \"results/raw/ADA_IBD_Saliva_Biospecimen Manifest Form-for-NULISA_241022.V2.Updated_Sample20.xlsx\"\n",
    "clinical_data <- read_excel(fn, sheet = \"Aliquot Information\")"
   ]
  },
  {
   "cell_type": "code",
   "execution_count": 3,
   "id": "3c1bb0eb-b6d3-44a7-9c52-ef33505bed2c",
   "metadata": {},
   "outputs": [],
   "source": [
    "# rename columns for programming use\n",
    "transform_string <- function(x) {\n",
    "  x <- tolower(x)            # Convert to lowercase\n",
    "  x <- gsub(\" \", \"_\", x)     # Replace spaces with \"_\"\n",
    "  x <- gsub(\"\\\\(\", \"_\", x)   # Replace \"(\" with \"_\"\n",
    "  x <- gsub(\"\\\\)\", \"\", x)    # Remove \")\"\n",
    "  return(x)\n",
    "}\n",
    "\n",
    "# Apply the function to the vector\n",
    "transformed_cols <- sapply(as.vector(colnames(clinical_data)), transform_string)\n",
    "colnames(clinical_data) <- transformed_cols"
   ]
  },
  {
   "cell_type": "code",
   "execution_count": 4,
   "id": "3402f29f-c526-4d7f-aa9d-9db036f1eba4",
   "metadata": {},
   "outputs": [],
   "source": [
    "# remove nan samples\n",
    "clinical_data <- clinical_data[!is.na(clinical_data$project_name),]\n",
    "clinical_sample_names = clinical_data$original_subject_id"
   ]
  },
  {
   "cell_type": "code",
   "execution_count": 5,
   "id": "4c845527-933c-47de-9c8d-bd7af8c058bc",
   "metadata": {},
   "outputs": [],
   "source": [
    "# Create a new row as a dataframe\n",
    "new_row <- data.frame(\n",
    "  original_subject_id = c(\"SC_Rep01\", \"SC_Rep02\", \"SC_Rep03\"),\n",
    "  sample_id = c(\"SC_Rep01\", \"SC_Rep02\", \"SC_Rep03\"),\n",
    "  ibd_diagnosis = c(\"Alamar_Sample_Control\", \"Alamar_Sample_Control\", \"Alamar_Sample_Control\"),\n",
    "  disease_activity = c(\"N/A\", \"N/A\", \"N/A\"),\n",
    "  matched_subject_id = c(999, 999, 999)\n",
    ")"
   ]
  },
  {
   "cell_type": "code",
   "execution_count": 6,
   "id": "cea77eab-30e3-4cfe-baff-3d269488fe73",
   "metadata": {},
   "outputs": [],
   "source": [
    "# Add the new row to the dataframe\n",
    "clinical_data <- bind_rows(clinical_data, new_row)"
   ]
  },
  {
   "cell_type": "code",
   "execution_count": 7,
   "id": "17005dd2-4ec0-4474-867a-a864a4ab5770",
   "metadata": {},
   "outputs": [],
   "source": [
    "# def indicator function\n",
    "get_indicator <- function(x, check_list, categories) {\n",
    "  \n",
    "  if (x %in% check_list) {\n",
    "    return(categories[[1]])\n",
    "  } \n",
    "  else {\n",
    "    return(categories[[2]])\n",
    "  }\n",
    "}\n",
    "\n",
    "# add ibd disease indicator\n",
    "ibd_check_list = c(\"CD\", \"UC\", \"IBD-U\")\n",
    "ibd_indicator <- sapply(as.vector(clinical_data$ibd_diagnosis), get_indicator, check_list=ibd_check_list, categories=c(\"IBD Super Group\", \"Control Super Group\"))\n",
    "clinical_data$ibd_indicator <- ibd_indicator\n",
    "\n",
    "# add disease activity indicator\n",
    "da_check_list = c(\"Moderate\", \"Mild\")\n",
    "da_indicator <- sapply(as.vector(clinical_data$disease_activity), get_indicator, check_list=da_check_list, categories=c(\"Active Disease\", \"In-active Disease\"))\n",
    "clinical_data$disease_activity_indicator <- da_indicator"
   ]
  },
  {
   "cell_type": "code",
   "execution_count": 8,
   "id": "b3e389aa-8e45-4178-bd30-ba40d5722034",
   "metadata": {},
   "outputs": [
    {
     "data": {
      "text/html": [
       "<table class=\"dataframe\">\n",
       "<caption>A tibble: 3 × 16</caption>\n",
       "<thead>\n",
       "\t<tr><th scope=col>project_name</th><th scope=col>sample_type</th><th scope=col>sample_id</th><th scope=col>collection_date</th><th scope=col>box_id</th><th scope=col>box_location</th><th scope=col>total_volume__ml</th><th scope=col>original_subject_id</th><th scope=col>event_name</th><th scope=col>ibd_diagnosis</th><th scope=col>date_collection</th><th scope=col>disease_activity</th><th scope=col>matched_subject_id</th><th scope=col>notes</th><th scope=col>ibd_indicator</th><th scope=col>disease_activity_indicator</th></tr>\n",
       "\t<tr><th scope=col>&lt;chr&gt;</th><th scope=col>&lt;chr&gt;</th><th scope=col>&lt;chr&gt;</th><th scope=col>&lt;dttm&gt;</th><th scope=col>&lt;dbl&gt;</th><th scope=col>&lt;chr&gt;</th><th scope=col>&lt;dbl&gt;</th><th scope=col>&lt;chr&gt;</th><th scope=col>&lt;dbl&gt;</th><th scope=col>&lt;chr&gt;</th><th scope=col>&lt;dttm&gt;</th><th scope=col>&lt;chr&gt;</th><th scope=col>&lt;dbl&gt;</th><th scope=col>&lt;chr&gt;</th><th scope=col>&lt;chr&gt;</th><th scope=col>&lt;chr&gt;</th></tr>\n",
       "</thead>\n",
       "<tbody>\n",
       "\t<tr><td>Byrd_IBD_Saliva_sup</td><td>Saliva</td><td>TRP-34082</td><td>2023-11-30 15:34:05</td><td>1</td><td>A1</td><td>1100</td><td>TRP-34082</td><td>1</td><td>CD</td><td>2023-11-30</td><td>Quiescent</td><td>1</td><td>NA</td><td>IBD Super Group</td><td>In-active Disease</td></tr>\n",
       "\t<tr><td>Byrd_IBD_Saliva_sup</td><td>Saliva</td><td>TRP-34086</td><td>2023-11-30 15:34:05</td><td>1</td><td>A2</td><td>1100</td><td>TRP-34086</td><td>1</td><td>CD</td><td>2023-11-30</td><td>Quiescent</td><td>3</td><td>NA</td><td>IBD Super Group</td><td>In-active Disease</td></tr>\n",
       "\t<tr><td>Byrd_IBD_Saliva_sup</td><td>Saliva</td><td>TRP-42335</td><td>2023-12-20 16:51:00</td><td>1</td><td>A3</td><td>1000</td><td>TRP-42335</td><td>1</td><td>CD</td><td>2023-12-20</td><td>Quiescent</td><td>7</td><td>NA</td><td>IBD Super Group</td><td>In-active Disease</td></tr>\n",
       "</tbody>\n",
       "</table>\n"
      ],
      "text/latex": [
       "A tibble: 3 × 16\n",
       "\\begin{tabular}{llllllllllllllll}\n",
       " project\\_name & sample\\_type & sample\\_id & collection\\_date & box\\_id & box\\_location & total\\_volume\\_\\_ml & original\\_subject\\_id & event\\_name & ibd\\_diagnosis & date\\_collection & disease\\_activity & matched\\_subject\\_id & notes & ibd\\_indicator & disease\\_activity\\_indicator\\\\\n",
       " <chr> & <chr> & <chr> & <dttm> & <dbl> & <chr> & <dbl> & <chr> & <dbl> & <chr> & <dttm> & <chr> & <dbl> & <chr> & <chr> & <chr>\\\\\n",
       "\\hline\n",
       "\t Byrd\\_IBD\\_Saliva\\_sup & Saliva & TRP-34082 & 2023-11-30 15:34:05 & 1 & A1 & 1100 & TRP-34082 & 1 & CD & 2023-11-30 & Quiescent & 1 & NA & IBD Super Group & In-active Disease\\\\\n",
       "\t Byrd\\_IBD\\_Saliva\\_sup & Saliva & TRP-34086 & 2023-11-30 15:34:05 & 1 & A2 & 1100 & TRP-34086 & 1 & CD & 2023-11-30 & Quiescent & 3 & NA & IBD Super Group & In-active Disease\\\\\n",
       "\t Byrd\\_IBD\\_Saliva\\_sup & Saliva & TRP-42335 & 2023-12-20 16:51:00 & 1 & A3 & 1000 & TRP-42335 & 1 & CD & 2023-12-20 & Quiescent & 7 & NA & IBD Super Group & In-active Disease\\\\\n",
       "\\end{tabular}\n"
      ],
      "text/markdown": [
       "\n",
       "A tibble: 3 × 16\n",
       "\n",
       "| project_name &lt;chr&gt; | sample_type &lt;chr&gt; | sample_id &lt;chr&gt; | collection_date &lt;dttm&gt; | box_id &lt;dbl&gt; | box_location &lt;chr&gt; | total_volume__ml &lt;dbl&gt; | original_subject_id &lt;chr&gt; | event_name &lt;dbl&gt; | ibd_diagnosis &lt;chr&gt; | date_collection &lt;dttm&gt; | disease_activity &lt;chr&gt; | matched_subject_id &lt;dbl&gt; | notes &lt;chr&gt; | ibd_indicator &lt;chr&gt; | disease_activity_indicator &lt;chr&gt; |\n",
       "|---|---|---|---|---|---|---|---|---|---|---|---|---|---|---|---|\n",
       "| Byrd_IBD_Saliva_sup | Saliva | TRP-34082 | 2023-11-30 15:34:05 | 1 | A1 | 1100 | TRP-34082 | 1 | CD | 2023-11-30 | Quiescent | 1 | NA | IBD Super Group | In-active Disease |\n",
       "| Byrd_IBD_Saliva_sup | Saliva | TRP-34086 | 2023-11-30 15:34:05 | 1 | A2 | 1100 | TRP-34086 | 1 | CD | 2023-11-30 | Quiescent | 3 | NA | IBD Super Group | In-active Disease |\n",
       "| Byrd_IBD_Saliva_sup | Saliva | TRP-42335 | 2023-12-20 16:51:00 | 1 | A3 | 1000 | TRP-42335 | 1 | CD | 2023-12-20 | Quiescent | 7 | NA | IBD Super Group | In-active Disease |\n",
       "\n"
      ],
      "text/plain": [
       "  project_name        sample_type sample_id collection_date     box_id\n",
       "1 Byrd_IBD_Saliva_sup Saliva      TRP-34082 2023-11-30 15:34:05 1     \n",
       "2 Byrd_IBD_Saliva_sup Saliva      TRP-34086 2023-11-30 15:34:05 1     \n",
       "3 Byrd_IBD_Saliva_sup Saliva      TRP-42335 2023-12-20 16:51:00 1     \n",
       "  box_location total_volume__ml original_subject_id event_name ibd_diagnosis\n",
       "1 A1           1100             TRP-34082           1          CD           \n",
       "2 A2           1100             TRP-34086           1          CD           \n",
       "3 A3           1000             TRP-42335           1          CD           \n",
       "  date_collection disease_activity matched_subject_id notes ibd_indicator  \n",
       "1 2023-11-30      Quiescent        1                  NA    IBD Super Group\n",
       "2 2023-11-30      Quiescent        3                  NA    IBD Super Group\n",
       "3 2023-12-20      Quiescent        7                  NA    IBD Super Group\n",
       "  disease_activity_indicator\n",
       "1 In-active Disease         \n",
       "2 In-active Disease         \n",
       "3 In-active Disease         "
      ]
     },
     "metadata": {},
     "output_type": "display_data"
    }
   ],
   "source": [
    "clinical_data[1:3,]"
   ]
  },
  {
   "cell_type": "markdown",
   "id": "1aaa8d67-2146-470c-80b8-5b3d9645e6e3",
   "metadata": {},
   "source": [
    "## Process the protein levels"
   ]
  },
  {
   "cell_type": "code",
   "execution_count": 9,
   "id": "53d5d0f4-3521-4387-a7b0-c9690e68061e",
   "metadata": {
    "tags": []
   },
   "outputs": [],
   "source": [
    "# load assay data\n",
    "fn <- \"results/raw/P-000458_ADA_NULISAseq_Inflammation Panel_1-NPQ Counts_2-Target Detectability_3-Sample Information_2024_08_26.xlsx\"\n",
    "data <- read_excel(fn, sheet = \"NPQ Counts\");\n",
    "\n",
    "# remove the pattern [A-Z]_[0-9]+\n",
    "new_sample_names <- gsub(\"[A-Z]_[0-9]+_\", \"\", data$SampleName)\n",
    "data$SampleName <- new_sample_names"
   ]
  },
  {
   "cell_type": "code",
   "execution_count": 10,
   "id": "a14f5871-a8b8-453b-851a-0fcbb45867cf",
   "metadata": {},
   "outputs": [],
   "source": [
    "# pivot the data to make a matrix\n",
    "wide_data <- data %>% pivot_wider(id_cols = SampleName, names_from = Target, values_from = NPQ)\n",
    "\n",
    "# join with the wetlab data to aggregate replicate values\n",
    "wide_data <- wide_data %>% left_join(clinical_data, by=c(\"SampleName\" = \"original_subject_id\"))\n",
    "\n",
    "# aggregate protein levels on matched_subject_id\n",
    "wide_data <- wide_data %>%\n",
    "  group_by(matched_subject_id) %>%\n",
    "  summarise(across(where(is.numeric), mean, na.rm = TRUE))\n",
    "\n",
    "# get a final/shared protein list\n",
    "prot_targets <- c(\"matched_subject_id\", unique(data$Target))\n",
    "final_prot_targets <- prot_targets[prot_targets %in% colnames(wide_data)]\n",
    "\n",
    "# filter by this final list\n",
    "wide_data <- wide_data[, final_prot_targets]"
   ]
  },
  {
   "cell_type": "code",
   "execution_count": 11,
   "id": "8987d773-acb4-4929-9107-42ed847e00cf",
   "metadata": {},
   "outputs": [],
   "source": [
    "# transpose the data to be in the correct format for limma\n",
    "# rows = genes\n",
    "# columns = samples\n",
    "t_data = t(wide_data)\n",
    "\n",
    "# clean up the first row\n",
    "colnames(t_data) <- t_data[1,]\n",
    "t_data <- t_data[-1,]\n",
    "\n",
    "# save\n",
    "outfn <- file.path(outdir, \"protein_levels.npq.tsv\")\n",
    "write.table(t_data, outfn, sep = \"\\t\", col.names = TRUE, quote=FALSE)"
   ]
  },
  {
   "cell_type": "code",
   "execution_count": 12,
   "id": "8121c7e8-4cc3-4da1-af85-528351879581",
   "metadata": {},
   "outputs": [
    {
     "data": {
      "text/html": [
       "<table class=\"dataframe\">\n",
       "<caption>A matrix: 3 × 62 of type dbl</caption>\n",
       "<thead>\n",
       "\t<tr><th></th><th scope=col>1</th><th scope=col>3</th><th scope=col>4</th><th scope=col>5</th><th scope=col>6</th><th scope=col>7</th><th scope=col>8</th><th scope=col>9</th><th scope=col>10</th><th scope=col>11</th><th scope=col>⋯</th><th scope=col>56</th><th scope=col>57</th><th scope=col>58</th><th scope=col>59</th><th scope=col>61</th><th scope=col>63</th><th scope=col>64</th><th scope=col>67</th><th scope=col>201</th><th scope=col>999</th></tr>\n",
       "</thead>\n",
       "<tbody>\n",
       "\t<tr><th scope=row>AGER</th><td> 5.493463</td><td> 5.58393</td><td> 8.194804</td><td> 6.063246</td><td> 2.699240</td><td> 6.46910</td><td> 5.507946</td><td> 3.547912</td><td> 0.00000</td><td> 6.089471</td><td>⋯</td><td> 0.00000</td><td> 5.509312</td><td> 0.000000</td><td> 7.240361</td><td> 8.127315</td><td> 6.178675</td><td> 0.000000</td><td> 7.956293</td><td> 7.745765</td><td>13.15700</td></tr>\n",
       "\t<tr><th scope=row>AGRP</th><td> 8.765074</td><td>10.49972</td><td>11.190956</td><td> 9.749962</td><td> 7.201741</td><td>11.61736</td><td> 8.958267</td><td> 9.236556</td><td>10.76013</td><td>10.918441</td><td>⋯</td><td>11.42757</td><td>10.696368</td><td> 7.636685</td><td>10.421485</td><td> 9.255260</td><td> 9.750478</td><td> 9.101757</td><td>11.251740</td><td>10.561049</td><td>12.59489</td></tr>\n",
       "\t<tr><th scope=row>ANGPT1</th><td>15.762125</td><td>16.95419</td><td>16.759397</td><td>19.285812</td><td>17.125303</td><td>17.49572</td><td>15.013518</td><td>16.140030</td><td>14.50187</td><td>17.668777</td><td>⋯</td><td>13.85228</td><td>17.370012</td><td>16.297275</td><td>16.403978</td><td>16.844907</td><td>18.141203</td><td>17.822363</td><td>18.138904</td><td>16.187780</td><td>13.15632</td></tr>\n",
       "</tbody>\n",
       "</table>\n"
      ],
      "text/latex": [
       "A matrix: 3 × 62 of type dbl\n",
       "\\begin{tabular}{r|lllllllllllllllllllll}\n",
       "  & 1 & 3 & 4 & 5 & 6 & 7 & 8 & 9 & 10 & 11 & ⋯ & 56 & 57 & 58 & 59 & 61 & 63 & 64 & 67 & 201 & 999\\\\\n",
       "\\hline\n",
       "\tAGER &  5.493463 &  5.58393 &  8.194804 &  6.063246 &  2.699240 &  6.46910 &  5.507946 &  3.547912 &  0.00000 &  6.089471 & ⋯ &  0.00000 &  5.509312 &  0.000000 &  7.240361 &  8.127315 &  6.178675 &  0.000000 &  7.956293 &  7.745765 & 13.15700\\\\\n",
       "\tAGRP &  8.765074 & 10.49972 & 11.190956 &  9.749962 &  7.201741 & 11.61736 &  8.958267 &  9.236556 & 10.76013 & 10.918441 & ⋯ & 11.42757 & 10.696368 &  7.636685 & 10.421485 &  9.255260 &  9.750478 &  9.101757 & 11.251740 & 10.561049 & 12.59489\\\\\n",
       "\tANGPT1 & 15.762125 & 16.95419 & 16.759397 & 19.285812 & 17.125303 & 17.49572 & 15.013518 & 16.140030 & 14.50187 & 17.668777 & ⋯ & 13.85228 & 17.370012 & 16.297275 & 16.403978 & 16.844907 & 18.141203 & 17.822363 & 18.138904 & 16.187780 & 13.15632\\\\\n",
       "\\end{tabular}\n"
      ],
      "text/markdown": [
       "\n",
       "A matrix: 3 × 62 of type dbl\n",
       "\n",
       "| <!--/--> | 1 | 3 | 4 | 5 | 6 | 7 | 8 | 9 | 10 | 11 | ⋯ | 56 | 57 | 58 | 59 | 61 | 63 | 64 | 67 | 201 | 999 |\n",
       "|---|---|---|---|---|---|---|---|---|---|---|---|---|---|---|---|---|---|---|---|---|---|\n",
       "| AGER |  5.493463 |  5.58393 |  8.194804 |  6.063246 |  2.699240 |  6.46910 |  5.507946 |  3.547912 |  0.00000 |  6.089471 | ⋯ |  0.00000 |  5.509312 |  0.000000 |  7.240361 |  8.127315 |  6.178675 |  0.000000 |  7.956293 |  7.745765 | 13.15700 |\n",
       "| AGRP |  8.765074 | 10.49972 | 11.190956 |  9.749962 |  7.201741 | 11.61736 |  8.958267 |  9.236556 | 10.76013 | 10.918441 | ⋯ | 11.42757 | 10.696368 |  7.636685 | 10.421485 |  9.255260 |  9.750478 |  9.101757 | 11.251740 | 10.561049 | 12.59489 |\n",
       "| ANGPT1 | 15.762125 | 16.95419 | 16.759397 | 19.285812 | 17.125303 | 17.49572 | 15.013518 | 16.140030 | 14.50187 | 17.668777 | ⋯ | 13.85228 | 17.370012 | 16.297275 | 16.403978 | 16.844907 | 18.141203 | 17.822363 | 18.138904 | 16.187780 | 13.15632 |\n",
       "\n"
      ],
      "text/plain": [
       "       1         3        4         5         6         7        8        \n",
       "AGER    5.493463  5.58393  8.194804  6.063246  2.699240  6.46910  5.507946\n",
       "AGRP    8.765074 10.49972 11.190956  9.749962  7.201741 11.61736  8.958267\n",
       "ANGPT1 15.762125 16.95419 16.759397 19.285812 17.125303 17.49572 15.013518\n",
       "       9         10       11        ⋯ 56       57        58        59       \n",
       "AGER    3.547912  0.00000  6.089471 ⋯  0.00000  5.509312  0.000000  7.240361\n",
       "AGRP    9.236556 10.76013 10.918441 ⋯ 11.42757 10.696368  7.636685 10.421485\n",
       "ANGPT1 16.140030 14.50187 17.668777 ⋯ 13.85228 17.370012 16.297275 16.403978\n",
       "       61        63        64        67        201       999     \n",
       "AGER    8.127315  6.178675  0.000000  7.956293  7.745765 13.15700\n",
       "AGRP    9.255260  9.750478  9.101757 11.251740 10.561049 12.59489\n",
       "ANGPT1 16.844907 18.141203 17.822363 18.138904 16.187780 13.15632"
      ]
     },
     "metadata": {},
     "output_type": "display_data"
    }
   ],
   "source": [
    "t_data[1:3,]"
   ]
  },
  {
   "cell_type": "markdown",
   "id": "30cb937e-e60f-46bd-bc51-e4817af82c10",
   "metadata": {},
   "source": [
    "## Harmonized and save data"
   ]
  },
  {
   "cell_type": "code",
   "execution_count": 13,
   "id": "6a54dec9-5324-4aed-b1f8-720beb082202",
   "metadata": {},
   "outputs": [],
   "source": [
    "# aggregate the clinical data\n",
    "final_clinical_data <- clinical_data %>%\n",
    "  group_by(matched_subject_id) %>%\n",
    "  slice_max(order_by = event_name, with_ties = FALSE)\n",
    "\n",
    "# order the dataframe based on the order of new sample names\n",
    "final_clinical_data <- final_clinical_data[match(colnames(t_data), final_clinical_data$matched_subject_id), ]\n",
    "\n",
    "# save \n",
    "outfn <- file.path(outdir, \"clinical_data.tsv\")\n",
    "write.table(final_clinical_data, outfn, sep = \"\\t\", col.names = TRUE, row.names=FALSE, quote=FALSE)"
   ]
  },
  {
   "cell_type": "code",
   "execution_count": null,
   "id": "70d266f2-8dfd-42b3-9341-f7ba39673912",
   "metadata": {},
   "outputs": [],
   "source": []
  }
 ],
 "metadata": {
  "kernelspec": {
   "display_name": "R-starter",
   "language": "R",
   "name": "r-starter"
  },
  "language_info": {
   "codemirror_mode": "r",
   "file_extension": ".r",
   "mimetype": "text/x-r-source",
   "name": "R",
   "pygments_lexer": "r",
   "version": "4.4.1"
  }
 },
 "nbformat": 4,
 "nbformat_minor": 5
}

{
 "cells": [
  {
   "cell_type": "code",
   "execution_count": 32,
   "id": "0841cbee-1a9d-4c6e-94fc-e585afc96934",
   "metadata": {
    "tags": [],
    "vscode": {
     "languageId": "r"
    }
   },
   "outputs": [],
   "source": [
    "library(readxl)\n",
    "library(tidyr)\n",
    "library(tidyverse)\n",
    "library(caret)\n",
    "\n",
    "# Suppress warnings globally\n",
    "options(warn = -1)\n",
    "\n",
    "# set working directory\n",
    "setwd('/lustre/home/reynaj/Projects/20241011.Byrd_Lab.IBD_NuLisa')"
   ]
  },
  {
   "cell_type": "markdown",
   "id": "88cf8102-503a-4469-951a-b332c63572b3",
   "metadata": {},
   "source": [
    "## Process the protein levels"
   ]
  },
  {
   "cell_type": "code",
   "execution_count": 33,
   "id": "53d5d0f4-3521-4387-a7b0-c9690e68061e",
   "metadata": {
    "tags": [],
    "vscode": {
     "languageId": "r"
    }
   },
   "outputs": [],
   "source": [
    "# load assay data\n",
    "fn <- \"results/raw/P-000458_ADA_NULISAseq_Inflammation Panel_1-NPQ Counts_2-Target Detectability_3-Sample Information_2024_08_26.xlsx\"\n",
    "data <- read_excel(fn, sheet = \"NPQ Counts\");"
   ]
  },
  {
   "cell_type": "code",
   "execution_count": 34,
   "id": "51c3213a-7917-4b9b-aaab-dce4f5da5c62",
   "metadata": {
    "tags": [],
    "vscode": {
     "languageId": "r"
    }
   },
   "outputs": [
    {
     "data": {
      "text/html": [
       "<table class=\"dataframe\">\n",
       "<caption>A tibble: 3 × 12</caption>\n",
       "<thead>\n",
       "\t<tr><th scope=col>Panel</th><th scope=col>PanelLotNumber</th><th scope=col>PlateID</th><th scope=col>SampleName</th><th scope=col>SampleType</th><th scope=col>Target</th><th scope=col>AlamarTargetID</th><th scope=col>UniProtID</th><th scope=col>ProteinName</th><th scope=col>SampleQC</th><th scope=col>LOD</th><th scope=col>NPQ</th></tr>\n",
       "\t<tr><th scope=col>&lt;chr&gt;</th><th scope=col>&lt;chr&gt;</th><th scope=col>&lt;chr&gt;</th><th scope=col>&lt;chr&gt;</th><th scope=col>&lt;chr&gt;</th><th scope=col>&lt;chr&gt;</th><th scope=col>&lt;chr&gt;</th><th scope=col>&lt;chr&gt;</th><th scope=col>&lt;chr&gt;</th><th scope=col>&lt;chr&gt;</th><th scope=col>&lt;dbl&gt;</th><th scope=col>&lt;dbl&gt;</th></tr>\n",
       "</thead>\n",
       "<tbody>\n",
       "\t<tr><td>200-Plex Inflammation Panel v2</td><td>panelLot022</td><td>Plate_01</td><td>A_01_TRP-34082</td><td>Sample</td><td>AGER</td><td>t5521</td><td>Q15109</td><td>Advanced glycosylation end product-specific receptor</td><td>PASS</td><td>0</td><td>5.493463</td></tr>\n",
       "\t<tr><td>200-Plex Inflammation Panel v2</td><td>panelLot022</td><td>Plate_01</td><td>A_02_TRP-34086</td><td>Sample</td><td>AGER</td><td>t5521</td><td>Q15109</td><td>Advanced glycosylation end product-specific receptor</td><td>PASS</td><td>0</td><td>4.453723</td></tr>\n",
       "\t<tr><td>200-Plex Inflammation Panel v2</td><td>panelLot022</td><td>Plate_01</td><td>A_03_TRP-42335</td><td>Sample</td><td>AGER</td><td>t5521</td><td>Q15109</td><td>Advanced glycosylation end product-specific receptor</td><td>PASS</td><td>0</td><td>6.469100</td></tr>\n",
       "</tbody>\n",
       "</table>\n"
      ],
      "text/latex": [
       "A tibble: 3 × 12\n",
       "\\begin{tabular}{llllllllllll}\n",
       " Panel & PanelLotNumber & PlateID & SampleName & SampleType & Target & AlamarTargetID & UniProtID & ProteinName & SampleQC & LOD & NPQ\\\\\n",
       " <chr> & <chr> & <chr> & <chr> & <chr> & <chr> & <chr> & <chr> & <chr> & <chr> & <dbl> & <dbl>\\\\\n",
       "\\hline\n",
       "\t 200-Plex Inflammation Panel v2 & panelLot022 & Plate\\_01 & A\\_01\\_TRP-34082 & Sample & AGER & t5521 & Q15109 & Advanced glycosylation end product-specific receptor & PASS & 0 & 5.493463\\\\\n",
       "\t 200-Plex Inflammation Panel v2 & panelLot022 & Plate\\_01 & A\\_02\\_TRP-34086 & Sample & AGER & t5521 & Q15109 & Advanced glycosylation end product-specific receptor & PASS & 0 & 4.453723\\\\\n",
       "\t 200-Plex Inflammation Panel v2 & panelLot022 & Plate\\_01 & A\\_03\\_TRP-42335 & Sample & AGER & t5521 & Q15109 & Advanced glycosylation end product-specific receptor & PASS & 0 & 6.469100\\\\\n",
       "\\end{tabular}\n"
      ],
      "text/markdown": [
       "\n",
       "A tibble: 3 × 12\n",
       "\n",
       "| Panel &lt;chr&gt; | PanelLotNumber &lt;chr&gt; | PlateID &lt;chr&gt; | SampleName &lt;chr&gt; | SampleType &lt;chr&gt; | Target &lt;chr&gt; | AlamarTargetID &lt;chr&gt; | UniProtID &lt;chr&gt; | ProteinName &lt;chr&gt; | SampleQC &lt;chr&gt; | LOD &lt;dbl&gt; | NPQ &lt;dbl&gt; |\n",
       "|---|---|---|---|---|---|---|---|---|---|---|---|\n",
       "| 200-Plex Inflammation Panel v2 | panelLot022 | Plate_01 | A_01_TRP-34082 | Sample | AGER | t5521 | Q15109 | Advanced glycosylation end product-specific receptor | PASS | 0 | 5.493463 |\n",
       "| 200-Plex Inflammation Panel v2 | panelLot022 | Plate_01 | A_02_TRP-34086 | Sample | AGER | t5521 | Q15109 | Advanced glycosylation end product-specific receptor | PASS | 0 | 4.453723 |\n",
       "| 200-Plex Inflammation Panel v2 | panelLot022 | Plate_01 | A_03_TRP-42335 | Sample | AGER | t5521 | Q15109 | Advanced glycosylation end product-specific receptor | PASS | 0 | 6.469100 |\n",
       "\n"
      ],
      "text/plain": [
       "  Panel                          PanelLotNumber PlateID  SampleName    \n",
       "1 200-Plex Inflammation Panel v2 panelLot022    Plate_01 A_01_TRP-34082\n",
       "2 200-Plex Inflammation Panel v2 panelLot022    Plate_01 A_02_TRP-34086\n",
       "3 200-Plex Inflammation Panel v2 panelLot022    Plate_01 A_03_TRP-42335\n",
       "  SampleType Target AlamarTargetID UniProtID\n",
       "1 Sample     AGER   t5521          Q15109   \n",
       "2 Sample     AGER   t5521          Q15109   \n",
       "3 Sample     AGER   t5521          Q15109   \n",
       "  ProteinName                                          SampleQC LOD NPQ     \n",
       "1 Advanced glycosylation end product-specific receptor PASS     0   5.493463\n",
       "2 Advanced glycosylation end product-specific receptor PASS     0   4.453723\n",
       "3 Advanced glycosylation end product-specific receptor PASS     0   6.469100"
      ]
     },
     "metadata": {},
     "output_type": "display_data"
    }
   ],
   "source": [
    "data[1:3,]"
   ]
  },
  {
   "cell_type": "code",
   "execution_count": 35,
   "id": "fd74b5ff-5c10-4c18-b4c1-bc1a473c112b",
   "metadata": {
    "vscode": {
     "languageId": "r"
    }
   },
   "outputs": [],
   "source": [
    "# pivot the data to make a matrix\n",
    "wide_data <- data %>% pivot_wider(id_cols = SampleName, names_from = Target, values_from = NPQ)\n",
    "\n",
    "# transpose the data to be in the correct format for limma\n",
    "# rows = genes\n",
    "# columns = samples\n",
    "t_data = t(wide_data)\n",
    "\n",
    "# clean up the first row\n",
    "colnames(t_data) <- t_data[1,]\n",
    "t_data <- as.data.frame(t_data[-1,])\n",
    "\n",
    "# get the column names\n",
    "sample_names <- colnames(t_data)\n",
    "\n",
    "# remove the pattern [A-Z]_[0-9]+\n",
    "new_sample_names <- gsub(\"[A-Z]_[0-9]+_\", \"\", sample_names)\n",
    "\n",
    "# assign the new column names back to the data frame\n",
    "colnames(t_data) <- new_sample_names"
   ]
  },
  {
   "cell_type": "code",
   "execution_count": 36,
   "id": "7a96deff",
   "metadata": {
    "vscode": {
     "languageId": "r"
    }
   },
   "outputs": [
    {
     "data": {
      "text/html": [
       "<dl>\n",
       "\t<dt>$freqRatio</dt>\n",
       "\t\t<dd>1823.5</dd>\n",
       "\t<dt>$percentUnique</dt>\n",
       "\t\t<dd>23113.4831460674</dd>\n",
       "\t<dt>$zeroVar</dt>\n",
       "\t\t<dd>0</dd>\n",
       "\t<dt>$nzv</dt>\n",
       "\t\t<dd>0</dd>\n",
       "</dl>\n"
      ],
      "text/latex": [
       "\\begin{description}\n",
       "\\item[\\$freqRatio] 1823.5\n",
       "\\item[\\$percentUnique] 23113.4831460674\n",
       "\\item[\\$zeroVar] 0\n",
       "\\item[\\$nzv] 0\n",
       "\\end{description}\n"
      ],
      "text/markdown": [
       "$freqRatio\n",
       ":   1823.5\n",
       "$percentUnique\n",
       ":   23113.4831460674\n",
       "$zeroVar\n",
       ":   0\n",
       "$nzv\n",
       ":   0\n",
       "\n",
       "\n"
      ],
      "text/plain": [
       "$freqRatio\n",
       "[1] 1823.5\n",
       "\n",
       "$percentUnique\n",
       "[1] 23113.48\n",
       "\n",
       "$zeroVar\n",
       "[1] 0\n",
       "\n",
       "$nzv\n",
       "[1] 0\n"
      ]
     },
     "metadata": {},
     "output_type": "display_data"
    }
   ],
   "source": [
    "\n",
    "# # check near zero variance # didn't find any zeroVar nor nzv\n",
    "nzv_info <- nearZeroVar(t(t_data), saveMetrics = TRUE)\n",
    "lapply(nzv_info, sum)\n"
   ]
  },
  {
   "cell_type": "code",
   "execution_count": 37,
   "id": "46e69865",
   "metadata": {
    "vscode": {
     "languageId": "r"
    }
   },
   "outputs": [],
   "source": [
    "write.table(t_data, \"results/specimen_focused/comp_data/protein_levels.npq.tsv\", sep = \"\\t\", col.names = TRUE, quote=FALSE)"
   ]
  },
  {
   "cell_type": "markdown",
   "id": "e8e9f0be-f8b1-4384-9385-cf013e40b2c5",
   "metadata": {},
   "source": [
    "## Process the clinical data"
   ]
  },
  {
   "cell_type": "code",
   "execution_count": 38,
   "id": "5ffd0207-570e-4e36-8bc4-b8a4d7b95907",
   "metadata": {
    "vscode": {
     "languageId": "r"
    }
   },
   "outputs": [],
   "source": [
    "# load clinical data\n",
    "fn <- \"results/raw/ADA_IBD_Saliva_Biospecimen Manifest Form-for-NULISA_241022.V2.Updated_Sample20.xlsx\"\n",
    "clinical_data <- read_excel(fn, sheet = \"Aliquot Information\")"
   ]
  },
  {
   "cell_type": "code",
   "execution_count": 39,
   "id": "3c1bb0eb-b6d3-44a7-9c52-ef33505bed2c",
   "metadata": {
    "vscode": {
     "languageId": "r"
    }
   },
   "outputs": [],
   "source": [
    "# rename columns for programming use\n",
    "transform_string <- function(x) {\n",
    "  x <- tolower(x)            # Convert to lowercase\n",
    "  x <- gsub(\" \", \"_\", x)     # Replace spaces with \"_\"\n",
    "  x <- gsub(\"\\\\(\", \"_\", x)   # Replace \"(\" with \"_\"\n",
    "  x <- gsub(\"\\\\)\", \"\", x)    # Remove \")\"\n",
    "  return(x)\n",
    "}\n",
    "\n",
    "# Apply the function to the vector\n",
    "transformed_cols <- sapply(as.vector(colnames(clinical_data)), transform_string)\n",
    "colnames(clinical_data) <- transformed_cols"
   ]
  },
  {
   "cell_type": "code",
   "execution_count": 40,
   "id": "3402f29f-c526-4d7f-aa9d-9db036f1eba4",
   "metadata": {
    "vscode": {
     "languageId": "r"
    }
   },
   "outputs": [],
   "source": [
    "# remove nan samples\n",
    "clinical_data <- clinical_data[!is.na(clinical_data$project_name),]\n",
    "clinical_sample_names = clinical_data$original_subject_id"
   ]
  },
  {
   "cell_type": "code",
   "execution_count": 41,
   "id": "4c845527-933c-47de-9c8d-bd7af8c058bc",
   "metadata": {
    "vscode": {
     "languageId": "r"
    }
   },
   "outputs": [],
   "source": [
    "# Create a new row as a dataframe\n",
    "new_row <- data.frame(\n",
    "  original_subject_id = c(\"SC_Rep01\", \"SC_Rep02\", \"SC_Rep03\"),\n",
    "  sample_id = c(\"SC_Rep01\", \"SC_Rep02\", \"SC_Rep03\"),\n",
    "  ibd_diagnosis = c(\"Alamar_Sample_Control\", \"Alamar_Sample_Control\", \"Alamar_Sample_Control\"),\n",
    "  disease_activity = c(\"N/A\", \"N/A\", \"N/A\")\n",
    ")"
   ]
  },
  {
   "cell_type": "code",
   "execution_count": 42,
   "id": "cea77eab-30e3-4cfe-baff-3d269488fe73",
   "metadata": {
    "vscode": {
     "languageId": "r"
    }
   },
   "outputs": [],
   "source": [
    "# Add the new row to the dataframe\n",
    "clinical_data <- bind_rows(clinical_data, new_row)\n",
    "\n",
    "# order the dataframe based on the order of new sample names\n",
    "clinical_data <- clinical_data[match(new_sample_names, clinical_data$original_subject_id), ]"
   ]
  },
  {
   "cell_type": "code",
   "execution_count": 43,
   "id": "17005dd2-4ec0-4474-867a-a864a4ab5770",
   "metadata": {
    "vscode": {
     "languageId": "r"
    }
   },
   "outputs": [],
   "source": [
    "# def indicator function\n",
    "get_indicator <- function(x, check_list, categories) {\n",
    "  \n",
    "  if (x %in% check_list) {\n",
    "    return(categories[[1]])\n",
    "  } \n",
    "  else {\n",
    "    return(categories[[2]])\n",
    "  }\n",
    "}\n",
    "\n",
    "# add ibd disease indicator\n",
    "ibd_check_list = c(\"CD\", \"UC\", \"IBD-U\")\n",
    "ibd_indicator <- sapply(as.vector(clinical_data$ibd_diagnosis), get_indicator, check_list=ibd_check_list, categories=c(\"IBD Super Group\", \"Control Super Group\"))\n",
    "clinical_data$ibd_indicator <- ibd_indicator\n",
    "\n",
    "# add disease activity indicator\n",
    "da_check_list = c(\"Moderate\", \"Mild\")\n",
    "da_indicator <- sapply(as.vector(clinical_data$disease_activity), get_indicator, check_list=da_check_list, categories=c(\"Active Disease\", \"In-active Disease\"))\n",
    "clinical_data$disease_activity_indicator <- da_indicator"
   ]
  },
  {
   "cell_type": "markdown",
   "id": "6f9673ee",
   "metadata": {
    "vscode": {
     "languageId": "r"
    }
   },
   "source": [
    "### Add the CRP levels"
   ]
  },
  {
   "cell_type": "code",
   "execution_count": 44,
   "id": "c9e61caf",
   "metadata": {
    "vscode": {
     "languageId": "r"
    }
   },
   "outputs": [
    {
     "name": "stderr",
     "output_type": "stream",
     "text": [
      "\u001b[1mRows: \u001b[22m\u001b[34m106\u001b[39m \u001b[1mColumns: \u001b[22m\u001b[34m9\u001b[39m\n",
      "\u001b[36m──\u001b[39m \u001b[1mColumn specification\u001b[22m \u001b[36m────────────────────────────────────────────────────────\u001b[39m\n",
      "\u001b[1mDelimiter:\u001b[22m \",\"\n",
      "\u001b[31mchr\u001b[39m  (2): subject_id, redcap_event_name\n",
      "\u001b[32mdbl\u001b[39m  (5): crp_days, crp_value, crp_30d_yn, ibd_diagnosis, ibd_disease_activity\n",
      "\u001b[34mdate\u001b[39m (2): crp_date, saliva_date\n",
      "\n",
      "\u001b[36mℹ\u001b[39m Use `spec()` to retrieve the full column specification for this data.\n",
      "\u001b[36mℹ\u001b[39m Specify the column types or set `show_col_types = FALSE` to quiet this message.\n"
     ]
    }
   ],
   "source": [
    "# load the data\n",
    "crp_fn = \"results/raw/IBDSCANInflammatoryB-CRPForSeverity_DATA_2024-12-02_1231.csv\"\n",
    "crp_df <- read_csv(crp_fn)\n",
    "\n",
    "# make the matched_subject column to match the clinical data\n",
    "crp_df <- crp_df %>% mutate(matched_subject_id=as.integer(sub(\"^0+\", \"\", subject_id)))\n",
    "\n",
    "# aggregate the crp_values\n",
    "agg_crp_df <- crp_df %>% group_by(matched_subject_id) %>% summarize(max_crp_value=max(crp_value, np.rm=TRUE))\n",
    "\n",
    "# get a crp_label using rubric by Kevin\n",
    "# 1. Normal CRP Levels -- <1 mg/L: Indicates a low level of inflammation and is considered normal in healthy individuals.\n",
    "# 2. Mild Elevation -- 1–3 mg/L: May suggest low-grade inflammation, often associated with chronic conditions such as mild infection.\n",
    "# 3. Moderate Elevation-- 3–10 mg/L: Indicates moderate inflammation. signifies chronic inflammation or acute infections (e.g., respiratory infections).\n",
    "# 4. High Elevation -- >10 mg/L: Suggests significant inflammation or infection.\n",
    "get_crp_severity_label <- function(x){\n",
    "    if (is.na(x)){\n",
    "        return(\"N/A\")\n",
    "    } else if (x < 1){\n",
    "        return(\"Normal\")\n",
    "    } else if (1 <= x  & x < 3){\n",
    "        return(\"Mild\")\n",
    "    } else if (3 <= x & x <10){\n",
    "        return(\"Moderate\")\n",
    "    } else {\n",
    "        return(\"High\")\n",
    "    }\n",
    "\n",
    "}\n",
    "#agg_crp_df %>% mutate(crp_label=get_crp_label(max_crp_value))\n",
    "agg_crp_df$crp_severity <- vapply(agg_crp_df$max_crp_value, get_crp_severity_label,FUN.VALUE=\"test\")"
   ]
  },
  {
   "cell_type": "code",
   "execution_count": 45,
   "id": "bae4c5a1",
   "metadata": {
    "vscode": {
     "languageId": "r"
    }
   },
   "outputs": [],
   "source": [
    "clinical_data <- clinical_data %>% left_join(agg_crp_df,by = \"matched_subject_id\")\n",
    "clinical_data$crp_severity <- replace_na(clinical_data$crp_severity, \"N/A\")"
   ]
  },
  {
   "cell_type": "code",
   "execution_count": 47,
   "id": "f5e55997-efbd-4401-9a8c-b5e67f8f0320",
   "metadata": {
    "vscode": {
     "languageId": "r"
    }
   },
   "outputs": [],
   "source": [
    "write.table(clinical_data, \"results/specimen_focused/comp_data/clinical_data.tsv\", sep = \"\\t\", col.names = TRUE, row.names=FALSE, quote=FALSE)"
   ]
  }
 ],
 "metadata": {
  "kernelspec": {
   "display_name": "R-starter",
   "language": "R",
   "name": "r-starter"
  },
  "language_info": {
   "codemirror_mode": "r",
   "file_extension": ".r",
   "mimetype": "text/x-r-source",
   "name": "R",
   "pygments_lexer": "r",
   "version": "4.4.1"
  }
 },
 "nbformat": 4,
 "nbformat_minor": 5
}

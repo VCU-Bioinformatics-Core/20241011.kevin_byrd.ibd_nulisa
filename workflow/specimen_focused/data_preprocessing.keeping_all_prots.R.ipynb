{
 "cells": [
  {
   "cell_type": "code",
   "execution_count": 1,
   "id": "0841cbee-1a9d-4c6e-94fc-e585afc96934",
   "metadata": {
    "tags": [],
    "vscode": {
     "languageId": "r"
    }
   },
   "outputs": [
    {
     "name": "stderr",
     "output_type": "stream",
     "text": [
      "── \u001b[1mAttaching core tidyverse packages\u001b[22m ───────────────────────────────────────────────────────────────────────────────────────────────────────────────────────────────────── tidyverse 2.0.0 ──\n",
      "\u001b[32m✔\u001b[39m \u001b[34mdplyr    \u001b[39m 1.1.4     \u001b[32m✔\u001b[39m \u001b[34mpurrr    \u001b[39m 1.0.4\n",
      "\u001b[32m✔\u001b[39m \u001b[34mforcats  \u001b[39m 1.0.0     \u001b[32m✔\u001b[39m \u001b[34mreadr    \u001b[39m 2.1.5\n",
      "\u001b[32m✔\u001b[39m \u001b[34mggplot2  \u001b[39m 3.5.2     \u001b[32m✔\u001b[39m \u001b[34mstringr  \u001b[39m 1.5.1\n",
      "\u001b[32m✔\u001b[39m \u001b[34mlubridate\u001b[39m 1.9.4     \u001b[32m✔\u001b[39m \u001b[34mtibble   \u001b[39m 3.2.1\n",
      "── \u001b[1mConflicts\u001b[22m ─────────────────────────────────────────────────────────────────────────────────────────────────────────────────────────────────────────────────────── tidyverse_conflicts() ──\n",
      "\u001b[31m✖\u001b[39m \u001b[34mdplyr\u001b[39m::\u001b[32mfilter()\u001b[39m masks \u001b[34mstats\u001b[39m::filter()\n",
      "\u001b[31m✖\u001b[39m \u001b[34mdplyr\u001b[39m::\u001b[32mlag()\u001b[39m    masks \u001b[34mstats\u001b[39m::lag()\n",
      "\u001b[36mℹ\u001b[39m Use the conflicted package (\u001b[3m\u001b[34m<http://conflicted.r-lib.org/>\u001b[39m\u001b[23m) to force all conflicts to become errors\n",
      "Loading required package: lattice\n",
      "\n",
      "\n",
      "Attaching package: ‘caret’\n",
      "\n",
      "\n",
      "The following object is masked from ‘package:purrr’:\n",
      "\n",
      "    lift\n",
      "\n",
      "\n"
     ]
    }
   ],
   "source": [
    "library(readxl)\n",
    "library(tidyr)\n",
    "library(tidyverse)\n",
    "library(caret)\n",
    "\n",
    "# Suppress warnings globally\n",
    "options(warn = -1)\n",
    "\n",
    "# set working directory\n",
    "# setwd('/lustre/home/reynaj/Projects/20241011.Byrd_Lab.IBD_NuLisa')\n",
    "setwd('/home/reynaj/projects/kevin_byrd/20241011.kevin_byrd.ibd_nulisa')"
   ]
  },
  {
   "cell_type": "markdown",
   "id": "88cf8102-503a-4469-951a-b332c63572b3",
   "metadata": {},
   "source": [
    "## Process the protein levels"
   ]
  },
  {
   "cell_type": "code",
   "execution_count": 2,
   "id": "53d5d0f4-3521-4387-a7b0-c9690e68061e",
   "metadata": {
    "tags": [],
    "vscode": {
     "languageId": "r"
    }
   },
   "outputs": [],
   "source": [
    "# load assay data\n",
    "fn <- \"results/raw/P-000458_ADA_NULISAseq_Inflammation Panel_1-NPQ Counts_2-Target Detectability_3-Sample Information_2024_08_26.xlsx\"\n",
    "data <- read_excel(fn, sheet = \"NPQ Counts\");"
   ]
  },
  {
   "cell_type": "code",
   "execution_count": 3,
   "id": "18e99573-6bf1-49bd-a108-b226eb5bca89",
   "metadata": {
    "vscode": {
     "languageId": "r"
    }
   },
   "outputs": [],
   "source": [
    "# pivot the data to make a matrix\n",
    "wide_data <- data %>% pivot_wider(id_cols = SampleName, names_from = Target, values_from = NPQ)"
   ]
  },
  {
   "cell_type": "code",
   "execution_count": 4,
   "id": "87d9aef0-a158-4536-9285-4dd1b380f76d",
   "metadata": {},
   "outputs": [
    {
     "data": {
      "text/html": [
       "<style>\n",
       ".list-inline {list-style: none; margin:0; padding: 0}\n",
       ".list-inline>li {display: inline-block}\n",
       ".list-inline>li:not(:last-child)::after {content: \"\\00b7\"; padding: 0 .5ex}\n",
       "</style>\n",
       "<ol class=list-inline><li>89</li><li>251</li></ol>\n"
      ],
      "text/latex": [
       "\\begin{enumerate*}\n",
       "\\item 89\n",
       "\\item 251\n",
       "\\end{enumerate*}\n"
      ],
      "text/markdown": [
       "1. 89\n",
       "2. 251\n",
       "\n",
       "\n"
      ],
      "text/plain": [
       "[1]  89 251"
      ]
     },
     "metadata": {},
     "output_type": "display_data"
    }
   ],
   "source": [
    "dim(wide_data)"
   ]
  },
  {
   "cell_type": "code",
   "execution_count": 5,
   "id": "2b13816d-5c36-49d8-bffc-6fe2ddf58eee",
   "metadata": {},
   "outputs": [
    {
     "data": {
      "text/html": [
       "<table class=\"dataframe\">\n",
       "<caption>A tibble: 3 × 251</caption>\n",
       "<thead>\n",
       "\t<tr><th scope=col>SampleName</th><th scope=col>AGER</th><th scope=col>AGRP</th><th scope=col>ANGPT1</th><th scope=col>ANGPT2</th><th scope=col>ANXA1</th><th scope=col>AREG</th><th scope=col>BDNF</th><th scope=col>BMP7</th><th scope=col>BST2</th><th scope=col>⋯</th><th scope=col>TREM2</th><th scope=col>TSLP</th><th scope=col>VCAM1</th><th scope=col>VEGFA</th><th scope=col>VEGFC</th><th scope=col>VEGFD</th><th scope=col>VSNL1</th><th scope=col>VSTM1</th><th scope=col>WNT16</th><th scope=col>WNT7A</th></tr>\n",
       "\t<tr><th scope=col>&lt;chr&gt;</th><th scope=col>&lt;dbl&gt;</th><th scope=col>&lt;dbl&gt;</th><th scope=col>&lt;dbl&gt;</th><th scope=col>&lt;dbl&gt;</th><th scope=col>&lt;dbl&gt;</th><th scope=col>&lt;dbl&gt;</th><th scope=col>&lt;dbl&gt;</th><th scope=col>&lt;dbl&gt;</th><th scope=col>&lt;dbl&gt;</th><th scope=col>⋯</th><th scope=col>&lt;dbl&gt;</th><th scope=col>&lt;dbl&gt;</th><th scope=col>&lt;dbl&gt;</th><th scope=col>&lt;dbl&gt;</th><th scope=col>&lt;dbl&gt;</th><th scope=col>&lt;dbl&gt;</th><th scope=col>&lt;dbl&gt;</th><th scope=col>&lt;dbl&gt;</th><th scope=col>&lt;dbl&gt;</th><th scope=col>&lt;dbl&gt;</th></tr>\n",
       "</thead>\n",
       "<tbody>\n",
       "\t<tr><td>A_01_TRP-34082</td><td>5.493463</td><td> 8.765074</td><td>15.76212</td><td>11.25021</td><td>17.79754</td><td>14.68076</td><td>0.000000</td><td>7.512066</td><td>10.206268</td><td>⋯</td><td>6.206720</td><td>10.94101</td><td>0.000000</td><td>18.23954</td><td>16.68403</td><td>9.214276</td><td>22.58694</td><td>14.75831</td><td>7.103437</td><td>8.497241</td></tr>\n",
       "\t<tr><td>A_02_TRP-34086</td><td>4.453723</td><td>10.299592</td><td>17.59438</td><td>11.83578</td><td>16.49940</td><td>14.91346</td><td>9.248813</td><td>9.961362</td><td>11.179836</td><td>⋯</td><td>0.000000</td><td>11.29018</td><td>7.094106</td><td>18.36369</td><td>19.17019</td><td>8.799946</td><td>20.19290</td><td>17.99542</td><td>7.941584</td><td>8.232622</td></tr>\n",
       "\t<tr><td>A_03_TRP-42335</td><td>6.469100</td><td>11.617355</td><td>17.49572</td><td>12.05999</td><td>20.11341</td><td>12.85620</td><td>0.000000</td><td>8.614946</td><td> 9.096235</td><td>⋯</td><td>6.516471</td><td>11.47073</td><td>0.000000</td><td>18.52676</td><td>18.22880</td><td>7.187657</td><td>20.12907</td><td>17.56549</td><td>5.531130</td><td>5.503245</td></tr>\n",
       "</tbody>\n",
       "</table>\n"
      ],
      "text/latex": [
       "A tibble: 3 × 251\n",
       "\\begin{tabular}{lllllllllllllllllllll}\n",
       " SampleName & AGER & AGRP & ANGPT1 & ANGPT2 & ANXA1 & AREG & BDNF & BMP7 & BST2 & ⋯ & TREM2 & TSLP & VCAM1 & VEGFA & VEGFC & VEGFD & VSNL1 & VSTM1 & WNT16 & WNT7A\\\\\n",
       " <chr> & <dbl> & <dbl> & <dbl> & <dbl> & <dbl> & <dbl> & <dbl> & <dbl> & <dbl> & ⋯ & <dbl> & <dbl> & <dbl> & <dbl> & <dbl> & <dbl> & <dbl> & <dbl> & <dbl> & <dbl>\\\\\n",
       "\\hline\n",
       "\t A\\_01\\_TRP-34082 & 5.493463 &  8.765074 & 15.76212 & 11.25021 & 17.79754 & 14.68076 & 0.000000 & 7.512066 & 10.206268 & ⋯ & 6.206720 & 10.94101 & 0.000000 & 18.23954 & 16.68403 & 9.214276 & 22.58694 & 14.75831 & 7.103437 & 8.497241\\\\\n",
       "\t A\\_02\\_TRP-34086 & 4.453723 & 10.299592 & 17.59438 & 11.83578 & 16.49940 & 14.91346 & 9.248813 & 9.961362 & 11.179836 & ⋯ & 0.000000 & 11.29018 & 7.094106 & 18.36369 & 19.17019 & 8.799946 & 20.19290 & 17.99542 & 7.941584 & 8.232622\\\\\n",
       "\t A\\_03\\_TRP-42335 & 6.469100 & 11.617355 & 17.49572 & 12.05999 & 20.11341 & 12.85620 & 0.000000 & 8.614946 &  9.096235 & ⋯ & 6.516471 & 11.47073 & 0.000000 & 18.52676 & 18.22880 & 7.187657 & 20.12907 & 17.56549 & 5.531130 & 5.503245\\\\\n",
       "\\end{tabular}\n"
      ],
      "text/markdown": [
       "\n",
       "A tibble: 3 × 251\n",
       "\n",
       "| SampleName &lt;chr&gt; | AGER &lt;dbl&gt; | AGRP &lt;dbl&gt; | ANGPT1 &lt;dbl&gt; | ANGPT2 &lt;dbl&gt; | ANXA1 &lt;dbl&gt; | AREG &lt;dbl&gt; | BDNF &lt;dbl&gt; | BMP7 &lt;dbl&gt; | BST2 &lt;dbl&gt; | ⋯ ⋯ | TREM2 &lt;dbl&gt; | TSLP &lt;dbl&gt; | VCAM1 &lt;dbl&gt; | VEGFA &lt;dbl&gt; | VEGFC &lt;dbl&gt; | VEGFD &lt;dbl&gt; | VSNL1 &lt;dbl&gt; | VSTM1 &lt;dbl&gt; | WNT16 &lt;dbl&gt; | WNT7A &lt;dbl&gt; |\n",
       "|---|---|---|---|---|---|---|---|---|---|---|---|---|---|---|---|---|---|---|---|---|\n",
       "| A_01_TRP-34082 | 5.493463 |  8.765074 | 15.76212 | 11.25021 | 17.79754 | 14.68076 | 0.000000 | 7.512066 | 10.206268 | ⋯ | 6.206720 | 10.94101 | 0.000000 | 18.23954 | 16.68403 | 9.214276 | 22.58694 | 14.75831 | 7.103437 | 8.497241 |\n",
       "| A_02_TRP-34086 | 4.453723 | 10.299592 | 17.59438 | 11.83578 | 16.49940 | 14.91346 | 9.248813 | 9.961362 | 11.179836 | ⋯ | 0.000000 | 11.29018 | 7.094106 | 18.36369 | 19.17019 | 8.799946 | 20.19290 | 17.99542 | 7.941584 | 8.232622 |\n",
       "| A_03_TRP-42335 | 6.469100 | 11.617355 | 17.49572 | 12.05999 | 20.11341 | 12.85620 | 0.000000 | 8.614946 |  9.096235 | ⋯ | 6.516471 | 11.47073 | 0.000000 | 18.52676 | 18.22880 | 7.187657 | 20.12907 | 17.56549 | 5.531130 | 5.503245 |\n",
       "\n"
      ],
      "text/plain": [
       "  SampleName     AGER     AGRP      ANGPT1   ANGPT2   ANXA1    AREG    \n",
       "1 A_01_TRP-34082 5.493463  8.765074 15.76212 11.25021 17.79754 14.68076\n",
       "2 A_02_TRP-34086 4.453723 10.299592 17.59438 11.83578 16.49940 14.91346\n",
       "3 A_03_TRP-42335 6.469100 11.617355 17.49572 12.05999 20.11341 12.85620\n",
       "  BDNF     BMP7     BST2      ⋯ TREM2    TSLP     VCAM1    VEGFA    VEGFC   \n",
       "1 0.000000 7.512066 10.206268 ⋯ 6.206720 10.94101 0.000000 18.23954 16.68403\n",
       "2 9.248813 9.961362 11.179836 ⋯ 0.000000 11.29018 7.094106 18.36369 19.17019\n",
       "3 0.000000 8.614946  9.096235 ⋯ 6.516471 11.47073 0.000000 18.52676 18.22880\n",
       "  VEGFD    VSNL1    VSTM1    WNT16    WNT7A   \n",
       "1 9.214276 22.58694 14.75831 7.103437 8.497241\n",
       "2 8.799946 20.19290 17.99542 7.941584 8.232622\n",
       "3 7.187657 20.12907 17.56549 5.531130 5.503245"
      ]
     },
     "metadata": {},
     "output_type": "display_data"
    }
   ],
   "source": [
    "wide_data[1:3,]"
   ]
  },
  {
   "cell_type": "code",
   "execution_count": 6,
   "id": "65a452bc-97aa-4bf2-87ed-41495c146019",
   "metadata": {
    "vscode": {
     "languageId": "r"
    }
   },
   "outputs": [],
   "source": [
    "# transpose the data to be in the correct format for limma\n",
    "# rows = genes\n",
    "# columns = samples\n",
    "t_data = t(wide_data)\n",
    "\n",
    "# clean up the first row\n",
    "colnames(t_data) <- t_data[1,]\n",
    "t_data <- as.data.frame(t_data[-1,])\n",
    "\n",
    "# get the column names\n",
    "sample_names <- colnames(t_data)\n",
    "\n",
    "# remove the pattern [A-Z]_[0-9]+\n",
    "new_sample_names <- gsub(\"[A-Z]_[0-9]+_\", \"\", sample_names)\n",
    "\n",
    "# assign the new column names back to the data frame\n",
    "colnames(t_data) <- new_sample_names"
   ]
  },
  {
   "cell_type": "code",
   "execution_count": 7,
   "id": "7a96deff",
   "metadata": {
    "vscode": {
     "languageId": "r"
    }
   },
   "outputs": [
    {
     "data": {
      "text/html": [
       "<dl>\n",
       "\t<dt>$freqRatio</dt>\n",
       "\t\t<dd>1823.5</dd>\n",
       "\t<dt>$percentUnique</dt>\n",
       "\t\t<dd>23113.4831460674</dd>\n",
       "\t<dt>$zeroVar</dt>\n",
       "\t\t<dd>0</dd>\n",
       "\t<dt>$nzv</dt>\n",
       "\t\t<dd>0</dd>\n",
       "</dl>\n"
      ],
      "text/latex": [
       "\\begin{description}\n",
       "\\item[\\$freqRatio] 1823.5\n",
       "\\item[\\$percentUnique] 23113.4831460674\n",
       "\\item[\\$zeroVar] 0\n",
       "\\item[\\$nzv] 0\n",
       "\\end{description}\n"
      ],
      "text/markdown": [
       "$freqRatio\n",
       ":   1823.5\n",
       "$percentUnique\n",
       ":   23113.4831460674\n",
       "$zeroVar\n",
       ":   0\n",
       "$nzv\n",
       ":   0\n",
       "\n",
       "\n"
      ],
      "text/plain": [
       "$freqRatio\n",
       "[1] 1823.5\n",
       "\n",
       "$percentUnique\n",
       "[1] 23113.48\n",
       "\n",
       "$zeroVar\n",
       "[1] 0\n",
       "\n",
       "$nzv\n",
       "[1] 0\n"
      ]
     },
     "metadata": {},
     "output_type": "display_data"
    }
   ],
   "source": [
    "\n",
    "# # check near zero variance # didn't find any zeroVar nor nzv\n",
    "nzv_info <- nearZeroVar(t(t_data), saveMetrics = TRUE)\n",
    "lapply(nzv_info, sum)\n"
   ]
  },
  {
   "cell_type": "code",
   "execution_count": 8,
   "id": "46e69865",
   "metadata": {
    "vscode": {
     "languageId": "r"
    }
   },
   "outputs": [],
   "source": [
    "write.table(t_data, \"results/specimen_focused/comp_data/protein_levels.250_prots.npq.tsv\", sep = \"\\t\", col.names = TRUE, quote=FALSE)"
   ]
  },
  {
   "cell_type": "markdown",
   "id": "e8e9f0be-f8b1-4384-9385-cf013e40b2c5",
   "metadata": {},
   "source": [
    "## Process the clinical data"
   ]
  },
  {
   "cell_type": "code",
   "execution_count": 9,
   "id": "5ffd0207-570e-4e36-8bc4-b8a4d7b95907",
   "metadata": {
    "vscode": {
     "languageId": "r"
    }
   },
   "outputs": [],
   "source": [
    "# load clinical data\n",
    "fn <- \"results/raw/ADA_IBD_Saliva_Biospecimen Manifest Form-for-NULISA_241022.V2.Updated_Sample20.xlsx\"\n",
    "clinical_data <- read_excel(fn, sheet = \"Aliquot Information\")"
   ]
  },
  {
   "cell_type": "code",
   "execution_count": 10,
   "id": "3c1bb0eb-b6d3-44a7-9c52-ef33505bed2c",
   "metadata": {
    "vscode": {
     "languageId": "r"
    }
   },
   "outputs": [],
   "source": [
    "# rename columns for programming use\n",
    "transform_string <- function(x) {\n",
    "  x <- tolower(x)            # Convert to lowercase\n",
    "  x <- gsub(\" \", \"_\", x)     # Replace spaces with \"_\"\n",
    "  x <- gsub(\"\\\\(\", \"_\", x)   # Replace \"(\" with \"_\"\n",
    "  x <- gsub(\"\\\\)\", \"\", x)    # Remove \")\"\n",
    "  return(x)\n",
    "}\n",
    "\n",
    "# Apply the function to the vector\n",
    "transformed_cols <- sapply(as.vector(colnames(clinical_data)), transform_string)\n",
    "colnames(clinical_data) <- transformed_cols"
   ]
  },
  {
   "cell_type": "code",
   "execution_count": 11,
   "id": "3402f29f-c526-4d7f-aa9d-9db036f1eba4",
   "metadata": {
    "vscode": {
     "languageId": "r"
    }
   },
   "outputs": [],
   "source": [
    "# remove nan samples\n",
    "clinical_data <- clinical_data[!is.na(clinical_data$project_name),]\n",
    "clinical_sample_names = clinical_data$original_subject_id"
   ]
  },
  {
   "cell_type": "code",
   "execution_count": 12,
   "id": "4c845527-933c-47de-9c8d-bd7af8c058bc",
   "metadata": {
    "vscode": {
     "languageId": "r"
    }
   },
   "outputs": [],
   "source": [
    "# Create a new row as a dataframe\n",
    "new_row <- data.frame(\n",
    "  original_subject_id = c(\"SC_Rep01\", \"SC_Rep02\", \"SC_Rep03\"),\n",
    "  sample_id = c(\"SC_Rep01\", \"SC_Rep02\", \"SC_Rep03\"),\n",
    "  ibd_diagnosis = c(\"Alamar_Sample_Control\", \"Alamar_Sample_Control\", \"Alamar_Sample_Control\"),\n",
    "  disease_activity = c(\"N/A\", \"N/A\", \"N/A\")\n",
    ")"
   ]
  },
  {
   "cell_type": "code",
   "execution_count": 13,
   "id": "cea77eab-30e3-4cfe-baff-3d269488fe73",
   "metadata": {
    "vscode": {
     "languageId": "r"
    }
   },
   "outputs": [],
   "source": [
    "# Add the new row to the dataframe\n",
    "clinical_data <- bind_rows(clinical_data, new_row)\n",
    "\n",
    "# order the dataframe based on the order of new sample names\n",
    "clinical_data <- clinical_data[match(new_sample_names, clinical_data$original_subject_id), ]"
   ]
  },
  {
   "cell_type": "code",
   "execution_count": 14,
   "id": "17005dd2-4ec0-4474-867a-a864a4ab5770",
   "metadata": {
    "vscode": {
     "languageId": "r"
    }
   },
   "outputs": [],
   "source": [
    "# def indicator function\n",
    "get_indicator <- function(x, check_list, categories) {\n",
    "  \n",
    "  if (x %in% check_list) {\n",
    "    return(categories[[1]])\n",
    "  } \n",
    "  else {\n",
    "    return(categories[[2]])\n",
    "  }\n",
    "}\n",
    "\n",
    "# add ibd disease indicator\n",
    "ibd_check_list = c(\"CD\", \"UC\", \"IBD-U\")\n",
    "ibd_indicator <- sapply(as.vector(clinical_data$ibd_diagnosis), get_indicator, check_list=ibd_check_list, categories=c(\"IBD Super Group\", \"Control Super Group\"))\n",
    "clinical_data$ibd_indicator <- ibd_indicator\n",
    "\n",
    "# add disease activity indicator\n",
    "da_check_list = c(\"Moderate\", \"Mild\")\n",
    "da_indicator <- sapply(as.vector(clinical_data$disease_activity), get_indicator, check_list=da_check_list, categories=c(\"Active Disease\", \"In-active Disease\"))\n",
    "clinical_data$disease_activity_indicator <- da_indicator"
   ]
  },
  {
   "cell_type": "markdown",
   "id": "6f9673ee",
   "metadata": {
    "vscode": {
     "languageId": "r"
    }
   },
   "source": [
    "### Add the CRP levels"
   ]
  },
  {
   "cell_type": "code",
   "execution_count": 15,
   "id": "c9e61caf",
   "metadata": {
    "vscode": {
     "languageId": "r"
    }
   },
   "outputs": [
    {
     "name": "stderr",
     "output_type": "stream",
     "text": [
      "\u001b[1mRows: \u001b[22m\u001b[34m106\u001b[39m \u001b[1mColumns: \u001b[22m\u001b[34m9\u001b[39m\n",
      "\u001b[36m──\u001b[39m \u001b[1mColumn specification\u001b[22m \u001b[36m─────────────────────────────────────────────────────────────────────────────────────────────────────────────────────────────────────────────────────────────────────\u001b[39m\n",
      "\u001b[1mDelimiter:\u001b[22m \",\"\n",
      "\u001b[31mchr\u001b[39m  (2): subject_id, redcap_event_name\n",
      "\u001b[32mdbl\u001b[39m  (5): crp_days, crp_value, crp_30d_yn, ibd_diagnosis, ibd_disease_activity\n",
      "\u001b[34mdate\u001b[39m (2): crp_date, saliva_date\n",
      "\n",
      "\u001b[36mℹ\u001b[39m Use `spec()` to retrieve the full column specification for this data.\n",
      "\u001b[36mℹ\u001b[39m Specify the column types or set `show_col_types = FALSE` to quiet this message.\n"
     ]
    }
   ],
   "source": [
    "# load the data\n",
    "crp_fn = \"results/raw/IBDSCANInflammatoryB-CRPForSeverity_DATA_2024-12-02_1231.csv\"\n",
    "crp_df <- read_csv(crp_fn)\n",
    "\n",
    "# make the matched_subject column to match the clinical data\n",
    "crp_df <- crp_df %>% mutate(matched_subject_id=as.integer(sub(\"^0+\", \"\", subject_id)))\n",
    "\n",
    "# aggregate the crp_values\n",
    "agg_crp_df <- crp_df %>% group_by(matched_subject_id) %>% summarize(max_crp_value=max(crp_value, np.rm=TRUE))\n",
    "\n",
    "# get a crp_label using rubric by Kevin\n",
    "# 1. Normal CRP Levels -- <1 mg/L: Indicates a low level of inflammation and is considered normal in healthy individuals.\n",
    "# 2. Mild Elevation -- 1–3 mg/L: May suggest low-grade inflammation, often associated with chronic conditions such as mild infection.\n",
    "# 3. Moderate Elevation-- 3–10 mg/L: Indicates moderate inflammation. signifies chronic inflammation or acute infections (e.g., respiratory infections).\n",
    "# 4. High Elevation -- >10 mg/L: Suggests significant inflammation or infection.\n",
    "get_crp_severity_label <- function(x){\n",
    "    if (is.na(x)){\n",
    "        return(\"N/A\")\n",
    "    } else if (x < 1){\n",
    "        return(\"Normal\")\n",
    "    } else if (1 <= x  & x < 3){\n",
    "        return(\"Mild\")\n",
    "    } else if (3 <= x & x <10){\n",
    "        return(\"Moderate\")\n",
    "    } else {\n",
    "        return(\"High\")\n",
    "    }\n",
    "\n",
    "}\n",
    "#agg_crp_df %>% mutate(crp_label=get_crp_label(max_crp_value))\n",
    "agg_crp_df$crp_severity <- vapply(agg_crp_df$max_crp_value, get_crp_severity_label,FUN.VALUE=\"test\")"
   ]
  },
  {
   "cell_type": "code",
   "execution_count": 16,
   "id": "bae4c5a1",
   "metadata": {
    "vscode": {
     "languageId": "r"
    }
   },
   "outputs": [],
   "source": [
    "clinical_data <- clinical_data %>% left_join(agg_crp_df,by = \"matched_subject_id\")\n",
    "clinical_data$crp_severity <- replace_na(clinical_data$crp_severity, \"N/A\")"
   ]
  },
  {
   "cell_type": "code",
   "execution_count": 17,
   "id": "f5e55997-efbd-4401-9a8c-b5e67f8f0320",
   "metadata": {
    "vscode": {
     "languageId": "r"
    }
   },
   "outputs": [],
   "source": [
    "write.table(clinical_data, \"results/specimen_focused/comp_data/clinical_data.tsv\", sep = \"\\t\", col.names = TRUE, row.names=FALSE, quote=FALSE)"
   ]
  },
  {
   "cell_type": "code",
   "execution_count": null,
   "id": "3a1f9806-559d-4cad-822c-7f771a81f3aa",
   "metadata": {},
   "outputs": [],
   "source": []
  },
  {
   "cell_type": "code",
   "execution_count": null,
   "id": "bd1c8c64-2bad-46c7-936f-55169f94ebd2",
   "metadata": {},
   "outputs": [],
   "source": []
  },
  {
   "cell_type": "code",
   "execution_count": null,
   "id": "cd1a858b-5b3f-4789-ad58-7c6995dd92f6",
   "metadata": {},
   "outputs": [],
   "source": []
  },
  {
   "cell_type": "code",
   "execution_count": null,
   "id": "47764506-4d70-46fc-a089-896a0c14ad47",
   "metadata": {},
   "outputs": [],
   "source": []
  },
  {
   "cell_type": "code",
   "execution_count": null,
   "id": "e29d3723-95cb-430f-88f9-1d522d006076",
   "metadata": {},
   "outputs": [],
   "source": []
  },
  {
   "cell_type": "code",
   "execution_count": null,
   "id": "c96dfaf9-202b-47a0-9059-3adff167406d",
   "metadata": {},
   "outputs": [],
   "source": []
  }
 ],
 "metadata": {
  "kernelspec": {
   "display_name": "R-starter (4.3.3)",
   "language": "R",
   "name": "ir_starter_4.3.3"
  },
  "language_info": {
   "codemirror_mode": "r",
   "file_extension": ".r",
   "mimetype": "text/x-r-source",
   "name": "R",
   "pygments_lexer": "r",
   "version": "4.4.3"
  },
  "widgets": {
   "application/vnd.jupyter.widget-state+json": {
    "state": {},
    "version_major": 2,
    "version_minor": 0
   }
  }
 },
 "nbformat": 4,
 "nbformat_minor": 5
}

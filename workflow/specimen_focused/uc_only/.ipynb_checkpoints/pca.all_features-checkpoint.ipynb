{
 "cells": [
  {
   "cell_type": "code",
   "execution_count": null,
   "id": "7f866b79-e7dd-454d-b0d9-19a59541d3ea",
   "metadata": {},
   "outputs": [],
   "source": [
    "import os\n",
    "import pandas as pd \n",
    "import matplotlib\n",
    "import matplotlib.pyplot as plt\n",
    "import matplotlib.colors as mcolors\n",
    "import numpy as np\n",
    "import seaborn as sns\n",
    "import itertools as it\n",
    "from sklearn.decomposition import PCA\n",
    "\n",
    "from openpyxl import Workbook, load_workbook\n",
    "from openpyxl import Workbook\n",
    "from openpyxl.drawing.image import Image\n",
    "\n",
    "from scipy.spatial import ConvexHull\n",
    "from scipy.interpolate import splprep, splev\n",
    "\n",
    "sns.set_style(\"whitegrid\")\n",
    "\n",
    "os.chdir('/lustre/home/reynaj/Projects/20241011.kevin_byrd.ibd_nulisa')\n",
    "outdir = 'results/specimen_focused/uc_only/'\n",
    "\n",
    "os.makedirs(outdir, exist_ok=True)\n",
    "\n",
    "# set the random_state\n",
    "random_state = 17"
   ]
  },
  {
   "cell_type": "code",
   "execution_count": null,
   "id": "80fc75ed-f4af-4d32-8f0b-3ae7d367e23d",
   "metadata": {},
   "outputs": [],
   "source": [
    "def calculate_convex_hull(points):\n",
    "    hull = ConvexHull(points)\n",
    "    hull_points = points[hull.vertices]\n",
    "    \n",
    "    hull_points = np.concatenate((hull_points, [hull_points[0]]))\n",
    "    \n",
    "    tck, u = splprep([hull_points[:, 0], hull_points[:, 1]], s=0, per=True)\n",
    "    u_new = np.linspace(u.min(), u.max(), 100)\n",
    "    x_new, y_new = splev(u_new, tck, der=0)\n",
    "\n",
    "    return x_new, y_new\n",
    "\n",
    "def convex_hull_plot(ax, data, x, y, hue=None, area_color='r-', area_alpha=0.3, edge_color='c', edge_width=1):\n",
    "    if hue: \n",
    "        colors = sns.color_palette(n_colors=data[hue].nunique()).as_hex()\n",
    "        i = 0\n",
    "        for grp, grp_df in data.groupby(hue):\n",
    "\n",
    "            curr_color = colors[i]\n",
    "            points = grp_df[[x,y]].values\n",
    "            x_hull, y_hull = calculate_convex_hull(points)\n",
    "            ax.plot(x_hull, y_hull, curr_color, lw=edge_width)\n",
    "            ax.fill(x_hull, y_hull, curr_color, alpha=area_alpha)\n",
    "            i += 1\n",
    "    else:\n",
    "            points = data[[x,y]].values\n",
    "            x_hull, y_hull = calculate_convex_hull(points)\n",
    "            ax.plot(x_hull, y_hull, area_color, lw=edge_width)\n",
    "            ax.fill(x_hull, y_hull, edge_color, alpha=area_alpha)"
   ]
  },
  {
   "cell_type": "markdown",
   "id": "cadc86cb-a7e2-420a-85eb-42dd86c0d595",
   "metadata": {},
   "source": [
    "## Load the data"
   ]
  },
  {
   "cell_type": "code",
   "execution_count": null,
   "id": "51f0278b-d1b2-4b4c-be5e-dd11b8657d47",
   "metadata": {},
   "outputs": [],
   "source": [
    "# Load the protein levels data\n",
    "protein_data = pd.read_csv(\"results/specimen_focused/comp_data/protein_levels.npq.tsv\", sep=\"\\t\")\n",
    "protein_data = protein_data.T\n",
    "\n",
    "# extract triplet\n",
    "protein_data = protein_data.loc[:,:]\n",
    "\n",
    "# Load the clinical data\n",
    "clinical_data = pd.read_csv(\"results/specimen_focused/comp_data/clinical_data.tsv\", sep=\"\\t\")\n",
    "clinical_data.loc[:, 'matched_subject_id'] = clinical_data.loc[:, 'matched_subject_id'].astype(str)"
   ]
  },
  {
   "cell_type": "code",
   "execution_count": null,
   "id": "f8153d8a-4a38-4553-bfa5-671bf9ca02fa",
   "metadata": {},
   "outputs": [],
   "source": [
    "# remove alamar samples\n",
    "keep = (clinical_data['ibd_diagnosis'] == 'UC').tolist()\n",
    "clinical_data = clinical_data.loc[keep,:]\n",
    "protein_data = protein_data.loc[keep,:]\n",
    "\n",
    "# # extract just CD and UC data\n",
    "# focus_idxs = np.argwhere(clinical_data['ibd_diagnosis'].isin(['CD', 'UC'])).reshape(-1)\n",
    "# clinical_data = clinical_data.iloc[focus_idxs]\n",
    "# protein_data = protein_data.iloc[focus_idxs, :]"
   ]
  },
  {
   "cell_type": "markdown",
   "id": "deeadbf3-99fa-46f1-8d8b-db301dc2c6dd",
   "metadata": {},
   "source": [
    "## Perform PCA Analysis"
   ]
  },
  {
   "cell_type": "code",
   "execution_count": null,
   "id": "3d43f840-51a1-4db3-931f-64f8df016e23",
   "metadata": {},
   "outputs": [],
   "source": [
    "# perform pca analysis\n",
    "pca = PCA(n_components=2)\n",
    "principal_components = pca.fit_transform(protein_data)\n",
    "\n",
    "# make into a dataframe\n",
    "principal_components = pd.DataFrame(principal_components, columns=['pc1', 'pc2'])\n",
    "\n",
    "# add the index\n",
    "principal_components.index = protein_data.index.tolist()\n",
    "\n",
    "# add the subject id\n",
    "principal_components['matched_subject_id'] = clinical_data.matched_subject_id.astype(str).values.tolist()\n",
    "\n",
    "# merge with the clinical data\n",
    "principal_components = principal_components.merge(clinical_data, on='matched_subject_id')"
   ]
  },
  {
   "cell_type": "code",
   "execution_count": null,
   "id": "51544b61-889e-4dd8-b270-686b0dcf78a1",
   "metadata": {},
   "outputs": [],
   "source": [
    "principal_components"
   ]
  },
  {
   "cell_type": "code",
   "execution_count": null,
   "id": "ecbe5808-30f2-4fad-9116-f290c5ae2928",
   "metadata": {},
   "outputs": [],
   "source": [
    "import os\n",
    "import matplotlib.pyplot as plt\n",
    "import seaborn as sns\n",
    "import matplotlib.gridspec as gridspec\n",
    "\n",
    "labels = ['disease_activity_indicator', 'crp_severity']\n",
    "titles = ['Disease Activity Indicator', 'CRP Severity']\n",
    "\n",
    "for i in range(len(labels)):\n",
    "    label = labels[i]\n",
    "    title = titles[i]\n",
    "\n",
    "    print(label)\n",
    "\n",
    "    # create a grid layout with 1 row and 2 columns\n",
    "    fig = plt.figure(figsize=(6, 4))\n",
    "    gs = gridspec.GridSpec(1, 2, width_ratios=[7, 3], hspace=10)\n",
    "\n",
    "    # create the scatter plot in the first subplot\n",
    "    ax0 = plt.subplot(gs[0])\n",
    "    sns.scatterplot(x='pc1', y='pc2', hue=label, data=principal_components, ax=ax0)\n",
    "    convex_hull_plot(x='pc1', y='pc2', hue=label, data=principal_components, area_alpha=0.1, ax=ax0)\n",
    "\n",
    "    ax0.set_title(title)\n",
    "    ax0.set_xlabel('PC1')\n",
    "    ax0.set_ylabel('PC2')\n",
    "\n",
    "    # remove legend\n",
    "    ax0.legend_.set_visible(False)\n",
    "\n",
    "    # create the legend in the second subplot\n",
    "    ax1 = plt.subplot(gs[1])\n",
    "    ax1.axis('off')  # Turn off the axis\n",
    "    handles, leg_labels = ax0.get_legend_handles_labels()\n",
    "    ax1.legend(handles=handles, labels=leg_labels, loc=(0, 0.4), fontsize='small')\n",
    "\n",
    "    # save\n",
    "    outfn = os.path.join(outdir, f'Panel.pca.with_all_features.color_{label}.png')\n",
    "    fig.savefig(outfn, dpi=1200)"
   ]
  },
  {
   "cell_type": "code",
   "execution_count": null,
   "id": "9e099755-0c42-4a61-87af-16b528127d1c",
   "metadata": {},
   "outputs": [],
   "source": []
  }
 ],
 "metadata": {
  "kernelspec": {
   "display_name": "starter",
   "language": "python",
   "name": "starter"
  },
  "language_info": {
   "codemirror_mode": {
    "name": "ipython",
    "version": 3
   },
   "file_extension": ".py",
   "mimetype": "text/x-python",
   "name": "python",
   "nbconvert_exporter": "python",
   "pygments_lexer": "ipython3",
   "version": "3.11.8"
  }
 },
 "nbformat": 4,
 "nbformat_minor": 5
}

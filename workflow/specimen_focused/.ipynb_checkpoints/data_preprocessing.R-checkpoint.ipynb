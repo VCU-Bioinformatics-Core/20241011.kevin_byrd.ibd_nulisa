{
 "cells": [
  {
   "cell_type": "code",
   "execution_count": 13,
   "id": "0841cbee-1a9d-4c6e-94fc-e585afc96934",
   "metadata": {
    "tags": []
   },
   "outputs": [],
   "source": [
    "library(readxl)\n",
    "library(tidyr)\n",
    "library(tidyverse)\n",
    "\n",
    "# Suppress warnings globally\n",
    "options(warn = -1)\n",
    "\n",
    "# set working directory\n",
    "setwd('/lustre/home/reynaj/Projects/20241011.Byrd_Lab.IBD_NuLisa')"
   ]
  },
  {
   "cell_type": "markdown",
   "id": "88cf8102-503a-4469-951a-b332c63572b3",
   "metadata": {},
   "source": [
    "## Process the protein levels"
   ]
  },
  {
   "cell_type": "code",
   "execution_count": 14,
   "id": "53d5d0f4-3521-4387-a7b0-c9690e68061e",
   "metadata": {
    "tags": []
   },
   "outputs": [],
   "source": [
    "# load assay data\n",
    "fn <- \"results/raw/P-000458_ADA_NULISAseq_Inflammation Panel_1-NPQ Counts_2-Target Detectability_3-Sample Information_2024_08_26.xlsx\"\n",
    "data <- read_excel(fn, sheet = \"NPQ Counts\");"
   ]
  },
  {
   "cell_type": "code",
   "execution_count": 15,
   "id": "51c3213a-7917-4b9b-aaab-dce4f5da5c62",
   "metadata": {
    "tags": []
   },
   "outputs": [
    {
     "data": {
      "text/html": [
       "<table class=\"dataframe\">\n",
       "<caption>A tibble: 3 × 12</caption>\n",
       "<thead>\n",
       "\t<tr><th scope=col>Panel</th><th scope=col>PanelLotNumber</th><th scope=col>PlateID</th><th scope=col>SampleName</th><th scope=col>SampleType</th><th scope=col>Target</th><th scope=col>AlamarTargetID</th><th scope=col>UniProtID</th><th scope=col>ProteinName</th><th scope=col>SampleQC</th><th scope=col>LOD</th><th scope=col>NPQ</th></tr>\n",
       "\t<tr><th scope=col>&lt;chr&gt;</th><th scope=col>&lt;chr&gt;</th><th scope=col>&lt;chr&gt;</th><th scope=col>&lt;chr&gt;</th><th scope=col>&lt;chr&gt;</th><th scope=col>&lt;chr&gt;</th><th scope=col>&lt;chr&gt;</th><th scope=col>&lt;chr&gt;</th><th scope=col>&lt;chr&gt;</th><th scope=col>&lt;chr&gt;</th><th scope=col>&lt;dbl&gt;</th><th scope=col>&lt;dbl&gt;</th></tr>\n",
       "</thead>\n",
       "<tbody>\n",
       "\t<tr><td>200-Plex Inflammation Panel v2</td><td>panelLot022</td><td>Plate_01</td><td>A_01_TRP-34082</td><td>Sample</td><td>AGER</td><td>t5521</td><td>Q15109</td><td>Advanced glycosylation end product-specific receptor</td><td>PASS</td><td>0</td><td>5.493463</td></tr>\n",
       "\t<tr><td>200-Plex Inflammation Panel v2</td><td>panelLot022</td><td>Plate_01</td><td>A_02_TRP-34086</td><td>Sample</td><td>AGER</td><td>t5521</td><td>Q15109</td><td>Advanced glycosylation end product-specific receptor</td><td>PASS</td><td>0</td><td>4.453723</td></tr>\n",
       "\t<tr><td>200-Plex Inflammation Panel v2</td><td>panelLot022</td><td>Plate_01</td><td>A_03_TRP-42335</td><td>Sample</td><td>AGER</td><td>t5521</td><td>Q15109</td><td>Advanced glycosylation end product-specific receptor</td><td>PASS</td><td>0</td><td>6.469100</td></tr>\n",
       "</tbody>\n",
       "</table>\n"
      ],
      "text/latex": [
       "A tibble: 3 × 12\n",
       "\\begin{tabular}{llllllllllll}\n",
       " Panel & PanelLotNumber & PlateID & SampleName & SampleType & Target & AlamarTargetID & UniProtID & ProteinName & SampleQC & LOD & NPQ\\\\\n",
       " <chr> & <chr> & <chr> & <chr> & <chr> & <chr> & <chr> & <chr> & <chr> & <chr> & <dbl> & <dbl>\\\\\n",
       "\\hline\n",
       "\t 200-Plex Inflammation Panel v2 & panelLot022 & Plate\\_01 & A\\_01\\_TRP-34082 & Sample & AGER & t5521 & Q15109 & Advanced glycosylation end product-specific receptor & PASS & 0 & 5.493463\\\\\n",
       "\t 200-Plex Inflammation Panel v2 & panelLot022 & Plate\\_01 & A\\_02\\_TRP-34086 & Sample & AGER & t5521 & Q15109 & Advanced glycosylation end product-specific receptor & PASS & 0 & 4.453723\\\\\n",
       "\t 200-Plex Inflammation Panel v2 & panelLot022 & Plate\\_01 & A\\_03\\_TRP-42335 & Sample & AGER & t5521 & Q15109 & Advanced glycosylation end product-specific receptor & PASS & 0 & 6.469100\\\\\n",
       "\\end{tabular}\n"
      ],
      "text/markdown": [
       "\n",
       "A tibble: 3 × 12\n",
       "\n",
       "| Panel &lt;chr&gt; | PanelLotNumber &lt;chr&gt; | PlateID &lt;chr&gt; | SampleName &lt;chr&gt; | SampleType &lt;chr&gt; | Target &lt;chr&gt; | AlamarTargetID &lt;chr&gt; | UniProtID &lt;chr&gt; | ProteinName &lt;chr&gt; | SampleQC &lt;chr&gt; | LOD &lt;dbl&gt; | NPQ &lt;dbl&gt; |\n",
       "|---|---|---|---|---|---|---|---|---|---|---|---|\n",
       "| 200-Plex Inflammation Panel v2 | panelLot022 | Plate_01 | A_01_TRP-34082 | Sample | AGER | t5521 | Q15109 | Advanced glycosylation end product-specific receptor | PASS | 0 | 5.493463 |\n",
       "| 200-Plex Inflammation Panel v2 | panelLot022 | Plate_01 | A_02_TRP-34086 | Sample | AGER | t5521 | Q15109 | Advanced glycosylation end product-specific receptor | PASS | 0 | 4.453723 |\n",
       "| 200-Plex Inflammation Panel v2 | panelLot022 | Plate_01 | A_03_TRP-42335 | Sample | AGER | t5521 | Q15109 | Advanced glycosylation end product-specific receptor | PASS | 0 | 6.469100 |\n",
       "\n"
      ],
      "text/plain": [
       "  Panel                          PanelLotNumber PlateID  SampleName    \n",
       "1 200-Plex Inflammation Panel v2 panelLot022    Plate_01 A_01_TRP-34082\n",
       "2 200-Plex Inflammation Panel v2 panelLot022    Plate_01 A_02_TRP-34086\n",
       "3 200-Plex Inflammation Panel v2 panelLot022    Plate_01 A_03_TRP-42335\n",
       "  SampleType Target AlamarTargetID UniProtID\n",
       "1 Sample     AGER   t5521          Q15109   \n",
       "2 Sample     AGER   t5521          Q15109   \n",
       "3 Sample     AGER   t5521          Q15109   \n",
       "  ProteinName                                          SampleQC LOD NPQ     \n",
       "1 Advanced glycosylation end product-specific receptor PASS     0   5.493463\n",
       "2 Advanced glycosylation end product-specific receptor PASS     0   4.453723\n",
       "3 Advanced glycosylation end product-specific receptor PASS     0   6.469100"
      ]
     },
     "metadata": {},
     "output_type": "display_data"
    }
   ],
   "source": [
    "data[1:3,]"
   ]
  },
  {
   "cell_type": "code",
   "execution_count": 16,
   "id": "fd74b5ff-5c10-4c18-b4c1-bc1a473c112b",
   "metadata": {},
   "outputs": [],
   "source": [
    "# pivot the data to make a matrix\n",
    "wide_data <- data %>% pivot_wider(id_cols = SampleName, names_from = Target, values_from = NPQ)\n",
    "\n",
    "# transpose the data to be in the correct format for limma\n",
    "# rows = genes\n",
    "# columns = samples\n",
    "t_data = t(wide_data)\n",
    "\n",
    "# clean up the first row\n",
    "colnames(t_data) <- t_data[1,]\n",
    "t_data <- as.data.frame(t_data[-1,])\n",
    "\n",
    "# get the column names\n",
    "sample_names <- colnames(t_data)\n",
    "\n",
    "# remove the pattern [A-Z]_[0-9]+\n",
    "new_sample_names <- gsub(\"[A-Z]_[0-9]+_\", \"\", sample_names)\n",
    "\n",
    "# assign the new column names back to the data frame\n",
    "colnames(t_data) <- new_sample_names\n",
    "\n",
    "# # trim whitespace and convert to numeric\n",
    "# t_data <- apply(t_data, 2, function(x) as.numeric(trimws(x)))\n",
    "\n",
    "write.table(t_data, \"results/comp_data/protein_levels.npq.tsv\", sep = \"\\t\", col.names = TRUE, quote=FALSE)"
   ]
  },
  {
   "cell_type": "markdown",
   "id": "e8e9f0be-f8b1-4384-9385-cf013e40b2c5",
   "metadata": {},
   "source": [
    "## Process the clinical data"
   ]
  },
  {
   "cell_type": "code",
   "execution_count": 17,
   "id": "5ffd0207-570e-4e36-8bc4-b8a4d7b95907",
   "metadata": {},
   "outputs": [],
   "source": [
    "# load clinical data\n",
    "fn <- \"results/raw/ADA_IBD_Saliva_Biospecimen Manifest Form-for-NULISA_241022.V2.Updated_Sample20.xlsx\"\n",
    "clinical_data <- read_excel(fn, sheet = \"Aliquot Information\")"
   ]
  },
  {
   "cell_type": "code",
   "execution_count": 18,
   "id": "3c1bb0eb-b6d3-44a7-9c52-ef33505bed2c",
   "metadata": {},
   "outputs": [],
   "source": [
    "# rename columns for programming use\n",
    "transform_string <- function(x) {\n",
    "  x <- tolower(x)            # Convert to lowercase\n",
    "  x <- gsub(\" \", \"_\", x)     # Replace spaces with \"_\"\n",
    "  x <- gsub(\"\\\\(\", \"_\", x)   # Replace \"(\" with \"_\"\n",
    "  x <- gsub(\"\\\\)\", \"\", x)    # Remove \")\"\n",
    "  return(x)\n",
    "}\n",
    "\n",
    "# Apply the function to the vector\n",
    "transformed_cols <- sapply(as.vector(colnames(clinical_data)), transform_string)\n",
    "colnames(clinical_data) <- transformed_cols"
   ]
  },
  {
   "cell_type": "code",
   "execution_count": 19,
   "id": "3402f29f-c526-4d7f-aa9d-9db036f1eba4",
   "metadata": {},
   "outputs": [],
   "source": [
    "# remove nan samples\n",
    "clinical_data <- clinical_data[!is.na(clinical_data$project_name),]\n",
    "clinical_sample_names = clinical_data$original_subject_id"
   ]
  },
  {
   "cell_type": "code",
   "execution_count": 20,
   "id": "4c845527-933c-47de-9c8d-bd7af8c058bc",
   "metadata": {},
   "outputs": [],
   "source": [
    "# Create a new row as a dataframe\n",
    "new_row <- data.frame(\n",
    "  original_subject_id = c(\"SC_Rep01\", \"SC_Rep02\", \"SC_Rep03\"),\n",
    "  sample_id = c(\"SC_Rep01\", \"SC_Rep02\", \"SC_Rep03\"),\n",
    "  ibd_diagnosis = c(\"Alamar_Sample_Control\", \"Alamar_Sample_Control\", \"Alamar_Sample_Control\"),\n",
    "  disease_activity = c(\"N/A\", \"N/A\", \"N/A\")\n",
    ")"
   ]
  },
  {
   "cell_type": "code",
   "execution_count": 21,
   "id": "cea77eab-30e3-4cfe-baff-3d269488fe73",
   "metadata": {},
   "outputs": [],
   "source": [
    "# Add the new row to the dataframe\n",
    "clinical_data <- bind_rows(clinical_data, new_row)\n",
    "\n",
    "# order the dataframe based on the order of new sample names\n",
    "clinical_data <- clinical_data[match(new_sample_names, clinical_data$original_subject_id), ]"
   ]
  },
  {
   "cell_type": "code",
   "execution_count": 22,
   "id": "17005dd2-4ec0-4474-867a-a864a4ab5770",
   "metadata": {},
   "outputs": [],
   "source": [
    "# def indicator function\n",
    "get_indicator <- function(x, check_list, categories) {\n",
    "  \n",
    "  if (x %in% check_list) {\n",
    "    return(categories[[1]])\n",
    "  } \n",
    "  else {\n",
    "    return(categories[[2]])\n",
    "  }\n",
    "}\n",
    "\n",
    "# add ibd disease indicator\n",
    "ibd_check_list = c(\"CD\", \"UC\", \"IBD-U\")\n",
    "ibd_indicator <- sapply(as.vector(clinical_data$ibd_diagnosis), get_indicator, check_list=ibd_check_list, categories=c(\"IBD Super Group\", \"Control Super Group\"))\n",
    "clinical_data$ibd_indicator <- ibd_indicator\n",
    "\n",
    "# add disease activity indicator\n",
    "da_check_list = c(\"Moderate\", \"Mild\")\n",
    "da_indicator <- sapply(as.vector(clinical_data$disease_activity), get_indicator, check_list=da_check_list, categories=c(\"Active Disease\", \"In-active Disease\"))\n",
    "clinical_data$disease_activity_indicator <- da_indicator"
   ]
  },
  {
   "cell_type": "code",
   "execution_count": 23,
   "id": "f5e55997-efbd-4401-9a8c-b5e67f8f0320",
   "metadata": {},
   "outputs": [],
   "source": [
    "write.table(clinical_data, \"results/comp_data/clinical_data.tsv\", sep = \"\\t\", col.names = TRUE, row.names=FALSE, quote=FALSE)"
   ]
  },
  {
   "cell_type": "code",
   "execution_count": null,
   "id": "7e3b2db0-7ec8-4f5c-9af2-5f9b936043f3",
   "metadata": {},
   "outputs": [],
   "source": []
  }
 ],
 "metadata": {
  "kernelspec": {
   "display_name": "R-starter",
   "language": "R",
   "name": "r-starter"
  },
  "language_info": {
   "codemirror_mode": "r",
   "file_extension": ".r",
   "mimetype": "text/x-r-source",
   "name": "R",
   "pygments_lexer": "r",
   "version": "4.4.1"
  }
 },
 "nbformat": 4,
 "nbformat_minor": 5
}

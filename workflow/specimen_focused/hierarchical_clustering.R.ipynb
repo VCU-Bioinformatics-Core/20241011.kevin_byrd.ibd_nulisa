{
 "cells": [
  {
   "cell_type": "markdown",
   "id": "58eb3b4f-4cae-410f-b5cb-56f70b4d7c99",
   "metadata": {},
   "source": [
    "# Protein Level Analysis"
   ]
  },
  {
   "cell_type": "code",
   "execution_count": 1,
   "id": "9961a16f-fc56-4cfa-a3bd-a93bdf8baa36",
   "metadata": {
    "vscode": {
     "languageId": "r"
    }
   },
   "outputs": [
    {
     "name": "stderr",
     "output_type": "stream",
     "text": [
      "── \u001b[1mAttaching core tidyverse packages\u001b[22m ───────────────────────────────────────────────────────────────────────────────────────────────────────────────────────────────────── tidyverse 2.0.0 ──\n",
      "\u001b[32m✔\u001b[39m \u001b[34mdplyr    \u001b[39m 1.1.4     \u001b[32m✔\u001b[39m \u001b[34mreadr    \u001b[39m 2.1.5\n",
      "\u001b[32m✔\u001b[39m \u001b[34mforcats  \u001b[39m 1.0.0     \u001b[32m✔\u001b[39m \u001b[34mstringr  \u001b[39m 1.5.1\n",
      "\u001b[32m✔\u001b[39m \u001b[34mggplot2  \u001b[39m 3.5.2     \u001b[32m✔\u001b[39m \u001b[34mtibble   \u001b[39m 3.2.1\n",
      "\u001b[32m✔\u001b[39m \u001b[34mlubridate\u001b[39m 1.9.4     \u001b[32m✔\u001b[39m \u001b[34mtidyr    \u001b[39m 1.3.1\n",
      "\u001b[32m✔\u001b[39m \u001b[34mpurrr    \u001b[39m 1.0.4     \n",
      "── \u001b[1mConflicts\u001b[22m ─────────────────────────────────────────────────────────────────────────────────────────────────────────────────────────────────────────────────────── tidyverse_conflicts() ──\n",
      "\u001b[31m✖\u001b[39m \u001b[34mforcats\u001b[39m::\u001b[32m%>%()\u001b[39m           masks \u001b[34mstringr\u001b[39m::%>%(), \u001b[34mdplyr\u001b[39m::%>%(), \u001b[34mpurrr\u001b[39m::%>%(), \u001b[34mtidyr\u001b[39m::%>%(), \u001b[34mtibble\u001b[39m::%>%(), \u001b[34msets\u001b[39m::%>%()\n",
      "\u001b[31m✖\u001b[39m \u001b[34mlubridate\u001b[39m::\u001b[32mas.interval()\u001b[39m masks \u001b[34msets\u001b[39m::as.interval()\n",
      "\u001b[31m✖\u001b[39m \u001b[34mdplyr\u001b[39m::\u001b[32mfilter()\u001b[39m          masks \u001b[34mstats\u001b[39m::filter()\n",
      "\u001b[31m✖\u001b[39m \u001b[34mlubridate\u001b[39m::\u001b[32minterval()\u001b[39m    masks \u001b[34msets\u001b[39m::interval()\n",
      "\u001b[31m✖\u001b[39m \u001b[34mlubridate\u001b[39m::\u001b[32mis.interval()\u001b[39m masks \u001b[34msets\u001b[39m::is.interval()\n",
      "\u001b[31m✖\u001b[39m \u001b[34mdplyr\u001b[39m::\u001b[32mlag()\u001b[39m             masks \u001b[34mstats\u001b[39m::lag()\n",
      "\u001b[36mℹ\u001b[39m Use the conflicted package (\u001b[3m\u001b[34m<http://conflicted.r-lib.org/>\u001b[39m\u001b[23m) to force all conflicts to become errors\n",
      "\n",
      "Attaching package: ‘gplots’\n",
      "\n",
      "\n",
      "The following object is masked from ‘package:stats’:\n",
      "\n",
      "    lowess\n",
      "\n",
      "\n",
      "Loaded ROSE 0.0-4\n",
      "\n",
      "\n"
     ]
    },
    {
     "ename": "ERROR",
     "evalue": "Error in library(svglite): there is no package called ‘svglite’\n",
     "output_type": "error",
     "traceback": [
      "Error in library(svglite): there is no package called ‘svglite’\nTraceback:\n",
      "1. stop(packageNotFoundError(package, lib.loc, sys.call()))"
     ]
    }
   ],
   "source": [
    "library(readxl)\n",
    "library(sets)\n",
    "library(tidyverse)\n",
    "library(limma)\n",
    "library(gplots)\n",
    "library(ggplot2)\n",
    "library(dplyr)\n",
    "library(ROSE)\n",
    "library(scutr)\n",
    "library(svglite)\n",
    "library(ComplexHeatmap)\n",
    "\n",
    "# set working directory\n",
    "#setwd('/lustre/home/reynaj/Projects/20241011.kevin_byrd.ibd_nulisa')\n",
    "setwd('/home/reynaj/projects/kevin_byrd/20241011.kevin_byrd.ibd_nulisa')\n",
    "\n",
    "# set the output directory\n",
    "outdir <- \"results/specimen_focused/limma/cd_only/\"\n",
    "\n",
    "# Check if the directory exists, and create it if it doesn't\n",
    "if (!dir.exists(outdir)) {\n",
    "  dir.create(outdir)\n",
    "}"
   ]
  },
  {
   "cell_type": "markdown",
   "id": "e6f81454-38cb-43a8-adc2-e495237e40c0",
   "metadata": {},
   "source": [
    "## Load the datasets"
   ]
  },
  {
   "cell_type": "code",
   "execution_count": null,
   "id": "f4ebcdb3-f7b7-4291-a7e5-653d36b75d43",
   "metadata": {
    "tags": [],
    "vscode": {
     "languageId": "r"
    }
   },
   "outputs": [],
   "source": [
    "# load protein data\n",
    "fn = \"results/specimen_focused/comp_data/protein_levels.npq.tsv\"\n",
    "protein_data <- read.table(fn, header=TRUE, check.names=FALSE, sep = \"\\t\")\n",
    "\n",
    "# load clinical data\n",
    "fn = \"results/specimen_focused/comp_data/clinical_data.tsv\"\n",
    "clinical_data <- read.table(fn, header=TRUE, sep=\"\\t\")\n",
    "\n",
    "# remove alamar samples completely\n",
    "clinical_data <- clinical_data[clinical_data$ibd_diagnosis != \"Alamar_Sample_Control\",] \n",
    "protein_data <- protein_data[, clinical_data$sample_id]\n",
    "\n",
    "# extract just CD and UC data\n",
    "focus_idxs <- which(clinical_data$ibd_diagnosis %in% c(\"CD\"))\n",
    "clinical_data = clinical_data[focus_idxs,]\n",
    "protein_data = protein_data[,focus_idxs]"
   ]
  },
  {
   "cell_type": "markdown",
   "id": "d00626e7-fff3-45f0-8f2a-50fef094257b",
   "metadata": {},
   "source": [
    "## Run hierarchical clustering"
   ]
  },
  {
   "cell_type": "code",
   "execution_count": null,
   "id": "9b545449-0570-4757-9b74-35e78ece5eea",
   "metadata": {},
   "outputs": [],
   "source": [
    "# Create a heatmap annotation for the diagnosis\n",
    "# color brewer - https://colorbrewer2.org/#type=diverging&scheme=RdGy&n=11\n",
    "\n",
    "# Create a heatmap annotation for the diagnosis\n",
    "ha_da_idx <- HeatmapAnnotation(disease_activity_indicator = clinical_data$disease_activity_indicator, \n",
    "                        name = \"Disease Activity\",\n",
    "                        col = list(disease_activity_indicator = c(\"In-active Disease\" = \"#276419\", \"Active Disease\" = \"#8e0152\")),\n",
    "                        annotation_legend_param = list(title=\"Disease Activity\"))\n",
    "\n",
    "ht <- Heatmap(as.matrix(protein_data),\n",
    "        name = \"Protein Levels\",\n",
    "        row_title = \"Proteins\",\n",
    "        column_title = \"Samples\",\n",
    "        cluster_rows = TRUE,\n",
    "        cluster_columns = TRUE,\n",
    "        show_row_names = FALSE,\n",
    "        show_column_names = FALSE,\n",
    "        column_labels = clinical_data$ibd_indicator,\n",
    "        top_annotation = ha_da_idx)\n",
    "\n",
    "# Draw the heatmap and add a main title\n",
    "ht_list <- draw(ht,\n",
    "                heatmap_legend_side = \"right\", \n",
    "                annotation_legend_side = \"right\")\n",
    "ht_grob <- grid.grabExpr(draw(ht_list))\n",
    "\n",
    "# Save the plot as SVG without the textLength attribute\n",
    "svglite(file.path(outdir, \"samples.cd_data.hierarchical_clustering.svg\"), fix_text_size = FALSE)\n",
    "grid.draw(ht_grob)\n",
    "dev.off()"
   ]
  },
  {
   "cell_type": "code",
   "execution_count": null,
   "id": "3e5ce21f-b776-4a4d-828f-3fe75a0b1bcb",
   "metadata": {},
   "outputs": [],
   "source": [
    "outdir"
   ]
  }
 ],
 "metadata": {
  "kernelspec": {
   "display_name": "Python (Starter 3.13.5)",
   "language": "python",
   "name": "python3"
  },
  "language_info": {
   "codemirror_mode": {
    "name": "ipython",
    "version": 3
   },
   "file_extension": ".py",
   "mimetype": "text/x-python",
   "name": "python",
   "nbconvert_exporter": "python",
   "pygments_lexer": "ipython3",
   "version": "3.13.5"
  },
  "widgets": {
   "application/vnd.jupyter.widget-state+json": {
    "state": {},
    "version_major": 2,
    "version_minor": 0
   }
  }
 },
 "nbformat": 4,
 "nbformat_minor": 5
}

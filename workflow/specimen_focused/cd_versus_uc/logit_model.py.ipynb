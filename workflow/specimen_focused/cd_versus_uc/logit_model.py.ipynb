{
 "cells": [
  {
   "cell_type": "code",
   "execution_count": 24,
   "id": "05520f17-ac31-444f-81c1-fd32d073fcbf",
   "metadata": {
    "editable": true,
    "slideshow": {
     "slide_type": ""
    },
    "tags": []
   },
   "outputs": [],
   "source": [
    "import os\n",
    "import pandas as pd \n",
    "import matplotlib\n",
    "from sklearn import linear_model\n",
    "from sklearn.metrics import confusion_matrix, ConfusionMatrixDisplay, classification_report, roc_curve, precision_recall_fscore_support\n",
    "from sklearn.model_selection import train_test_split, StratifiedKFold, LeaveOneOut\n",
    "from imblearn.over_sampling import RandomOverSampler\n",
    "import matplotlib.pyplot as plt\n",
    "import matplotlib.colors as mcolors\n",
    "import numpy as np\n",
    "import shap\n",
    "import seaborn as sns\n",
    "import itertools as it\n",
    "from sklearn.feature_selection import RFE\n",
    "from sklearn.multiclass import OneVsRestClassifier\n",
    "from sklearn.decomposition import PCA\n",
    "from openpyxl import Workbook, load_workbook\n",
    "\n",
    "from openpyxl import Workbook\n",
    "from openpyxl.drawing.image import Image\n",
    "\n",
    "sns.set_style(\"whitegrid\")\n",
    "\n",
    "os.chdir('/lustre/home/reynaj/Projects/20241011.kevin_byrd.ibd_nulisa')\n",
    "outdir = 'results/specimen_focused/logit_model/cd_versus_uc_only/'\n",
    "\n",
    "os.makedirs(outdir, exist_ok=True)\n",
    "\n",
    "# set the random_state\n",
    "random_state = 17"
   ]
  },
  {
   "cell_type": "markdown",
   "id": "fd7aec6e",
   "metadata": {},
   "source": [
    "## Load the data"
   ]
  },
  {
   "cell_type": "code",
   "execution_count": 25,
   "id": "5645628a-fd3b-4b67-8485-7588d79e95d6",
   "metadata": {},
   "outputs": [],
   "source": [
    "# Load the protein levels data\n",
    "protein_data = pd.read_csv(\"results/specimen_focused/comp_data/protein_levels.npq.tsv\", sep=\"\\t\")\n",
    "protein_data = protein_data.T\n",
    "\n",
    "# extract triplet\n",
    "protein_data = protein_data.loc[:,:]\n",
    "\n",
    "# Load the clinical data\n",
    "clinical_data = pd.read_csv(\"results/specimen_focused/comp_data/clinical_data.tsv\", sep=\"\\t\")\n",
    "\n",
    "# remove alamar samples\n",
    "keep = (~clinical_data['sample_id'].str.contains('SC_Rep')).tolist()\n",
    "clinical_data = clinical_data.loc[keep,:]\n",
    "protein_data = protein_data.loc[keep,:]\n",
    "\n",
    "# extract just CD and UC data\n",
    "focus_idxs = np.argwhere(clinical_data['ibd_diagnosis'].isin(['CD', 'UC'])).reshape(-1)\n",
    "clinical_data = clinical_data.iloc[focus_idxs]\n",
    "protein_data = protein_data.iloc[focus_idxs, :]"
   ]
  },
  {
   "cell_type": "code",
   "execution_count": 26,
   "id": "aaf59e10",
   "metadata": {},
   "outputs": [
    {
     "data": {
      "text/html": [
       "<div>\n",
       "<style scoped>\n",
       "    .dataframe tbody tr th:only-of-type {\n",
       "        vertical-align: middle;\n",
       "    }\n",
       "\n",
       "    .dataframe tbody tr th {\n",
       "        vertical-align: top;\n",
       "    }\n",
       "\n",
       "    .dataframe thead th {\n",
       "        text-align: right;\n",
       "    }\n",
       "</style>\n",
       "<table border=\"1\" class=\"dataframe\">\n",
       "  <thead>\n",
       "    <tr style=\"text-align: right;\">\n",
       "      <th></th>\n",
       "      <th>AGER</th>\n",
       "      <th>AGRP</th>\n",
       "      <th>ANGPT1</th>\n",
       "      <th>ANGPT2</th>\n",
       "      <th>ANXA1</th>\n",
       "      <th>AREG</th>\n",
       "      <th>BDNF</th>\n",
       "      <th>BMP7</th>\n",
       "      <th>BST2</th>\n",
       "      <th>C1QA</th>\n",
       "      <th>...</th>\n",
       "      <th>TREM2</th>\n",
       "      <th>TSLP</th>\n",
       "      <th>VCAM1</th>\n",
       "      <th>VEGFA</th>\n",
       "      <th>VEGFC</th>\n",
       "      <th>VEGFD</th>\n",
       "      <th>VSNL1</th>\n",
       "      <th>VSTM1</th>\n",
       "      <th>WNT16</th>\n",
       "      <th>WNT7A</th>\n",
       "    </tr>\n",
       "  </thead>\n",
       "  <tbody>\n",
       "    <tr>\n",
       "      <th>TRP-34082</th>\n",
       "      <td>5.493463</td>\n",
       "      <td>8.765074</td>\n",
       "      <td>15.76212</td>\n",
       "      <td>11.250206</td>\n",
       "      <td>17.79754</td>\n",
       "      <td>14.68076</td>\n",
       "      <td>0.000000</td>\n",
       "      <td>7.512066</td>\n",
       "      <td>10.206268</td>\n",
       "      <td>8.081331</td>\n",
       "      <td>...</td>\n",
       "      <td>6.206720</td>\n",
       "      <td>10.94101</td>\n",
       "      <td>0.000000</td>\n",
       "      <td>18.23954</td>\n",
       "      <td>16.68403</td>\n",
       "      <td>9.214276</td>\n",
       "      <td>22.58694</td>\n",
       "      <td>14.75831</td>\n",
       "      <td>7.103437</td>\n",
       "      <td>8.497241</td>\n",
       "    </tr>\n",
       "    <tr>\n",
       "      <th>TRP-34086</th>\n",
       "      <td>4.453723</td>\n",
       "      <td>10.299592</td>\n",
       "      <td>17.59438</td>\n",
       "      <td>11.835780</td>\n",
       "      <td>16.49940</td>\n",
       "      <td>14.91346</td>\n",
       "      <td>9.248813</td>\n",
       "      <td>9.961362</td>\n",
       "      <td>11.179836</td>\n",
       "      <td>8.589964</td>\n",
       "      <td>...</td>\n",
       "      <td>0.000000</td>\n",
       "      <td>11.29018</td>\n",
       "      <td>7.094106</td>\n",
       "      <td>18.36369</td>\n",
       "      <td>19.17019</td>\n",
       "      <td>8.799946</td>\n",
       "      <td>20.19290</td>\n",
       "      <td>17.99542</td>\n",
       "      <td>7.941584</td>\n",
       "      <td>8.232622</td>\n",
       "    </tr>\n",
       "    <tr>\n",
       "      <th>TRP-42335</th>\n",
       "      <td>6.469100</td>\n",
       "      <td>11.617355</td>\n",
       "      <td>17.49572</td>\n",
       "      <td>12.059989</td>\n",
       "      <td>20.11341</td>\n",
       "      <td>12.85620</td>\n",
       "      <td>0.000000</td>\n",
       "      <td>8.614946</td>\n",
       "      <td>9.096235</td>\n",
       "      <td>9.529024</td>\n",
       "      <td>...</td>\n",
       "      <td>6.516471</td>\n",
       "      <td>11.47073</td>\n",
       "      <td>0.000000</td>\n",
       "      <td>18.52676</td>\n",
       "      <td>18.22880</td>\n",
       "      <td>7.187657</td>\n",
       "      <td>20.12907</td>\n",
       "      <td>17.56549</td>\n",
       "      <td>5.531130</td>\n",
       "      <td>5.503245</td>\n",
       "    </tr>\n",
       "    <tr>\n",
       "      <th>TRP-42324</th>\n",
       "      <td>5.398481</td>\n",
       "      <td>8.084902</td>\n",
       "      <td>18.85520</td>\n",
       "      <td>11.783576</td>\n",
       "      <td>20.28382</td>\n",
       "      <td>13.00942</td>\n",
       "      <td>0.000000</td>\n",
       "      <td>8.196127</td>\n",
       "      <td>10.835604</td>\n",
       "      <td>0.000000</td>\n",
       "      <td>...</td>\n",
       "      <td>5.131593</td>\n",
       "      <td>11.29977</td>\n",
       "      <td>0.000000</td>\n",
       "      <td>18.23974</td>\n",
       "      <td>17.62960</td>\n",
       "      <td>8.247575</td>\n",
       "      <td>20.06370</td>\n",
       "      <td>17.24266</td>\n",
       "      <td>0.000000</td>\n",
       "      <td>8.372645</td>\n",
       "    </tr>\n",
       "    <tr>\n",
       "      <th>TRP-42322</th>\n",
       "      <td>5.444545</td>\n",
       "      <td>9.068033</td>\n",
       "      <td>18.69799</td>\n",
       "      <td>12.531015</td>\n",
       "      <td>19.71289</td>\n",
       "      <td>16.21479</td>\n",
       "      <td>0.000000</td>\n",
       "      <td>9.476020</td>\n",
       "      <td>16.270733</td>\n",
       "      <td>10.781654</td>\n",
       "      <td>...</td>\n",
       "      <td>7.467110</td>\n",
       "      <td>11.17309</td>\n",
       "      <td>0.000000</td>\n",
       "      <td>18.78044</td>\n",
       "      <td>18.04191</td>\n",
       "      <td>11.034922</td>\n",
       "      <td>21.84698</td>\n",
       "      <td>17.57186</td>\n",
       "      <td>8.126035</td>\n",
       "      <td>9.796662</td>\n",
       "    </tr>\n",
       "  </tbody>\n",
       "</table>\n",
       "<p>5 rows × 250 columns</p>\n",
       "</div>"
      ],
      "text/plain": [
       "               AGER       AGRP    ANGPT1     ANGPT2     ANXA1      AREG  \\\n",
       "TRP-34082  5.493463   8.765074  15.76212  11.250206  17.79754  14.68076   \n",
       "TRP-34086  4.453723  10.299592  17.59438  11.835780  16.49940  14.91346   \n",
       "TRP-42335  6.469100  11.617355  17.49572  12.059989  20.11341  12.85620   \n",
       "TRP-42324  5.398481   8.084902  18.85520  11.783576  20.28382  13.00942   \n",
       "TRP-42322  5.444545   9.068033  18.69799  12.531015  19.71289  16.21479   \n",
       "\n",
       "               BDNF      BMP7       BST2       C1QA  ...     TREM2      TSLP  \\\n",
       "TRP-34082  0.000000  7.512066  10.206268   8.081331  ...  6.206720  10.94101   \n",
       "TRP-34086  9.248813  9.961362  11.179836   8.589964  ...  0.000000  11.29018   \n",
       "TRP-42335  0.000000  8.614946   9.096235   9.529024  ...  6.516471  11.47073   \n",
       "TRP-42324  0.000000  8.196127  10.835604   0.000000  ...  5.131593  11.29977   \n",
       "TRP-42322  0.000000  9.476020  16.270733  10.781654  ...  7.467110  11.17309   \n",
       "\n",
       "              VCAM1     VEGFA     VEGFC      VEGFD     VSNL1     VSTM1  \\\n",
       "TRP-34082  0.000000  18.23954  16.68403   9.214276  22.58694  14.75831   \n",
       "TRP-34086  7.094106  18.36369  19.17019   8.799946  20.19290  17.99542   \n",
       "TRP-42335  0.000000  18.52676  18.22880   7.187657  20.12907  17.56549   \n",
       "TRP-42324  0.000000  18.23974  17.62960   8.247575  20.06370  17.24266   \n",
       "TRP-42322  0.000000  18.78044  18.04191  11.034922  21.84698  17.57186   \n",
       "\n",
       "              WNT16     WNT7A  \n",
       "TRP-34082  7.103437  8.497241  \n",
       "TRP-34086  7.941584  8.232622  \n",
       "TRP-42335  5.531130  5.503245  \n",
       "TRP-42324  0.000000  8.372645  \n",
       "TRP-42322  8.126035  9.796662  \n",
       "\n",
       "[5 rows x 250 columns]"
      ]
     },
     "execution_count": 26,
     "metadata": {},
     "output_type": "execute_result"
    }
   ],
   "source": [
    "protein_data.head()"
   ]
  },
  {
   "cell_type": "code",
   "execution_count": 27,
   "id": "0fa5c19d",
   "metadata": {},
   "outputs": [
    {
     "data": {
      "text/html": [
       "<div>\n",
       "<style scoped>\n",
       "    .dataframe tbody tr th:only-of-type {\n",
       "        vertical-align: middle;\n",
       "    }\n",
       "\n",
       "    .dataframe tbody tr th {\n",
       "        vertical-align: top;\n",
       "    }\n",
       "\n",
       "    .dataframe thead th {\n",
       "        text-align: right;\n",
       "    }\n",
       "</style>\n",
       "<table border=\"1\" class=\"dataframe\">\n",
       "  <thead>\n",
       "    <tr style=\"text-align: right;\">\n",
       "      <th></th>\n",
       "      <th>project_name</th>\n",
       "      <th>sample_type</th>\n",
       "      <th>sample_id</th>\n",
       "      <th>collection_date</th>\n",
       "      <th>box_id</th>\n",
       "      <th>box_location</th>\n",
       "      <th>total_volume__ml</th>\n",
       "      <th>original_subject_id</th>\n",
       "      <th>event_name</th>\n",
       "      <th>ibd_diagnosis</th>\n",
       "      <th>date_collection</th>\n",
       "      <th>disease_activity</th>\n",
       "      <th>matched_subject_id</th>\n",
       "      <th>notes</th>\n",
       "      <th>ibd_indicator</th>\n",
       "      <th>disease_activity_indicator</th>\n",
       "      <th>max_crp_value</th>\n",
       "      <th>crp_severity</th>\n",
       "    </tr>\n",
       "  </thead>\n",
       "  <tbody>\n",
       "    <tr>\n",
       "      <th>0</th>\n",
       "      <td>Byrd_IBD_Saliva_sup</td>\n",
       "      <td>Saliva</td>\n",
       "      <td>TRP-34082</td>\n",
       "      <td>2023-11-30 15:34:05.854</td>\n",
       "      <td>1.0</td>\n",
       "      <td>A1</td>\n",
       "      <td>1100.0</td>\n",
       "      <td>TRP-34082</td>\n",
       "      <td>1.0</td>\n",
       "      <td>CD</td>\n",
       "      <td>2023-11-30</td>\n",
       "      <td>Quiescent</td>\n",
       "      <td>1.0</td>\n",
       "      <td>NaN</td>\n",
       "      <td>IBD Super Group</td>\n",
       "      <td>In-active Disease</td>\n",
       "      <td>1.0</td>\n",
       "      <td>Mild</td>\n",
       "    </tr>\n",
       "    <tr>\n",
       "      <th>1</th>\n",
       "      <td>Byrd_IBD_Saliva_sup</td>\n",
       "      <td>Saliva</td>\n",
       "      <td>TRP-34086</td>\n",
       "      <td>2023-11-30 15:34:05.854</td>\n",
       "      <td>1.0</td>\n",
       "      <td>A2</td>\n",
       "      <td>1100.0</td>\n",
       "      <td>TRP-34086</td>\n",
       "      <td>1.0</td>\n",
       "      <td>CD</td>\n",
       "      <td>2023-11-30</td>\n",
       "      <td>Quiescent</td>\n",
       "      <td>3.0</td>\n",
       "      <td>NaN</td>\n",
       "      <td>IBD Super Group</td>\n",
       "      <td>In-active Disease</td>\n",
       "      <td>1.0</td>\n",
       "      <td>Mild</td>\n",
       "    </tr>\n",
       "    <tr>\n",
       "      <th>2</th>\n",
       "      <td>Byrd_IBD_Saliva_sup</td>\n",
       "      <td>Saliva</td>\n",
       "      <td>TRP-42335</td>\n",
       "      <td>2023-12-20 16:51:00.779</td>\n",
       "      <td>1.0</td>\n",
       "      <td>A3</td>\n",
       "      <td>1000.0</td>\n",
       "      <td>TRP-42335</td>\n",
       "      <td>1.0</td>\n",
       "      <td>CD</td>\n",
       "      <td>2023-12-20</td>\n",
       "      <td>Quiescent</td>\n",
       "      <td>7.0</td>\n",
       "      <td>NaN</td>\n",
       "      <td>IBD Super Group</td>\n",
       "      <td>In-active Disease</td>\n",
       "      <td>1.0</td>\n",
       "      <td>Mild</td>\n",
       "    </tr>\n",
       "    <tr>\n",
       "      <th>3</th>\n",
       "      <td>Byrd_IBD_Saliva_sup</td>\n",
       "      <td>Saliva</td>\n",
       "      <td>TRP-42324</td>\n",
       "      <td>2023-12-20 13:54:07.467</td>\n",
       "      <td>1.0</td>\n",
       "      <td>A4</td>\n",
       "      <td>1000.0</td>\n",
       "      <td>TRP-42324</td>\n",
       "      <td>1.0</td>\n",
       "      <td>UC</td>\n",
       "      <td>2023-12-20</td>\n",
       "      <td>Quiescent</td>\n",
       "      <td>6.0</td>\n",
       "      <td>NaN</td>\n",
       "      <td>IBD Super Group</td>\n",
       "      <td>In-active Disease</td>\n",
       "      <td>9.0</td>\n",
       "      <td>Moderate</td>\n",
       "    </tr>\n",
       "    <tr>\n",
       "      <th>4</th>\n",
       "      <td>Byrd_IBD_Saliva_sup</td>\n",
       "      <td>Saliva</td>\n",
       "      <td>TRP-42322</td>\n",
       "      <td>2023-12-20 13:53:28.319</td>\n",
       "      <td>1.0</td>\n",
       "      <td>A5</td>\n",
       "      <td>1000.0</td>\n",
       "      <td>TRP-42322</td>\n",
       "      <td>1.0</td>\n",
       "      <td>CD</td>\n",
       "      <td>2023-12-20</td>\n",
       "      <td>Quiescent</td>\n",
       "      <td>5.0</td>\n",
       "      <td>NaN</td>\n",
       "      <td>IBD Super Group</td>\n",
       "      <td>In-active Disease</td>\n",
       "      <td>1.0</td>\n",
       "      <td>Mild</td>\n",
       "    </tr>\n",
       "  </tbody>\n",
       "</table>\n",
       "</div>"
      ],
      "text/plain": [
       "          project_name sample_type  sample_id          collection_date  \\\n",
       "0  Byrd_IBD_Saliva_sup      Saliva  TRP-34082  2023-11-30 15:34:05.854   \n",
       "1  Byrd_IBD_Saliva_sup      Saliva  TRP-34086  2023-11-30 15:34:05.854   \n",
       "2  Byrd_IBD_Saliva_sup      Saliva  TRP-42335  2023-12-20 16:51:00.779   \n",
       "3  Byrd_IBD_Saliva_sup      Saliva  TRP-42324  2023-12-20 13:54:07.467   \n",
       "4  Byrd_IBD_Saliva_sup      Saliva  TRP-42322  2023-12-20 13:53:28.319   \n",
       "\n",
       "   box_id box_location  total_volume__ml original_subject_id  event_name  \\\n",
       "0     1.0           A1            1100.0           TRP-34082         1.0   \n",
       "1     1.0           A2            1100.0           TRP-34086         1.0   \n",
       "2     1.0           A3            1000.0           TRP-42335         1.0   \n",
       "3     1.0           A4            1000.0           TRP-42324         1.0   \n",
       "4     1.0           A5            1000.0           TRP-42322         1.0   \n",
       "\n",
       "  ibd_diagnosis date_collection disease_activity  matched_subject_id  notes  \\\n",
       "0            CD      2023-11-30        Quiescent                 1.0    NaN   \n",
       "1            CD      2023-11-30        Quiescent                 3.0    NaN   \n",
       "2            CD      2023-12-20        Quiescent                 7.0    NaN   \n",
       "3            UC      2023-12-20        Quiescent                 6.0    NaN   \n",
       "4            CD      2023-12-20        Quiescent                 5.0    NaN   \n",
       "\n",
       "     ibd_indicator disease_activity_indicator  max_crp_value crp_severity  \n",
       "0  IBD Super Group          In-active Disease            1.0         Mild  \n",
       "1  IBD Super Group          In-active Disease            1.0         Mild  \n",
       "2  IBD Super Group          In-active Disease            1.0         Mild  \n",
       "3  IBD Super Group          In-active Disease            9.0     Moderate  \n",
       "4  IBD Super Group          In-active Disease            1.0         Mild  "
      ]
     },
     "execution_count": 27,
     "metadata": {},
     "output_type": "execute_result"
    }
   ],
   "source": [
    "clinical_data.head()"
   ]
  },
  {
   "cell_type": "markdown",
   "id": "06b242a6-91bf-41bb-8c54-1fafb840a6f2",
   "metadata": {},
   "source": [
    "## Predicting IBD Diagnosis"
   ]
  },
  {
   "cell_type": "code",
   "execution_count": 28,
   "id": "0fa8b73f",
   "metadata": {},
   "outputs": [],
   "source": [
    "# Extract the diagnosis column as the task data\n",
    "task_data = clinical_data['ibd_diagnosis']"
   ]
  },
  {
   "cell_type": "markdown",
   "id": "c3a05cde",
   "metadata": {},
   "source": [
    "### Run Recursive Feature Selection"
   ]
  },
  {
   "cell_type": "code",
   "execution_count": 29,
   "id": "aa3effca",
   "metadata": {},
   "outputs": [],
   "source": [
    "def test_feature_set(features):\n",
    "\n",
    "    # split the data first\n",
    "    X_train, X_test, y_train, y_test = train_test_split(protein_data.loc[:, features], task_data, test_size=0.2, random_state=random_state)\n",
    "\n",
    "    # resample the data second (used to balance classes; training data only or else you introduce leakage)\n",
    "    X_train_resampled, y_train_resampled = RandomOverSampler(random_state=random_state).fit_resample(X_train, y_train)\n",
    "\n",
    "    # create a model object\n",
    "    model = linear_model.LogisticRegression(random_state=0, max_iter=1000)\n",
    "\n",
    "    # Fit the model on the training data\n",
    "    model.fit(X_train_resampled, y_train_resampled)\n",
    "\n",
    "    # Check the accuracy on the training data\n",
    "    train_accuracy = model.score(X_train_resampled, y_train_resampled)\n",
    "\n",
    "    # Check the accuracy on the test data\n",
    "    test_accuracy = model.score(X_test, y_test)\n",
    "\n",
    "    return([model, train_accuracy, test_accuracy])\n"
   ]
  },
  {
   "cell_type": "code",
   "execution_count": 7,
   "id": "5dcf98f1",
   "metadata": {},
   "outputs": [
    {
     "name": "stdout",
     "output_type": "stream",
     "text": [
      "testing: 3\n",
      "testing: 4\n",
      "testing: 5\n",
      "testing: 6\n",
      "testing: 7\n",
      "testing: 8\n",
      "testing: 9\n",
      "testing: 10\n",
      "testing: 11\n",
      "testing: 12\n",
      "testing: 13\n",
      "testing: 14\n",
      "testing: 15\n",
      "testing: 16\n",
      "testing: 17\n",
      "testing: 18\n",
      "testing: 19\n",
      "testing: 20\n"
     ]
    }
   ],
   "source": [
    "# Initialize the model and RFE\n",
    "model = linear_model.LogisticRegression(random_state=0, max_iter=1000)\n",
    "\n",
    "# init results\n",
    "results = []\n",
    "rfe_selected_lists = {}\n",
    "\n",
    "# try out models from 2 upto 21 features\n",
    "for n in range(3, 21):\n",
    "#for n in range(16, 17):\n",
    "\n",
    "    print(f'testing: {n}')\n",
    "    rfe = RFE(model, n_features_to_select=n)\n",
    "\n",
    "    # Fit RFE to the data\n",
    "    rfe.fit(protein_data, task_data)\n",
    "\n",
    "    # Get the selected features\n",
    "    selected_features = rfe.get_support()\n",
    "    feature_ranking = rfe.ranking_\n",
    "    # features_ranked = pd.DataFrame.from_dict({'feature': protein_data.columns.tolist(), 'rank': feature_ranking, 'selected': selected_features})\n",
    "\n",
    "    # get the selected features\n",
    "    selected_features_list = rfe.get_feature_names_out()\n",
    "    rfe_selected_lists[n] = selected_features_list\n",
    "\n",
    "    # rerun the model with ALL features\n",
    "    _, train_accuracy, test_accuracy = test_feature_set(selected_features_list)\n",
    "    results.append([n, train_accuracy, test_accuracy])\n",
    "\n",
    "# run with all features\n",
    "selected_features_list = protein_data.columns.tolist()\n",
    "_, train_accuracy, test_accuracy = test_feature_set(selected_features_list)\n",
    "results.append([len(selected_features_list), train_accuracy, test_accuracy])"
   ]
  },
  {
   "cell_type": "code",
   "execution_count": 8,
   "id": "81304b61",
   "metadata": {},
   "outputs": [],
   "source": [
    "results_df = pd.DataFrame(results, columns=['num_features', 'train_acc', 'test_acc'])"
   ]
  },
  {
   "cell_type": "code",
   "execution_count": 9,
   "id": "aa3fb58c",
   "metadata": {},
   "outputs": [
    {
     "data": {
      "image/png": "[encoded data removed]",
      "text/plain": [
       "<Figure size 640x480 with 2 Axes>"
      ]
     },
     "metadata": {},
     "output_type": "display_data"
    }
   ],
   "source": [
    "fig, ax = plt.subplots()\n",
    "sns.heatmap(results_df.set_index('num_features'), cmap=sns.color_palette('Reds', as_cmap=True), vmax=1, annot=True, ax=ax)\n",
    "\n",
    "ax.tick_params(axis='y', rotation=0)\n",
    "\n",
    "outfn = os.path.join(outdir, 'rfe_analysis.svg')\n",
    "fig.savefig(outfn)"
   ]
  },
  {
   "cell_type": "code",
   "execution_count": 10,
   "id": "d746ec0f",
   "metadata": {},
   "outputs": [
    {
     "data": {
      "text/plain": [
       "array(['CCL2', 'CD83', 'FGF23', 'GZMA', 'IL17RB', 'IL34', 'IL3RA', 'SPP1',\n",
       "       'TNFRSF4'], dtype=object)"
      ]
     },
     "execution_count": 10,
     "metadata": {},
     "output_type": "execute_result"
    }
   ],
   "source": [
    "rfe_selected_lists[9]"
   ]
  },
  {
   "cell_type": "markdown",
   "id": "71a83f8c",
   "metadata": {},
   "source": [
    "### Checking the model with these selected features using 5-fold cross validation"
   ]
  },
  {
   "cell_type": "code",
   "execution_count": 11,
   "id": "368470b4",
   "metadata": {},
   "outputs": [
    {
     "name": "stdout",
     "output_type": "stream",
     "text": [
      "num features: 16\n"
     ]
    }
   ],
   "source": [
    "selected_n = 16\n",
    "selected_features_list = rfe_selected_lists[selected_n]\n",
    "print(f'num features: {len(selected_features_list)}')"
   ]
  },
  {
   "cell_type": "code",
   "execution_count": 12,
   "id": "6db4d8fc",
   "metadata": {},
   "outputs": [],
   "source": [
    "def get_precision_recall_fscore_support_hvector(y_test, predictions, labels):\n",
    "    \n",
    "    report = precision_recall_fscore_support(y_test, predictions, labels=labels)\n",
    "    report = pd.DataFrame(report, columns=labels, index=['precision', 'recall', 'fscore', 'support'])\n",
    "    report = report.stack().swaplevel(1,0).sort_index().to_frame().T\n",
    "    report.columns = [f'{i}_{j}' for i, j in report.columns]\n",
    "\n",
    "    return(report.iloc[0])"
   ]
  },
  {
   "cell_type": "code",
   "execution_count": 13,
   "id": "ea9c3fc3",
   "metadata": {},
   "outputs": [
    {
     "name": "stderr",
     "output_type": "stream",
     "text": [
      "/tmp/ipykernel_2015830/4242356258.py:12: FutureWarning: pandas.value_counts is deprecated and will be removed in a future version. Use pd.Series(obj).value_counts() instead.\n",
      "  y_test_breakdown = pd.value_counts(y_test)\n",
      "/tmp/ipykernel_2015830/4242356258.py:12: FutureWarning: pandas.value_counts is deprecated and will be removed in a future version. Use pd.Series(obj).value_counts() instead.\n",
      "  y_test_breakdown = pd.value_counts(y_test)\n",
      "/tmp/ipykernel_2015830/4242356258.py:12: FutureWarning: pandas.value_counts is deprecated and will be removed in a future version. Use pd.Series(obj).value_counts() instead.\n",
      "  y_test_breakdown = pd.value_counts(y_test)\n",
      "/tmp/ipykernel_2015830/4242356258.py:12: FutureWarning: pandas.value_counts is deprecated and will be removed in a future version. Use pd.Series(obj).value_counts() instead.\n",
      "  y_test_breakdown = pd.value_counts(y_test)\n",
      "/tmp/ipykernel_2015830/4242356258.py:12: FutureWarning: pandas.value_counts is deprecated and will be removed in a future version. Use pd.Series(obj).value_counts() instead.\n",
      "  y_test_breakdown = pd.value_counts(y_test)\n"
     ]
    }
   ],
   "source": [
    "labels = ['CD', 'UC']\n",
    "results_skf = []\n",
    "skf = StratifiedKFold(n_splits=5, shuffle=True, random_state=random_state)\n",
    "splits = skf.split(protein_data, task_data)\n",
    "for i, (train_index, test_index) in enumerate(splits):\n",
    "\n",
    "    # extract data from splits\n",
    "    X_train, X_test = protein_data.iloc[train_index].loc[:,selected_features_list], protein_data.iloc[test_index].loc[:,selected_features_list]\n",
    "    y_train, y_test = task_data.iloc[train_index], task_data.iloc[test_index]\n",
    "\n",
    "    # get breakdown of the y test\n",
    "    y_test_breakdown = pd.value_counts(y_test)\n",
    "    # print(y_train.shape, y_test.shape)\n",
    "\n",
    "    # resample to balance classes\n",
    "    X_train_resampled, y_train_resampled = RandomOverSampler(random_state=random_state).fit_resample(X_train, y_train)\n",
    "\n",
    "    # Fit the model on the training data\n",
    "    model = linear_model.LogisticRegression(random_state=0, max_iter=1000)\n",
    "    model.fit(X_train_resampled, y_train_resampled)\n",
    "\n",
    "    # Check the accuracy on the training data\n",
    "    train_accuracy = model.score(X_train_resampled, y_train_resampled)\n",
    "\n",
    "    # Check the accuracy on the test data\n",
    "    test_accuracy = model.score(X_test, y_test)\n",
    "\n",
    "    # get the report\n",
    "    predictions = model.predict(X_test)\n",
    "    report = get_precision_recall_fscore_support_hvector(y_test, predictions, labels)\n",
    "\n",
    "    # append results\n",
    "    results_skf.append([i, train_accuracy, test_accuracy] + report.values.tolist())\n"
   ]
  },
  {
   "cell_type": "code",
   "execution_count": 14,
   "id": "a8d90040",
   "metadata": {},
   "outputs": [
    {
     "data": {
      "text/html": [
       "<div>\n",
       "<style scoped>\n",
       "    .dataframe tbody tr th:only-of-type {\n",
       "        vertical-align: middle;\n",
       "    }\n",
       "\n",
       "    .dataframe tbody tr th {\n",
       "        vertical-align: top;\n",
       "    }\n",
       "\n",
       "    .dataframe thead th {\n",
       "        text-align: right;\n",
       "    }\n",
       "</style>\n",
       "<table border=\"1\" class=\"dataframe\">\n",
       "  <thead>\n",
       "    <tr style=\"text-align: right;\">\n",
       "      <th></th>\n",
       "      <th>fold</th>\n",
       "      <th>train_acc</th>\n",
       "      <th>test_acc</th>\n",
       "      <th>CD_fscore</th>\n",
       "      <th>CD_precision</th>\n",
       "      <th>CD_recall</th>\n",
       "      <th>CD_support</th>\n",
       "      <th>UC_fscore</th>\n",
       "      <th>UC_precision</th>\n",
       "      <th>UC_recall</th>\n",
       "      <th>UC_support</th>\n",
       "    </tr>\n",
       "  </thead>\n",
       "  <tbody>\n",
       "    <tr>\n",
       "      <th>0</th>\n",
       "      <td>0</td>\n",
       "      <td>1.0</td>\n",
       "      <td>0.800000</td>\n",
       "      <td>0.857143</td>\n",
       "      <td>1.000000</td>\n",
       "      <td>0.750000</td>\n",
       "      <td>12.0</td>\n",
       "      <td>0.666667</td>\n",
       "      <td>0.500000</td>\n",
       "      <td>1.00</td>\n",
       "      <td>3.0</td>\n",
       "    </tr>\n",
       "    <tr>\n",
       "      <th>1</th>\n",
       "      <td>1</td>\n",
       "      <td>1.0</td>\n",
       "      <td>0.800000</td>\n",
       "      <td>0.869565</td>\n",
       "      <td>0.833333</td>\n",
       "      <td>0.909091</td>\n",
       "      <td>11.0</td>\n",
       "      <td>0.571429</td>\n",
       "      <td>0.666667</td>\n",
       "      <td>0.50</td>\n",
       "      <td>4.0</td>\n",
       "    </tr>\n",
       "    <tr>\n",
       "      <th>2</th>\n",
       "      <td>2</td>\n",
       "      <td>1.0</td>\n",
       "      <td>0.800000</td>\n",
       "      <td>0.857143</td>\n",
       "      <td>0.900000</td>\n",
       "      <td>0.818182</td>\n",
       "      <td>11.0</td>\n",
       "      <td>0.666667</td>\n",
       "      <td>0.600000</td>\n",
       "      <td>0.75</td>\n",
       "      <td>4.0</td>\n",
       "    </tr>\n",
       "    <tr>\n",
       "      <th>3</th>\n",
       "      <td>3</td>\n",
       "      <td>1.0</td>\n",
       "      <td>1.000000</td>\n",
       "      <td>1.000000</td>\n",
       "      <td>1.000000</td>\n",
       "      <td>1.000000</td>\n",
       "      <td>11.0</td>\n",
       "      <td>1.000000</td>\n",
       "      <td>1.000000</td>\n",
       "      <td>1.00</td>\n",
       "      <td>4.0</td>\n",
       "    </tr>\n",
       "    <tr>\n",
       "      <th>4</th>\n",
       "      <td>4</td>\n",
       "      <td>1.0</td>\n",
       "      <td>0.928571</td>\n",
       "      <td>0.952381</td>\n",
       "      <td>1.000000</td>\n",
       "      <td>0.909091</td>\n",
       "      <td>11.0</td>\n",
       "      <td>0.857143</td>\n",
       "      <td>0.750000</td>\n",
       "      <td>1.00</td>\n",
       "      <td>3.0</td>\n",
       "    </tr>\n",
       "  </tbody>\n",
       "</table>\n",
       "</div>"
      ],
      "text/plain": [
       "   fold  train_acc  test_acc  CD_fscore  CD_precision  CD_recall  CD_support  \\\n",
       "0     0        1.0  0.800000   0.857143      1.000000   0.750000        12.0   \n",
       "1     1        1.0  0.800000   0.869565      0.833333   0.909091        11.0   \n",
       "2     2        1.0  0.800000   0.857143      0.900000   0.818182        11.0   \n",
       "3     3        1.0  1.000000   1.000000      1.000000   1.000000        11.0   \n",
       "4     4        1.0  0.928571   0.952381      1.000000   0.909091        11.0   \n",
       "\n",
       "   UC_fscore  UC_precision  UC_recall  UC_support  \n",
       "0   0.666667      0.500000       1.00         3.0  \n",
       "1   0.571429      0.666667       0.50         4.0  \n",
       "2   0.666667      0.600000       0.75         4.0  \n",
       "3   1.000000      1.000000       1.00         4.0  \n",
       "4   0.857143      0.750000       1.00         3.0  "
      ]
     },
     "execution_count": 14,
     "metadata": {},
     "output_type": "execute_result"
    }
   ],
   "source": [
    "#results_skf_df = pd.DataFrame(results_skf, columns=['fold', 'train_acc', 'test_acc'])\n",
    "results_skf_df = pd.DataFrame(results_skf, columns=['fold', 'train_acc', 'test_acc'] + report.index.tolist())\n",
    "results_skf_df"
   ]
  },
  {
   "cell_type": "markdown",
   "id": "8fc330b0",
   "metadata": {},
   "source": [
    "### Checking the model with these selected features using leave one out validation"
   ]
  },
  {
   "cell_type": "code",
   "execution_count": 30,
   "id": "8f6a30e1",
   "metadata": {},
   "outputs": [],
   "source": [
    "def calculate_loo_validation_results(protein_data, task_data, selected_features_list, random_state):\n",
    "    \n",
    "    results_loo = []\n",
    "    loo = LeaveOneOut()\n",
    "    splits = loo.split(protein_data, task_data)\n",
    "    for i, (train_index, test_index) in enumerate(splits):\n",
    "    \n",
    "        # extract data from splits\n",
    "        X_train, X_test = protein_data.iloc[train_index].loc[:,selected_features_list], protein_data.iloc[test_index].loc[:,selected_features_list]\n",
    "        y_train, y_test = task_data.iloc[train_index], task_data.iloc[test_index]\n",
    "    \n",
    "        # resample to balance classes\n",
    "        X_train_resampled, y_train_resampled = RandomOverSampler(random_state=random_state).fit_resample(X_train, y_train)\n",
    "    \n",
    "        # Fit the model on the training data\n",
    "        model = linear_model.LogisticRegression(random_state=0, max_iter=1000)\n",
    "        model.fit(X_train_resampled, y_train_resampled)\n",
    "    \n",
    "        # Check the accuracy on the training data\n",
    "        train_accuracy = model.score(X_train_resampled, y_train_resampled)\n",
    "    \n",
    "        # get the match result\n",
    "        pred = model.predict(X_test)[0]\n",
    "        real = y_test.iloc[0]\n",
    "        match = (pred == real)\n",
    "    \n",
    "        # append results\n",
    "        results_loo.append([train_accuracy, pred, real, match])\n",
    "        \n",
    "    return results_loo\n"
   ]
  },
  {
   "cell_type": "code",
   "execution_count": 31,
   "id": "1d15bf9b-7e42-4ffc-9f7a-74925bea3f9b",
   "metadata": {},
   "outputs": [],
   "source": [
    "results_loo = calculate_loo_validation_results(protein_data, task_data, selected_features_list, random_state)"
   ]
  },
  {
   "cell_type": "code",
   "execution_count": 32,
   "id": "16cceb38",
   "metadata": {},
   "outputs": [],
   "source": [
    "results_loo_df = pd.DataFrame(results_loo, columns=['train_acc', 'predicted', 'true', 'match'])"
   ]
  },
  {
   "cell_type": "code",
   "execution_count": 33,
   "id": "0540b73d",
   "metadata": {},
   "outputs": [],
   "source": [
    "cm_loo = results_loo_df[['predicted', 'true']].value_counts().sort_index()\n",
    "cm_loo = cm_loo.to_frame().reset_index().pivot(index='true', columns='predicted', values='count')"
   ]
  },
  {
   "cell_type": "code",
   "execution_count": 34,
   "id": "deffaac9",
   "metadata": {},
   "outputs": [
    {
     "data": {
      "image/png": "[encoded data removed]",
      "text/plain": [
       "<Figure size 640x480 with 2 Axes>"
      ]
     },
     "metadata": {},
     "output_type": "display_data"
    }
   ],
   "source": [
    "fig, ax = plt.subplots()\n",
    "\n",
    "sns.heatmap(cm_loo, annot=True, cmap='viridis', ax=ax)\n",
    "\n",
    "outfn = os.path.join(outdir, 'confusion_matrix.leave_one_out.svg')\n",
    "fig.savefig(outfn)"
   ]
  },
  {
   "cell_type": "code",
   "execution_count": 35,
   "id": "4b6d7cc6",
   "metadata": {},
   "outputs": [
    {
     "data": {
      "text/plain": [
       "match\n",
       "True     67\n",
       "False     7\n",
       "Name: count, dtype: int64"
      ]
     },
     "execution_count": 35,
     "metadata": {},
     "output_type": "execute_result"
    }
   ],
   "source": [
    "results_loo_df['match'].value_counts()"
   ]
  },
  {
   "cell_type": "code",
   "execution_count": 36,
   "id": "d872706f",
   "metadata": {},
   "outputs": [
    {
     "data": {
      "text/plain": [
       "match\n",
       "True     90.540541\n",
       "False     9.459459\n",
       "Name: proportion, dtype: float64"
      ]
     },
     "execution_count": 36,
     "metadata": {},
     "output_type": "execute_result"
    }
   ],
   "source": [
    "results_loo_df['match'].value_counts(normalize=True) * 100"
   ]
  },
  {
   "cell_type": "code",
   "execution_count": 37,
   "id": "35f9f986",
   "metadata": {},
   "outputs": [
    {
     "data": {
      "text/plain": [
       "train_acc  predicted  true  match\n",
       "0.990909   CD         CD    True     67.567568\n",
       "1.000000   UC         UC    True     13.513514\n",
       "0.982143   UC         UC    True      8.108108\n",
       "1.000000   UC         CD    False     5.405405\n",
       "           CD         UC    False     2.702703\n",
       "0.990909   UC         CD    False     1.351351\n",
       "1.000000   CD         CD    True      1.351351\n",
       "Name: proportion, dtype: float64"
      ]
     },
     "execution_count": 37,
     "metadata": {},
     "output_type": "execute_result"
    }
   ],
   "source": [
    "results_loo_df.value_counts(normalize=True) * 100"
   ]
  },
  {
   "cell_type": "code",
   "execution_count": 38,
   "id": "3afb10d2",
   "metadata": {},
   "outputs": [
    {
     "data": {
      "text/html": [
       "<div>\n",
       "<style scoped>\n",
       "    .dataframe tbody tr th:only-of-type {\n",
       "        vertical-align: middle;\n",
       "    }\n",
       "\n",
       "    .dataframe tbody tr th {\n",
       "        vertical-align: top;\n",
       "    }\n",
       "\n",
       "    .dataframe thead th {\n",
       "        text-align: right;\n",
       "    }\n",
       "</style>\n",
       "<table border=\"1\" class=\"dataframe\">\n",
       "  <thead>\n",
       "    <tr style=\"text-align: right;\">\n",
       "      <th></th>\n",
       "      <th>train_acc</th>\n",
       "      <th>predicted</th>\n",
       "      <th>true</th>\n",
       "      <th>match</th>\n",
       "    </tr>\n",
       "  </thead>\n",
       "  <tbody>\n",
       "    <tr>\n",
       "      <th>0</th>\n",
       "      <td>0.990909</td>\n",
       "      <td>UC</td>\n",
       "      <td>CD</td>\n",
       "      <td>False</td>\n",
       "    </tr>\n",
       "    <tr>\n",
       "      <th>1</th>\n",
       "      <td>0.990909</td>\n",
       "      <td>CD</td>\n",
       "      <td>CD</td>\n",
       "      <td>True</td>\n",
       "    </tr>\n",
       "    <tr>\n",
       "      <th>2</th>\n",
       "      <td>0.990909</td>\n",
       "      <td>CD</td>\n",
       "      <td>CD</td>\n",
       "      <td>True</td>\n",
       "    </tr>\n",
       "    <tr>\n",
       "      <th>3</th>\n",
       "      <td>0.982143</td>\n",
       "      <td>UC</td>\n",
       "      <td>UC</td>\n",
       "      <td>True</td>\n",
       "    </tr>\n",
       "    <tr>\n",
       "      <th>4</th>\n",
       "      <td>0.990909</td>\n",
       "      <td>CD</td>\n",
       "      <td>CD</td>\n",
       "      <td>True</td>\n",
       "    </tr>\n",
       "    <tr>\n",
       "      <th>...</th>\n",
       "      <td>...</td>\n",
       "      <td>...</td>\n",
       "      <td>...</td>\n",
       "      <td>...</td>\n",
       "    </tr>\n",
       "    <tr>\n",
       "      <th>69</th>\n",
       "      <td>0.990909</td>\n",
       "      <td>CD</td>\n",
       "      <td>CD</td>\n",
       "      <td>True</td>\n",
       "    </tr>\n",
       "    <tr>\n",
       "      <th>70</th>\n",
       "      <td>0.990909</td>\n",
       "      <td>CD</td>\n",
       "      <td>CD</td>\n",
       "      <td>True</td>\n",
       "    </tr>\n",
       "    <tr>\n",
       "      <th>71</th>\n",
       "      <td>0.990909</td>\n",
       "      <td>CD</td>\n",
       "      <td>CD</td>\n",
       "      <td>True</td>\n",
       "    </tr>\n",
       "    <tr>\n",
       "      <th>72</th>\n",
       "      <td>0.982143</td>\n",
       "      <td>UC</td>\n",
       "      <td>UC</td>\n",
       "      <td>True</td>\n",
       "    </tr>\n",
       "    <tr>\n",
       "      <th>73</th>\n",
       "      <td>1.000000</td>\n",
       "      <td>CD</td>\n",
       "      <td>UC</td>\n",
       "      <td>False</td>\n",
       "    </tr>\n",
       "  </tbody>\n",
       "</table>\n",
       "<p>74 rows × 4 columns</p>\n",
       "</div>"
      ],
      "text/plain": [
       "    train_acc predicted true  match\n",
       "0    0.990909        UC   CD  False\n",
       "1    0.990909        CD   CD   True\n",
       "2    0.990909        CD   CD   True\n",
       "3    0.982143        UC   UC   True\n",
       "4    0.990909        CD   CD   True\n",
       "..        ...       ...  ...    ...\n",
       "69   0.990909        CD   CD   True\n",
       "70   0.990909        CD   CD   True\n",
       "71   0.990909        CD   CD   True\n",
       "72   0.982143        UC   UC   True\n",
       "73   1.000000        CD   UC  False\n",
       "\n",
       "[74 rows x 4 columns]"
      ]
     },
     "execution_count": 38,
     "metadata": {},
     "output_type": "execute_result"
    }
   ],
   "source": [
    "results_loo_df"
   ]
  },
  {
   "cell_type": "code",
   "execution_count": 39,
   "id": "e1997fa3",
   "metadata": {},
   "outputs": [],
   "source": [
    "fn = os.path.join(outdir, 'leave_one_out_validation.rfe16.tsv')\n",
    "results_loo_df.to_csv(fn, sep='\\t', index=False)"
   ]
  },
  {
   "cell_type": "markdown",
   "id": "1739dd1b",
   "metadata": {},
   "source": [
    "### ROC curve analysis"
   ]
  },
  {
   "cell_type": "code",
   "execution_count": 42,
   "id": "10092a3f-9a87-4204-8982-d13cda72dcb8",
   "metadata": {},
   "outputs": [],
   "source": [
    "from sklearn.metrics import roc_curve, auc\n",
    "from sklearn.preprocessing import LabelBinarizer"
   ]
  },
  {
   "cell_type": "code",
   "execution_count": 43,
   "id": "50bfeb77-7300-4080-9fae-f08ac8cee5c9",
   "metadata": {},
   "outputs": [],
   "source": [
    "label_binarizer = LabelBinarizer().fit(results_loo_df['true'])\n",
    "y_onehot_test = label_binarizer.transform(results_loo_df['true'])\n",
    "y_onehot_preds = label_binarizer.transform(results_loo_df['predicted'])"
   ]
  },
  {
   "cell_type": "code",
   "execution_count": 44,
   "id": "164c5ec8",
   "metadata": {},
   "outputs": [],
   "source": [
    "fpr, tpr, _ = roc_curve(y_onehot_test, y_onehot_preds)\n",
    "roc_auc = auc(fpr, tpr)"
   ]
  },
  {
   "cell_type": "code",
   "execution_count": 48,
   "id": "e12fe4cd",
   "metadata": {},
   "outputs": [
    {
     "data": {
      "image/png": "[encoded data removed]",
      "text/plain": [
       "<Figure size 640x480 with 1 Axes>"
      ]
     },
     "metadata": {},
     "output_type": "display_data"
    }
   ],
   "source": [
    "fig, ax = plt.subplots()\n",
    "lw = 2\n",
    "ax.plot(fpr, tpr, color=\"darkorange\", lw=lw,\n",
    "        label=\"ROC curve (area = %0.2f)\" % roc_auc)\n",
    "ax.plot([0, 1], [0, 1], color=\"navy\", lw=lw, linestyle=\"--\")\n",
    "ax.set_xlim([0.0, 1.0])\n",
    "ax.set_ylim([0.0, 1.05])\n",
    "ax.set_xlabel(\"False Positive Rate\")\n",
    "ax.set_ylabel(\"True Positive Rate\")\n",
    "ax.set_title(f'Results using the RFE model for {selected_n} features')\n",
    "ax.legend(loc=\"lower right\")\n",
    "plt.show()\n",
    "\n",
    "# outfn = os.path.join(outdir, 'roc_curve.leave_one_out.svg')\n",
    "# fig.savefig(outfn)"
   ]
  },
  {
   "cell_type": "markdown",
   "id": "22b2d896-13f2-48c4-aea1-8ce833bf4b80",
   "metadata": {},
   "source": [
    "### ROC curve analysis with multiple models"
   ]
  },
  {
   "cell_type": "code",
   "execution_count": null,
   "id": "503e93c6-a579-460b-aa26-18a4c21557e5",
   "metadata": {},
   "outputs": [],
   "source": [
    "results_loo = calculate_loo_validation_results(protein_data, task_data, selected_features_list, random_state)"
   ]
  },
  {
   "cell_type": "code",
   "execution_count": 78,
   "id": "72af8a48-15a8-43c6-8a0d-f20305c4ea66",
   "metadata": {},
   "outputs": [
    {
     "data": {
      "text/plain": [
       "array(['CCL2', 'FGF23', 'IL17RB'], dtype=object)"
      ]
     },
     "execution_count": 78,
     "metadata": {},
     "output_type": "execute_result"
    }
   ],
   "source": [
    "rfe_selected_lists[3]"
   ]
  },
  {
   "cell_type": "code",
   "execution_count": 76,
   "id": "ccc1a64f-6d3d-442f-88f4-ec37583b204f",
   "metadata": {},
   "outputs": [],
   "source": [
    "# add back the \"ALL\" case\n",
    "roc_rfe_selected_lists = rfe_selected_lists.copy()\n",
    "roc_rfe_selected_lists.update({protein_data.shape[1]: protein_data.columns.tolist()})"
   ]
  },
  {
   "cell_type": "code",
   "execution_count": 93,
   "id": "db0899b7-bf7f-486b-875c-9b7d1db9739f",
   "metadata": {},
   "outputs": [
    {
     "name": "stdout",
     "output_type": "stream",
     "text": [
      "num features: 3\n",
      "num features: 4\n",
      "num features: 5\n",
      "num features: 6\n",
      "num features: 7\n",
      "num features: 8\n",
      "num features: 9\n",
      "num features: 10\n",
      "num features: 11\n",
      "num features: 12\n",
      "num features: 13\n",
      "num features: 14\n",
      "num features: 15\n",
      "num features: 16\n",
      "num features: 17\n",
      "num features: 18\n",
      "num features: 19\n",
      "num features: 20\n",
      "num features: 250\n"
     ]
    },
    {
     "data": {
      "image/png": "[encoded data removed]",
      "text/plain": [
       "<Figure size 640x480 with 1 Axes>"
      ]
     },
     "metadata": {},
     "output_type": "display_data"
    }
   ],
   "source": [
    "fig, ax = plt.subplots()\n",
    "lw = 2\n",
    "roc_colors = sns.color_palette('viridis_r', n_colors=len(roc_rfe_selected_lists) - 1).as_hex()\n",
    "roc_colors.append('#FF0000')\n",
    "\n",
    "# add skeleton elements\n",
    "ax.plot([0, 1], [0, 1], color=\"navy\", lw=lw, linestyle=\"--\")\n",
    "ax.set_xlim([0.0, 1.0])\n",
    "ax.set_ylim([0.0, 1.05])\n",
    "ax.set_xlabel(\"False Positive Rate\")\n",
    "ax.set_ylabel(\"True Positive Rate\")\n",
    "ax.set_title(f'ROC curve across several RFE models')\n",
    "\n",
    "# add a line per model\n",
    "i = 0\n",
    "for current_n, curr_features_list in roc_rfe_selected_lists.items():\n",
    "    print(f'num features: {current_n}')\n",
    "\n",
    "    curr_results_loo = calculate_loo_validation_results(protein_data, task_data, curr_features_list, random_state)\n",
    "    curr_results_loo_df = pd.DataFrame(curr_results_loo, columns=['train_acc', 'predicted', 'true', 'match'])\n",
    "    y_onehot_test = label_binarizer.transform(curr_results_loo_df['true'])\n",
    "    y_onehot_preds = label_binarizer.transform(curr_results_loo_df['predicted'])\n",
    "\n",
    "    fpr, tpr, _ = roc_curve(y_onehot_test, y_onehot_preds)\n",
    "    roc_auc = auc(fpr, tpr)\n",
    "\n",
    "    ax.plot(fpr, tpr, color=roc_colors[i], lw=lw,\n",
    "            label=f'RFE {current_n} (area = {roc_auc:.2f})')\n",
    "\n",
    "    # update index counter\n",
    "    i += 1 \n",
    "    if i > 100:\n",
    "        break\n",
    "\n",
    "ax.legend(loc=\"center right\", bbox_to_anchor=(1.5, 0.5))\n",
    "plt.show()\n",
    "\n",
    "outfn = os.path.join(outdir, 'roc_curve.all_RFE_models.leave_one_out.svg')\n",
    "fig.savefig(outfn)"
   ]
  },
  {
   "cell_type": "markdown",
   "id": "4cf29b44",
   "metadata": {},
   "source": [
    "### Saving a file with information on the 16 RFE model"
   ]
  },
  {
   "cell_type": "code",
   "execution_count": null,
   "id": "4e658f4e",
   "metadata": {},
   "outputs": [],
   "source": [
    "# Create a new workbook\n",
    "wb = Workbook()\n",
    "\n",
    "# Create two sheets\n",
    "sheet1 = wb.active\n",
    "sheet1.title = \"Sheet1\"\n",
    "sheet2 = wb.create_sheet(title=\"Sheet2\")\n",
    "\n",
    "# Lists of values\n",
    "list1 = [1, 2, 3, 4, 5]\n",
    "list2 = ['a', 'b', 'c', 'd', 'e']\n",
    "\n",
    "# Add list2 to Sheet2\n",
    "for idx, value in enumerate(list2, start=1):\n",
    "    sheet2.cell(row=idx, column=1, value=value)\n",
    "\n",
    "# Save the workbook\n",
    "wb.save(\"example.xlsx\")"
   ]
  },
  {
   "cell_type": "code",
   "execution_count": null,
   "id": "c2ad03ad",
   "metadata": {},
   "outputs": [],
   "source": [
    "# Fit the model on the training data\n",
    "model = linear_model.LogisticRegression(random_state=0, max_iter=1000)\n",
    "model.fit(protein_data.loc[:,selected_features_list], task_data)\n",
    "\n",
    "# store the coefficients into a dataframe\n",
    "coef_df = pd.DataFrame.from_dict({'protein': model.feature_names_in_.tolist(), 'coef': model.coef_.tolist()[0]}, orient='columns')\n",
    "coef_df['abs_coef'] = coef_df['coef'].abs() \n",
    "coef_df.sort_values('abs_coef', ascending=False, inplace=True)\n",
    "coef_df['coef_cat'] = coef_df['coef'].apply(lambda x: '+' if x > 0 else '-')"
   ]
  },
  {
   "cell_type": "code",
   "execution_count": null,
   "id": "593cab3b",
   "metadata": {},
   "outputs": [],
   "source": [
    "# plot the coefficients against one another\n",
    "fig, ax = plt.subplots(figsize=(6,4))\n",
    "sns.barplot(coef_df, x='protein', y='abs_coef', hue='coef_cat', palette={'+': '#b2182b', '-': '#2166ac'})\n",
    "ax.tick_params(axis='x', rotation=90)\n",
    "\n",
    "ax.legend(title='coef_cat', framealpha=1) \n",
    "\n",
    "fig.tight_layout()\n",
    "\n",
    "coef_fn = os.path.join(outdir, 'logit_model.rfe_16_proteins.coefs.png')\n",
    "fig.savefig(coef_fn, dpi=300)"
   ]
  },
  {
   "cell_type": "code",
   "execution_count": null,
   "id": "c493b899",
   "metadata": {},
   "outputs": [],
   "source": [
    "# Save the DataFrame to an Excel file\n",
    "outfn = os.path.join(outdir, 'logit_model.rfe_16_proteins.coefs.xlsx')\n",
    "with pd.ExcelWriter(outfn, engine='openpyxl') as writer:\n",
    "    coef_df.to_excel(writer, sheet_name='Sheet1', index=False)\n",
    "\n",
    "# Load the workbook\n",
    "wb = load_workbook(outfn)\n",
    "\n",
    "# Select the sheet\n",
    "sheet = wb[\"Sheet1\"]\n",
    "\n",
    "# Load an image\n",
    "img = Image(coef_fn)\n",
    "img.width = 6 * 96\n",
    "img.height = 4 * 96\n",
    "\n",
    "# Add the image to the sheet at a specific cell\n",
    "sheet.add_image(img, 'F2')\n",
    "\n",
    "# Save the workbook\n",
    "wb.save(outfn)"
   ]
  },
  {
   "cell_type": "markdown",
   "id": "d8b6b492",
   "metadata": {},
   "source": [
    "## Predicting the IBD-U samples"
   ]
  },
  {
   "cell_type": "code",
   "execution_count": null,
   "id": "db849123",
   "metadata": {},
   "outputs": [],
   "source": [
    "# Load the protein levels data\n",
    "ibdu_protein_data = pd.read_csv(\"results/specimen_focused/comp_data/protein_levels.npq.tsv\", sep=\"\\t\").T\n",
    "\n",
    "# Load the clinical data\n",
    "ibdu_clinical_data = pd.read_csv(\"results/specimen_focused/comp_data/clinical_data.tsv\", sep=\"\\t\")\n",
    "original_clinical_data = ibdu_clinical_data.copy(deep=True)\n",
    "\n",
    "# remove alamar samples\n",
    "keep = (~ibdu_clinical_data['sample_id'].str.contains('SC_Rep')).tolist()\n",
    "ibdu_clinical_data = ibdu_clinical_data.loc[keep,:]\n",
    "ibdu_protein_data = ibdu_protein_data.loc[keep,:]\n",
    "\n",
    "# extract just CD and UC data\n",
    "focus_idxs = np.argwhere(ibdu_clinical_data['ibd_diagnosis'].isin(['IBD-U'])).reshape(-1)\n",
    "ibdu_clinical_data = ibdu_clinical_data.iloc[focus_idxs]\n",
    "ibdu_protein_data = ibdu_protein_data.iloc[focus_idxs, :]"
   ]
  },
  {
   "cell_type": "code",
   "execution_count": null,
   "id": "ecec7acf",
   "metadata": {},
   "outputs": [],
   "source": [
    "# generate predictions\n",
    "ibdu_preds = model.predict(ibdu_protein_data.loc[:, selected_features_list])\n",
    "ibdu_clinical_data['cd_versus_uc_preds'] = ibdu_preds"
   ]
  },
  {
   "cell_type": "code",
   "execution_count": null,
   "id": "b6988c2c",
   "metadata": {},
   "outputs": [],
   "source": [
    "# reorganize according to matched_subject_id\n",
    "ibdu_clinical_data = ibdu_clinical_data.sort_values(['matched_subject_id', 'original_subject_id']).set_index(['matched_subject_id', 'original_subject_id'])\n",
    "\n",
    "# save the data\n",
    "outfn = os.path.join(outdir, 'ibdu_predictions.xlsx')\n",
    "ibdu_clinical_data.to_excel(outfn, index=False)"
   ]
  },
  {
   "cell_type": "markdown",
   "id": "9ce8d76e",
   "metadata": {},
   "source": [
    "### Diving into IBD-U samples using PCA with all RFE features"
   ]
  },
  {
   "cell_type": "code",
   "execution_count": null,
   "id": "c805e948",
   "metadata": {},
   "outputs": [],
   "source": [
    "# create full data for training samples\n",
    "tdf = results_loo_df.copy()\n",
    "tdf.index = protein_data.index.tolist()\n",
    "full_data1 = pd.concat([protein_data, tdf], axis=1)\n",
    "\n",
    "# create full data for ibd-u samples\n",
    "full_data2 = ibdu_protein_data.copy()\n",
    "full_data2.loc[:, 'predicted'] = ibdu_preds\n",
    "full_data2.loc[:, 'true'] = 'IBD-U'\n",
    "full_data2.loc[:, 'match'] = False\n",
    "\n",
    "# concat\n",
    "full_data_with_ibdu = pd.concat([full_data1, full_data2])\n",
    "\n",
    "# do the same for clinical data\n",
    "full_clinical_with_ibdu = pd.concat([clinical_data, ibdu_clinical_data])\n",
    "full_clinical_with_ibdu.sort_index(inplace=True)"
   ]
  },
  {
   "cell_type": "code",
   "execution_count": null,
   "id": "a10a78ac",
   "metadata": {},
   "outputs": [],
   "source": [
    "full_data_with_ibdu.head()"
   ]
  },
  {
   "cell_type": "code",
   "execution_count": null,
   "id": "628cf805",
   "metadata": {},
   "outputs": [],
   "source": [
    "# Run PCA\n",
    "pca = PCA(n_components=3)\n",
    "principal_components = pca.fit_transform(full_data_with_ibdu.loc[:, selected_features_list])\n",
    "\n",
    "# make into a dataframe\n",
    "principal_components = pd.DataFrame(principal_components, columns=['pc1', 'pc2', 'pc3'])\n",
    "\n",
    "# add the index\n",
    "principal_components.index = full_data_with_ibdu.index.tolist()\n",
    "\n",
    "# add other columns\n",
    "principal_components.loc[:, 'predicted'] = full_data_with_ibdu.loc[:, 'predicted']\n",
    "principal_components.loc[:, 'true'] = full_data_with_ibdu.loc[:, 'true']\n",
    "principal_components.loc[:, 'match'] = full_data_with_ibdu.loc[:, 'match']\n",
    "\n",
    "# add the subject id\n",
    "principal_components['matched_subject_id'] = full_clinical_with_ibdu.matched_subject_id.astype(str).values.tolist()\n",
    "\n",
    "# # add subject error color depending on subjects that have at least one messed up sample\n",
    "ibdu_subjects = full_clinical_with_ibdu.loc[full_clinical_with_ibdu.ibd_diagnosis == 'IBD-U', 'matched_subject_id'].unique().tolist()\n",
    "principal_components['subject_ibdu_color'] = principal_components.matched_subject_id.apply(lambda x: x if float(x) in ibdu_subjects else 'other')"
   ]
  },
  {
   "cell_type": "code",
   "execution_count": null,
   "id": "37a0a874",
   "metadata": {},
   "outputs": [],
   "source": [
    "principal_components.head()"
   ]
  },
  {
   "cell_type": "code",
   "execution_count": null,
   "id": "52cae90e",
   "metadata": {},
   "outputs": [],
   "source": [
    "# Create a scatter plot of the PCA results\n",
    "fig, ax = plt.subplots()\n",
    "sns.scatterplot(x='pc1', y='pc2', hue='subject_ibdu_color', style='predicted', data=principal_components, ax=ax)\n",
    "\n",
    "# Place the legend outside the plot\n",
    "ax.legend(loc='center left', bbox_to_anchor=(1, 0.5))\n",
    "\n",
    "# outfn = os.path.join(outdir, 'pca.with_ibdu.rfe16.svg')\n",
    "# fig.savefig(outfn)"
   ]
  },
  {
   "cell_type": "code",
   "execution_count": null,
   "id": "4af8a9d4",
   "metadata": {},
   "outputs": [],
   "source": [
    "# Create a scatter plot of the PCA results\n",
    "fig, ax = plt.subplots()\n",
    "sns.scatterplot(x='pc1', y='pc2', hue='subject_ibdu_color', style='true', data=principal_components, ax=ax)\n",
    "\n",
    "# Place the legend outside the plot\n",
    "ax.legend(loc='center left', bbox_to_anchor=(1, 0.5))\n",
    "\n",
    "# outfn = os.path.join(outdir, 'pca.with_ibdu.rfe16.svg')\n",
    "# fig.savefig(outfn)"
   ]
  },
  {
   "cell_type": "code",
   "execution_count": null,
   "id": "f3242346",
   "metadata": {},
   "outputs": [],
   "source": []
  },
  {
   "cell_type": "code",
   "execution_count": null,
   "id": "17fdecbb",
   "metadata": {},
   "outputs": [],
   "source": []
  },
  {
   "cell_type": "code",
   "execution_count": null,
   "id": "bca08fb2",
   "metadata": {},
   "outputs": [],
   "source": []
  },
  {
   "cell_type": "code",
   "execution_count": null,
   "id": "bd5f4dba",
   "metadata": {},
   "outputs": [],
   "source": []
  },
  {
   "cell_type": "code",
   "execution_count": null,
   "id": "2927a463",
   "metadata": {},
   "outputs": [],
   "source": []
  },
  {
   "cell_type": "code",
   "execution_count": null,
   "id": "cbc92b11",
   "metadata": {},
   "outputs": [],
   "source": []
  },
  {
   "cell_type": "code",
   "execution_count": null,
   "id": "c7c1e088",
   "metadata": {},
   "outputs": [],
   "source": [
    "import matplotlib.pyplot as plt\n",
    "from mpl_toolkits.mplot3d import Axes3D\n",
    "import numpy as np"
   ]
  },
  {
   "cell_type": "code",
   "execution_count": null,
   "id": "16c0d9db",
   "metadata": {},
   "outputs": [],
   "source": [
    "tcolors = {'other': 'blue',\n",
    "            \"20.0\": 'orange',\n",
    "            '26.0': 'green',\n",
    "            '25.0': 'red',\n",
    "            '41.0': 'purple',\n",
    "            '48.0': 'brown'}"
   ]
  },
  {
   "cell_type": "code",
   "execution_count": null,
   "id": "9dc0a466",
   "metadata": {},
   "outputs": [],
   "source": [
    "# Create a 3D scatter plot\n",
    "fig = plt.figure()\n",
    "ax = fig.add_subplot(111, projection='3d')\n",
    "\n",
    "vcolors = [tcolors[x] for x in principal_components.subject_ibdu_color.tolist()]\n",
    "ax.scatter(principal_components['pc1'], principal_components['pc2'], principal_components['pc3'], c=vcolors)\n",
    "#ax.scatter(x, y, z, c='r', marker='o')\n",
    "\n",
    "# Set labels\n",
    "ax.set_xlabel('X Label')\n",
    "ax.set_ylabel('Y Label')\n",
    "ax.set_zlabel('Z Label')\n",
    "\n",
    "# Show plot\n",
    "plt.show()"
   ]
  },
  {
   "cell_type": "code",
   "execution_count": null,
   "id": "7922f37a",
   "metadata": {},
   "outputs": [],
   "source": []
  },
  {
   "cell_type": "code",
   "execution_count": null,
   "id": "45d2cdee",
   "metadata": {},
   "outputs": [],
   "source": []
  },
  {
   "cell_type": "code",
   "execution_count": null,
   "id": "aed066d8",
   "metadata": {},
   "outputs": [],
   "source": []
  },
  {
   "cell_type": "code",
   "execution_count": null,
   "id": "150e168e",
   "metadata": {},
   "outputs": [],
   "source": []
  },
  {
   "cell_type": "code",
   "execution_count": null,
   "id": "946ef16f",
   "metadata": {},
   "outputs": [],
   "source": []
  }
 ],
 "metadata": {
  "kernelspec": {
   "display_name": "Python 3 (ipykernel)",
   "language": "python",
   "name": "python3"
  },
  "language_info": {
   "codemirror_mode": {
    "name": "ipython",
    "version": 3
   },
   "file_extension": ".py",
   "mimetype": "text/x-python",
   "name": "python",
   "nbconvert_exporter": "python",
   "pygments_lexer": "ipython3",
   "version": "3.9.21"
  }
 },
 "nbformat": 4,
 "nbformat_minor": 5
}

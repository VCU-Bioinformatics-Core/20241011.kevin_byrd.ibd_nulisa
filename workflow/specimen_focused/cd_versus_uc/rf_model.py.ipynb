{
 "cells": [
  {
   "cell_type": "code",
   "execution_count": 1,
   "id": "05520f17-ac31-444f-81c1-fd32d073fcbf",
   "metadata": {
    "editable": true,
    "slideshow": {
     "slide_type": ""
    },
    "tags": [],
    "vscode": {
     "languageId": "r"
    }
   },
   "outputs": [
    {
     "name": "stderr",
     "output_type": "stream",
     "text": [
      "/lustre/home/reynaj/anaconda3/envs/starter/lib/python3.11/site-packages/tqdm/auto.py:21: TqdmWarning: IProgress not found. Please update jupyter and ipywidgets. See https://ipywidgets.readthedocs.io/en/stable/user_install.html\n",
      "  from .autonotebook import tqdm as notebook_tqdm\n"
     ]
    }
   ],
   "source": [
    "import os\n",
    "import pandas as pd \n",
    "import matplotlib\n",
    "from sklearn.ensemble import RandomForestClassifier\n",
    "from sklearn.metrics import confusion_matrix, ConfusionMatrixDisplay, classification_report, precision_recall_fscore_support\n",
    "from sklearn.model_selection import train_test_split, StratifiedKFold\n",
    "from imblearn.over_sampling import RandomOverSampler\n",
    "import matplotlib.pyplot as plt\n",
    "import numpy as np\n",
    "import shap\n",
    "import seaborn as sns\n",
    "import itertools as it\n",
    "\n",
    "os.chdir('/lustre/home/reynaj/Projects/20241011.Byrd_Lab.IBD_NuLisa')\n",
    "outdir = 'results/specimen_focused/rf_model/'\n",
    "\n",
    "# set the random_state\n",
    "random_state = 17"
   ]
  },
  {
   "cell_type": "code",
   "execution_count": 2,
   "id": "5645628a-fd3b-4b67-8485-7588d79e95d6",
   "metadata": {
    "vscode": {
     "languageId": "r"
    }
   },
   "outputs": [],
   "source": [
    "# Load the protein levels data\n",
    "protein_data = pd.read_csv(\"results/specimen_focused/comp_data/protein_levels.npq.tsv\", sep=\"\\t\")\n",
    "protein_data = protein_data.T\n",
    "\n",
    "# Load the clinical data\n",
    "clinical_data = pd.read_csv(\"results/specimen_focused/comp_data/clinical_data.tsv\", sep=\"\\t\")\n",
    "\n",
    "# remove alamar samples\n",
    "keep = (~clinical_data['sample_id'].str.contains('SC_Rep')).tolist()\n",
    "clinical_data = clinical_data.loc[keep,:]\n",
    "protein_data = protein_data.loc[keep,:]\n",
    "\n",
    "# extract just CD and UC data\n",
    "focus_idxs = np.argwhere(clinical_data['ibd_diagnosis'].isin(['CD', 'UC'])).reshape(-1)\n",
    "clinical_data = clinical_data.iloc[focus_idxs]\n",
    "protein_data = protein_data.iloc[focus_idxs, :]"
   ]
  },
  {
   "cell_type": "code",
   "execution_count": 3,
   "id": "a0c52235-2dcc-486b-8888-b232de23d08b",
   "metadata": {
    "tags": [],
    "vscode": {
     "languageId": "r"
    }
   },
   "outputs": [
    {
     "data": {
      "text/html": [
       "<div>\n",
       "<style scoped>\n",
       "    .dataframe tbody tr th:only-of-type {\n",
       "        vertical-align: middle;\n",
       "    }\n",
       "\n",
       "    .dataframe tbody tr th {\n",
       "        vertical-align: top;\n",
       "    }\n",
       "\n",
       "    .dataframe thead th {\n",
       "        text-align: right;\n",
       "    }\n",
       "</style>\n",
       "<table border=\"1\" class=\"dataframe\">\n",
       "  <thead>\n",
       "    <tr style=\"text-align: right;\">\n",
       "      <th></th>\n",
       "      <th>AGER</th>\n",
       "      <th>AGRP</th>\n",
       "      <th>ANGPT1</th>\n",
       "      <th>ANGPT2</th>\n",
       "      <th>ANXA1</th>\n",
       "      <th>AREG</th>\n",
       "      <th>BDNF</th>\n",
       "      <th>BMP7</th>\n",
       "      <th>BST2</th>\n",
       "      <th>C1QA</th>\n",
       "      <th>...</th>\n",
       "      <th>TREM2</th>\n",
       "      <th>TSLP</th>\n",
       "      <th>VCAM1</th>\n",
       "      <th>VEGFA</th>\n",
       "      <th>VEGFC</th>\n",
       "      <th>VEGFD</th>\n",
       "      <th>VSNL1</th>\n",
       "      <th>VSTM1</th>\n",
       "      <th>WNT16</th>\n",
       "      <th>WNT7A</th>\n",
       "    </tr>\n",
       "  </thead>\n",
       "  <tbody>\n",
       "    <tr>\n",
       "      <th>TRP-34082</th>\n",
       "      <td>5.493463</td>\n",
       "      <td>8.765074</td>\n",
       "      <td>15.76212</td>\n",
       "      <td>11.250206</td>\n",
       "      <td>17.79754</td>\n",
       "      <td>14.68076</td>\n",
       "      <td>0.000000</td>\n",
       "      <td>7.512066</td>\n",
       "      <td>10.206268</td>\n",
       "      <td>8.081331</td>\n",
       "      <td>...</td>\n",
       "      <td>6.206720</td>\n",
       "      <td>10.94101</td>\n",
       "      <td>0.000000</td>\n",
       "      <td>18.23954</td>\n",
       "      <td>16.68403</td>\n",
       "      <td>9.214276</td>\n",
       "      <td>22.58694</td>\n",
       "      <td>14.75831</td>\n",
       "      <td>7.103437</td>\n",
       "      <td>8.497241</td>\n",
       "    </tr>\n",
       "    <tr>\n",
       "      <th>TRP-34086</th>\n",
       "      <td>4.453723</td>\n",
       "      <td>10.299592</td>\n",
       "      <td>17.59438</td>\n",
       "      <td>11.835780</td>\n",
       "      <td>16.49940</td>\n",
       "      <td>14.91346</td>\n",
       "      <td>9.248813</td>\n",
       "      <td>9.961362</td>\n",
       "      <td>11.179836</td>\n",
       "      <td>8.589964</td>\n",
       "      <td>...</td>\n",
       "      <td>0.000000</td>\n",
       "      <td>11.29018</td>\n",
       "      <td>7.094106</td>\n",
       "      <td>18.36369</td>\n",
       "      <td>19.17019</td>\n",
       "      <td>8.799946</td>\n",
       "      <td>20.19290</td>\n",
       "      <td>17.99542</td>\n",
       "      <td>7.941584</td>\n",
       "      <td>8.232622</td>\n",
       "    </tr>\n",
       "    <tr>\n",
       "      <th>TRP-42335</th>\n",
       "      <td>6.469100</td>\n",
       "      <td>11.617355</td>\n",
       "      <td>17.49572</td>\n",
       "      <td>12.059989</td>\n",
       "      <td>20.11341</td>\n",
       "      <td>12.85620</td>\n",
       "      <td>0.000000</td>\n",
       "      <td>8.614946</td>\n",
       "      <td>9.096235</td>\n",
       "      <td>9.529024</td>\n",
       "      <td>...</td>\n",
       "      <td>6.516471</td>\n",
       "      <td>11.47073</td>\n",
       "      <td>0.000000</td>\n",
       "      <td>18.52676</td>\n",
       "      <td>18.22880</td>\n",
       "      <td>7.187657</td>\n",
       "      <td>20.12907</td>\n",
       "      <td>17.56549</td>\n",
       "      <td>5.531130</td>\n",
       "      <td>5.503245</td>\n",
       "    </tr>\n",
       "    <tr>\n",
       "      <th>TRP-42324</th>\n",
       "      <td>5.398481</td>\n",
       "      <td>8.084902</td>\n",
       "      <td>18.85520</td>\n",
       "      <td>11.783576</td>\n",
       "      <td>20.28382</td>\n",
       "      <td>13.00942</td>\n",
       "      <td>0.000000</td>\n",
       "      <td>8.196127</td>\n",
       "      <td>10.835604</td>\n",
       "      <td>0.000000</td>\n",
       "      <td>...</td>\n",
       "      <td>5.131593</td>\n",
       "      <td>11.29977</td>\n",
       "      <td>0.000000</td>\n",
       "      <td>18.23974</td>\n",
       "      <td>17.62960</td>\n",
       "      <td>8.247575</td>\n",
       "      <td>20.06370</td>\n",
       "      <td>17.24266</td>\n",
       "      <td>0.000000</td>\n",
       "      <td>8.372645</td>\n",
       "    </tr>\n",
       "    <tr>\n",
       "      <th>TRP-42322</th>\n",
       "      <td>5.444545</td>\n",
       "      <td>9.068033</td>\n",
       "      <td>18.69799</td>\n",
       "      <td>12.531015</td>\n",
       "      <td>19.71289</td>\n",
       "      <td>16.21479</td>\n",
       "      <td>0.000000</td>\n",
       "      <td>9.476020</td>\n",
       "      <td>16.270733</td>\n",
       "      <td>10.781654</td>\n",
       "      <td>...</td>\n",
       "      <td>7.467110</td>\n",
       "      <td>11.17309</td>\n",
       "      <td>0.000000</td>\n",
       "      <td>18.78044</td>\n",
       "      <td>18.04191</td>\n",
       "      <td>11.034922</td>\n",
       "      <td>21.84698</td>\n",
       "      <td>17.57186</td>\n",
       "      <td>8.126035</td>\n",
       "      <td>9.796662</td>\n",
       "    </tr>\n",
       "    <tr>\n",
       "      <th>TRP-42320</th>\n",
       "      <td>9.864851</td>\n",
       "      <td>12.077377</td>\n",
       "      <td>19.51503</td>\n",
       "      <td>15.249573</td>\n",
       "      <td>20.31637</td>\n",
       "      <td>16.43280</td>\n",
       "      <td>0.000000</td>\n",
       "      <td>11.175637</td>\n",
       "      <td>14.609944</td>\n",
       "      <td>11.623066</td>\n",
       "      <td>...</td>\n",
       "      <td>10.408501</td>\n",
       "      <td>12.05820</td>\n",
       "      <td>9.052232</td>\n",
       "      <td>19.54567</td>\n",
       "      <td>19.29934</td>\n",
       "      <td>12.597745</td>\n",
       "      <td>21.60748</td>\n",
       "      <td>21.39231</td>\n",
       "      <td>8.251945</td>\n",
       "      <td>8.295446</td>\n",
       "    </tr>\n",
       "    <tr>\n",
       "      <th>TRP-42344-2</th>\n",
       "      <td>6.511555</td>\n",
       "      <td>8.951251</td>\n",
       "      <td>15.81600</td>\n",
       "      <td>12.221067</td>\n",
       "      <td>19.18105</td>\n",
       "      <td>13.02495</td>\n",
       "      <td>0.000000</td>\n",
       "      <td>7.898414</td>\n",
       "      <td>10.936967</td>\n",
       "      <td>6.131300</td>\n",
       "      <td>...</td>\n",
       "      <td>4.296957</td>\n",
       "      <td>11.62870</td>\n",
       "      <td>7.202654</td>\n",
       "      <td>17.76965</td>\n",
       "      <td>17.58848</td>\n",
       "      <td>8.301189</td>\n",
       "      <td>20.18219</td>\n",
       "      <td>13.90253</td>\n",
       "      <td>5.003258</td>\n",
       "      <td>9.233825</td>\n",
       "    </tr>\n",
       "    <tr>\n",
       "      <th>TRP-42346</th>\n",
       "      <td>0.000000</td>\n",
       "      <td>9.064309</td>\n",
       "      <td>17.26677</td>\n",
       "      <td>12.228901</td>\n",
       "      <td>18.57382</td>\n",
       "      <td>15.59197</td>\n",
       "      <td>0.000000</td>\n",
       "      <td>8.050459</td>\n",
       "      <td>11.767221</td>\n",
       "      <td>8.412514</td>\n",
       "      <td>...</td>\n",
       "      <td>0.000000</td>\n",
       "      <td>11.68513</td>\n",
       "      <td>7.591140</td>\n",
       "      <td>19.91279</td>\n",
       "      <td>18.24508</td>\n",
       "      <td>9.179296</td>\n",
       "      <td>22.22960</td>\n",
       "      <td>16.14269</td>\n",
       "      <td>7.264674</td>\n",
       "      <td>7.225288</td>\n",
       "    </tr>\n",
       "    <tr>\n",
       "      <th>TRP-42368-1</th>\n",
       "      <td>6.062641</td>\n",
       "      <td>8.911608</td>\n",
       "      <td>17.52905</td>\n",
       "      <td>12.165053</td>\n",
       "      <td>15.78867</td>\n",
       "      <td>13.84802</td>\n",
       "      <td>0.000000</td>\n",
       "      <td>9.773661</td>\n",
       "      <td>10.866252</td>\n",
       "      <td>8.659381</td>\n",
       "      <td>...</td>\n",
       "      <td>5.221111</td>\n",
       "      <td>11.64325</td>\n",
       "      <td>5.598232</td>\n",
       "      <td>17.89600</td>\n",
       "      <td>18.43819</td>\n",
       "      <td>8.043051</td>\n",
       "      <td>18.99646</td>\n",
       "      <td>16.91153</td>\n",
       "      <td>7.098327</td>\n",
       "      <td>5.271134</td>\n",
       "    </tr>\n",
       "    <tr>\n",
       "      <th>TRP-42362-1</th>\n",
       "      <td>0.000000</td>\n",
       "      <td>10.999193</td>\n",
       "      <td>18.84235</td>\n",
       "      <td>12.599216</td>\n",
       "      <td>19.72633</td>\n",
       "      <td>17.22058</td>\n",
       "      <td>10.870631</td>\n",
       "      <td>10.169550</td>\n",
       "      <td>12.262359</td>\n",
       "      <td>11.872985</td>\n",
       "      <td>...</td>\n",
       "      <td>7.911661</td>\n",
       "      <td>11.78348</td>\n",
       "      <td>9.583279</td>\n",
       "      <td>20.33967</td>\n",
       "      <td>19.33894</td>\n",
       "      <td>11.446674</td>\n",
       "      <td>21.16150</td>\n",
       "      <td>20.66594</td>\n",
       "      <td>7.648793</td>\n",
       "      <td>8.838626</td>\n",
       "    </tr>\n",
       "  </tbody>\n",
       "</table>\n",
       "<p>10 rows × 250 columns</p>\n",
       "</div>"
      ],
      "text/plain": [
       "                 AGER       AGRP    ANGPT1     ANGPT2     ANXA1      AREG  \\\n",
       "TRP-34082    5.493463   8.765074  15.76212  11.250206  17.79754  14.68076   \n",
       "TRP-34086    4.453723  10.299592  17.59438  11.835780  16.49940  14.91346   \n",
       "TRP-42335    6.469100  11.617355  17.49572  12.059989  20.11341  12.85620   \n",
       "TRP-42324    5.398481   8.084902  18.85520  11.783576  20.28382  13.00942   \n",
       "TRP-42322    5.444545   9.068033  18.69799  12.531015  19.71289  16.21479   \n",
       "TRP-42320    9.864851  12.077377  19.51503  15.249573  20.31637  16.43280   \n",
       "TRP-42344-2  6.511555   8.951251  15.81600  12.221067  19.18105  13.02495   \n",
       "TRP-42346    0.000000   9.064309  17.26677  12.228901  18.57382  15.59197   \n",
       "TRP-42368-1  6.062641   8.911608  17.52905  12.165053  15.78867  13.84802   \n",
       "TRP-42362-1  0.000000  10.999193  18.84235  12.599216  19.72633  17.22058   \n",
       "\n",
       "                  BDNF       BMP7       BST2       C1QA  ...      TREM2  \\\n",
       "TRP-34082     0.000000   7.512066  10.206268   8.081331  ...   6.206720   \n",
       "TRP-34086     9.248813   9.961362  11.179836   8.589964  ...   0.000000   \n",
       "TRP-42335     0.000000   8.614946   9.096235   9.529024  ...   6.516471   \n",
       "TRP-42324     0.000000   8.196127  10.835604   0.000000  ...   5.131593   \n",
       "TRP-42322     0.000000   9.476020  16.270733  10.781654  ...   7.467110   \n",
       "TRP-42320     0.000000  11.175637  14.609944  11.623066  ...  10.408501   \n",
       "TRP-42344-2   0.000000   7.898414  10.936967   6.131300  ...   4.296957   \n",
       "TRP-42346     0.000000   8.050459  11.767221   8.412514  ...   0.000000   \n",
       "TRP-42368-1   0.000000   9.773661  10.866252   8.659381  ...   5.221111   \n",
       "TRP-42362-1  10.870631  10.169550  12.262359  11.872985  ...   7.911661   \n",
       "\n",
       "                 TSLP     VCAM1     VEGFA     VEGFC      VEGFD     VSNL1  \\\n",
       "TRP-34082    10.94101  0.000000  18.23954  16.68403   9.214276  22.58694   \n",
       "TRP-34086    11.29018  7.094106  18.36369  19.17019   8.799946  20.19290   \n",
       "TRP-42335    11.47073  0.000000  18.52676  18.22880   7.187657  20.12907   \n",
       "TRP-42324    11.29977  0.000000  18.23974  17.62960   8.247575  20.06370   \n",
       "TRP-42322    11.17309  0.000000  18.78044  18.04191  11.034922  21.84698   \n",
       "TRP-42320    12.05820  9.052232  19.54567  19.29934  12.597745  21.60748   \n",
       "TRP-42344-2  11.62870  7.202654  17.76965  17.58848   8.301189  20.18219   \n",
       "TRP-42346    11.68513  7.591140  19.91279  18.24508   9.179296  22.22960   \n",
       "TRP-42368-1  11.64325  5.598232  17.89600  18.43819   8.043051  18.99646   \n",
       "TRP-42362-1  11.78348  9.583279  20.33967  19.33894  11.446674  21.16150   \n",
       "\n",
       "                VSTM1     WNT16     WNT7A  \n",
       "TRP-34082    14.75831  7.103437  8.497241  \n",
       "TRP-34086    17.99542  7.941584  8.232622  \n",
       "TRP-42335    17.56549  5.531130  5.503245  \n",
       "TRP-42324    17.24266  0.000000  8.372645  \n",
       "TRP-42322    17.57186  8.126035  9.796662  \n",
       "TRP-42320    21.39231  8.251945  8.295446  \n",
       "TRP-42344-2  13.90253  5.003258  9.233825  \n",
       "TRP-42346    16.14269  7.264674  7.225288  \n",
       "TRP-42368-1  16.91153  7.098327  5.271134  \n",
       "TRP-42362-1  20.66594  7.648793  8.838626  \n",
       "\n",
       "[10 rows x 250 columns]"
      ]
     },
     "execution_count": 3,
     "metadata": {},
     "output_type": "execute_result"
    }
   ],
   "source": [
    "protein_data.iloc[0:10]"
   ]
  },
  {
   "cell_type": "markdown",
   "id": "06b242a6-91bf-41bb-8c54-1fafb840a6f2",
   "metadata": {},
   "source": [
    "## Predicting IBD Diagnosis with 5-Fold Cross Validation "
   ]
  },
  {
   "cell_type": "code",
   "execution_count": 4,
   "id": "8cf2b09f-f773-41c3-9e43-43df8530ef9f",
   "metadata": {
    "vscode": {
     "languageId": "r"
    }
   },
   "outputs": [],
   "source": [
    "# Extract the diagnosis column\n",
    "task_data = clinical_data['ibd_diagnosis']"
   ]
  },
  {
   "cell_type": "code",
   "execution_count": 5,
   "id": "6930e1f9-73c7-4b92-a134-ec7ca65b3178",
   "metadata": {
    "vscode": {
     "languageId": "r"
    }
   },
   "outputs": [],
   "source": [
    "def get_precision_recall_fscore_support_hvector(y_test, predictions, labels):\n",
    "    \n",
    "    report = precision_recall_fscore_support(y_test, predictions, labels=labels)\n",
    "    report = pd.DataFrame(report, columns=labels, index=['precision', 'recall', 'fscore', 'support'])\n",
    "    report = report.stack().swaplevel(1,0).sort_index().to_frame().T\n",
    "    report.columns = [f'{i}_{j}' for i, j in report.columns]\n",
    "\n",
    "    return(report.iloc[0])"
   ]
  },
  {
   "cell_type": "code",
   "execution_count": 8,
   "id": "8649713b",
   "metadata": {
    "vscode": {
     "languageId": "r"
    }
   },
   "outputs": [],
   "source": [
    "results = []\n",
    "labels = ['CD', 'UC']\n",
    "skf = StratifiedKFold(n_splits=5, shuffle=True, random_state=random_state)\n",
    "splits = skf.split(protein_data, task_data)\n",
    "for i, (train_index, test_index) in enumerate(splits):\n",
    "\n",
    "    # extract data from splits\n",
    "    X_train, X_test = protein_data.iloc[train_index], protein_data.iloc[test_index]\n",
    "    y_train, y_test = task_data.iloc[train_index], task_data.iloc[test_index]\n",
    "\n",
    "    # get breakdown of the y test\n",
    "    y_test_breakdown = pd.value_counts(y_test)\n",
    "    # print(y_train.shape, y_test.shape)\n",
    "\n",
    "    # resample to balance classes\n",
    "    X_train_resampled, y_train_resampled = RandomOverSampler(random_state=random_state).fit_resample(X_train, y_train)\n",
    "\n",
    "    # Fit the model on the training data\n",
    "    model = RandomForestClassifier(random_state=0)\n",
    "    model.fit(X_train_resampled, y_train_resampled)\n",
    "\n",
    "    # Check the accuracy on the training data\n",
    "    train_accuracy = model.score(X_train_resampled, y_train_resampled)\n",
    "\n",
    "    # Check the accuracy on the test data\n",
    "    test_accuracy = model.score(X_test, y_test)\n",
    "\n",
    "    # get the report\n",
    "    predictions = model.predict(X_test)\n",
    "    report = get_precision_recall_fscore_support_hvector(y_test, predictions, labels)\n",
    "\n",
    "    # append results\n",
    "    results.append([i, train_accuracy, test_accuracy] + report.values.tolist())\n"
   ]
  },
  {
   "cell_type": "code",
   "execution_count": 9,
   "id": "ea749f3d",
   "metadata": {
    "vscode": {
     "languageId": "r"
    }
   },
   "outputs": [
    {
     "data": {
      "text/html": [
       "<div>\n",
       "<style scoped>\n",
       "    .dataframe tbody tr th:only-of-type {\n",
       "        vertical-align: middle;\n",
       "    }\n",
       "\n",
       "    .dataframe tbody tr th {\n",
       "        vertical-align: top;\n",
       "    }\n",
       "\n",
       "    .dataframe thead th {\n",
       "        text-align: right;\n",
       "    }\n",
       "</style>\n",
       "<table border=\"1\" class=\"dataframe\">\n",
       "  <thead>\n",
       "    <tr style=\"text-align: right;\">\n",
       "      <th></th>\n",
       "      <th>fold</th>\n",
       "      <th>train_acc</th>\n",
       "      <th>test_acc</th>\n",
       "      <th>CD_fscore</th>\n",
       "      <th>CD_precision</th>\n",
       "      <th>CD_recall</th>\n",
       "      <th>CD_support</th>\n",
       "      <th>UC_fscore</th>\n",
       "      <th>UC_precision</th>\n",
       "      <th>UC_recall</th>\n",
       "      <th>UC_support</th>\n",
       "    </tr>\n",
       "  </thead>\n",
       "  <tbody>\n",
       "    <tr>\n",
       "      <th>0</th>\n",
       "      <td>0</td>\n",
       "      <td>1.0</td>\n",
       "      <td>0.733333</td>\n",
       "      <td>0.846154</td>\n",
       "      <td>0.785714</td>\n",
       "      <td>0.916667</td>\n",
       "      <td>12.0</td>\n",
       "      <td>0.000000</td>\n",
       "      <td>0.000000</td>\n",
       "      <td>0.000000</td>\n",
       "      <td>3.0</td>\n",
       "    </tr>\n",
       "    <tr>\n",
       "      <th>1</th>\n",
       "      <td>1</td>\n",
       "      <td>1.0</td>\n",
       "      <td>0.733333</td>\n",
       "      <td>0.833333</td>\n",
       "      <td>0.769231</td>\n",
       "      <td>0.909091</td>\n",
       "      <td>11.0</td>\n",
       "      <td>0.333333</td>\n",
       "      <td>0.500000</td>\n",
       "      <td>0.250000</td>\n",
       "      <td>4.0</td>\n",
       "    </tr>\n",
       "    <tr>\n",
       "      <th>2</th>\n",
       "      <td>2</td>\n",
       "      <td>1.0</td>\n",
       "      <td>0.733333</td>\n",
       "      <td>0.833333</td>\n",
       "      <td>0.769231</td>\n",
       "      <td>0.909091</td>\n",
       "      <td>11.0</td>\n",
       "      <td>0.333333</td>\n",
       "      <td>0.500000</td>\n",
       "      <td>0.250000</td>\n",
       "      <td>4.0</td>\n",
       "    </tr>\n",
       "    <tr>\n",
       "      <th>3</th>\n",
       "      <td>3</td>\n",
       "      <td>1.0</td>\n",
       "      <td>0.666667</td>\n",
       "      <td>0.782609</td>\n",
       "      <td>0.750000</td>\n",
       "      <td>0.818182</td>\n",
       "      <td>11.0</td>\n",
       "      <td>0.285714</td>\n",
       "      <td>0.333333</td>\n",
       "      <td>0.250000</td>\n",
       "      <td>4.0</td>\n",
       "    </tr>\n",
       "    <tr>\n",
       "      <th>4</th>\n",
       "      <td>4</td>\n",
       "      <td>1.0</td>\n",
       "      <td>0.785714</td>\n",
       "      <td>0.869565</td>\n",
       "      <td>0.833333</td>\n",
       "      <td>0.909091</td>\n",
       "      <td>11.0</td>\n",
       "      <td>0.400000</td>\n",
       "      <td>0.500000</td>\n",
       "      <td>0.333333</td>\n",
       "      <td>3.0</td>\n",
       "    </tr>\n",
       "  </tbody>\n",
       "</table>\n",
       "</div>"
      ],
      "text/plain": [
       "   fold  train_acc  test_acc  CD_fscore  CD_precision  CD_recall  CD_support  \\\n",
       "0     0        1.0  0.733333   0.846154      0.785714   0.916667        12.0   \n",
       "1     1        1.0  0.733333   0.833333      0.769231   0.909091        11.0   \n",
       "2     2        1.0  0.733333   0.833333      0.769231   0.909091        11.0   \n",
       "3     3        1.0  0.666667   0.782609      0.750000   0.818182        11.0   \n",
       "4     4        1.0  0.785714   0.869565      0.833333   0.909091        11.0   \n",
       "\n",
       "   UC_fscore  UC_precision  UC_recall  UC_support  \n",
       "0   0.000000      0.000000   0.000000         3.0  \n",
       "1   0.333333      0.500000   0.250000         4.0  \n",
       "2   0.333333      0.500000   0.250000         4.0  \n",
       "3   0.285714      0.333333   0.250000         4.0  \n",
       "4   0.400000      0.500000   0.333333         3.0  "
      ]
     },
     "execution_count": 9,
     "metadata": {},
     "output_type": "execute_result"
    }
   ],
   "source": [
    "results = pd.DataFrame(results, columns=['fold', 'train_acc', 'test_acc'] + report.index.tolist())\n",
    "results"
   ]
  },
  {
   "cell_type": "code",
   "execution_count": 10,
   "id": "87107f90",
   "metadata": {
    "vscode": {
     "languageId": "r"
    }
   },
   "outputs": [
    {
     "data": {
      "text/plain": [
       "ibd_diagnosis\n",
       "CD    75.675676\n",
       "UC    24.324324\n",
       "Name: proportion, dtype: float64"
      ]
     },
     "execution_count": 10,
     "metadata": {},
     "output_type": "execute_result"
    }
   ],
   "source": [
    "task_data.value_counts(normalize=True) * 100"
   ]
  },
  {
   "cell_type": "code",
   "execution_count": null,
   "id": "bcd43245",
   "metadata": {
    "vscode": {
     "languageId": "r"
    }
   },
   "outputs": [],
   "source": []
  },
  {
   "cell_type": "code",
   "execution_count": null,
   "id": "dff5406f",
   "metadata": {
    "vscode": {
     "languageId": "r"
    }
   },
   "outputs": [],
   "source": []
  },
  {
   "cell_type": "code",
   "execution_count": null,
   "id": "0d3e558c",
   "metadata": {
    "vscode": {
     "languageId": "r"
    }
   },
   "outputs": [],
   "source": []
  },
  {
   "cell_type": "code",
   "execution_count": null,
   "id": "edaeafd0",
   "metadata": {
    "vscode": {
     "languageId": "r"
    }
   },
   "outputs": [],
   "source": []
  },
  {
   "cell_type": "code",
   "execution_count": null,
   "id": "7ce21476-15ed-468a-b64e-e2bbf0a7111c",
   "metadata": {
    "tags": [],
    "vscode": {
     "languageId": "r"
    }
   },
   "outputs": [
    {
     "data": {
      "image/png": "[encoded data removed]",
      "text/plain": [
       "<Figure size 640x480 with 1 Axes>"
      ]
     },
     "metadata": {},
     "output_type": "display_data"
    }
   ],
   "source": [
    "# get importance scores\n",
    "importances = model.feature_importances_\n",
    "\n",
    "# get data\n",
    "topn = 10\n",
    "indices = np.argsort(importances)[::-1][0:topn]\n",
    "feature_names = protein_data.columns\n",
    "\n",
    "# plot\n",
    "fig, ax = plt.subplots()\n",
    "ax.set_title(\"Feature Importances\")\n",
    "ax.bar(range(topn), importances[indices], align=\"center\")\n",
    "ax.set_xticks(range(topn), np.array(feature_names)[indices], rotation=90)\n",
    "ax.set_xlim([-1, topn])\n",
    "\n",
    "fn = os.path.join(outdir, 'rf_model.ibd_diagnosis.feature_importance.png')\n",
    "fig.savefig(fn, dpi=600)"
   ]
  },
  {
   "cell_type": "code",
   "execution_count": null,
   "id": "a923504d-85e8-4ab7-8d93-5ddbd4288b2f",
   "metadata": {
    "vscode": {
     "languageId": "r"
    }
   },
   "outputs": [],
   "source": [
    "importances_df = pd.DataFrame([importances, feature_names]).T\n",
    "importances_df.columns = ['score', 'protein']\n",
    "importances_df = importances_df[['protein', 'score']]"
   ]
  },
  {
   "cell_type": "code",
   "execution_count": null,
   "id": "7bb2d8bb-d430-4493-bb45-b04b10ddd94c",
   "metadata": {
    "vscode": {
     "languageId": "r"
    }
   },
   "outputs": [],
   "source": [
    "outfn = os.path.join(outdir, 'rf_model.disease_activity.scores.tsv')\n",
    "importances_df.to_csv(outfn, index=None, sep=\"\\t\")"
   ]
  },
  {
   "cell_type": "code",
   "execution_count": null,
   "id": "c6ef0490-c7dc-45e2-92e3-2cb82b47adc4",
   "metadata": {
    "vscode": {
     "languageId": "r"
    }
   },
   "outputs": [
    {
     "data": {
      "text/html": [
       "<div>\n",
       "<style scoped>\n",
       "    .dataframe tbody tr th:only-of-type {\n",
       "        vertical-align: middle;\n",
       "    }\n",
       "\n",
       "    .dataframe tbody tr th {\n",
       "        vertical-align: top;\n",
       "    }\n",
       "\n",
       "    .dataframe thead th {\n",
       "        text-align: right;\n",
       "    }\n",
       "</style>\n",
       "<table border=\"1\" class=\"dataframe\">\n",
       "  <thead>\n",
       "    <tr style=\"text-align: right;\">\n",
       "      <th></th>\n",
       "      <th>protein</th>\n",
       "      <th>score</th>\n",
       "    </tr>\n",
       "  </thead>\n",
       "  <tbody>\n",
       "    <tr>\n",
       "      <th>0</th>\n",
       "      <td>AGER</td>\n",
       "      <td>0.001469</td>\n",
       "    </tr>\n",
       "    <tr>\n",
       "      <th>1</th>\n",
       "      <td>AGRP</td>\n",
       "      <td>0.002178</td>\n",
       "    </tr>\n",
       "    <tr>\n",
       "      <th>2</th>\n",
       "      <td>ANGPT1</td>\n",
       "      <td>0.006989</td>\n",
       "    </tr>\n",
       "    <tr>\n",
       "      <th>3</th>\n",
       "      <td>ANGPT2</td>\n",
       "      <td>0.003723</td>\n",
       "    </tr>\n",
       "    <tr>\n",
       "      <th>4</th>\n",
       "      <td>ANXA1</td>\n",
       "      <td>0.003374</td>\n",
       "    </tr>\n",
       "  </tbody>\n",
       "</table>\n",
       "</div>"
      ],
      "text/plain": [
       "  protein     score\n",
       "0    AGER  0.001469\n",
       "1    AGRP  0.002178\n",
       "2  ANGPT1  0.006989\n",
       "3  ANGPT2  0.003723\n",
       "4   ANXA1  0.003374"
      ]
     },
     "execution_count": 16,
     "metadata": {},
     "output_type": "execute_result"
    }
   ],
   "source": [
    "importances_df.head()"
   ]
  },
  {
   "cell_type": "markdown",
   "id": "54722a98",
   "metadata": {},
   "source": [
    "### Bootstrap Analysis"
   ]
  },
  {
   "cell_type": "code",
   "execution_count": null,
   "id": "3bfa1297",
   "metadata": {
    "vscode": {
     "languageId": "r"
    }
   },
   "outputs": [],
   "source": [
    "bs_data = []\n",
    "num_seeds = 100\n",
    "\n",
    "for seed in range(num_seeds):\n",
    "\n",
    "    model = RandomForestClassifier(random_state=seed)\n",
    "\n",
    "    # Fit the model on the training data\n",
    "    model.fit(X_train_resampled, y_train_resampled)\n",
    "\n",
    "    # Check the accuracy on the training data\n",
    "    train_accuracy = model.score(X_train_resampled, y_train_resampled)\n",
    "\n",
    "    # Check the accuracy on the test data\n",
    "    test_accuracy = model.score(X_test, y_test)\n",
    "\n",
    "    # get importance scores\n",
    "    importances = model.feature_importances_\n",
    "\n",
    "    # get data\n",
    "    topn = 10\n",
    "    indices = np.argsort(importances)[::-1][0:topn]\n",
    "    topn_feature_names = np.array(protein_data.columns)[indices]\n",
    "\n",
    "    cdata = [seed, train_accuracy, test_accuracy, topn_feature_names]\n",
    "    bs_data.append(cdata)"
   ]
  },
  {
   "cell_type": "code",
   "execution_count": null,
   "id": "22f0428b",
   "metadata": {
    "vscode": {
     "languageId": "r"
    }
   },
   "outputs": [],
   "source": [
    "# load data into df\n",
    "bs_df = pd.DataFrame(bs_data)\n",
    "bs_df.columns = ['seed', 'train_acc', 'test_acc', 'top_genes']\n",
    "\n",
    "# value counts for the top genes\n",
    "dist_data = list(it.chain(*bs_df.top_genes.tolist()))\n",
    "dist_df = pd.Series(dist_data).value_counts().to_frame().reset_index()\n",
    "dist_df.rename(columns={'index': 'top_gene'}, inplace=True)\n",
    "dist_df.loc[:, 'pct'] = dist_df.loc[:, 'count'] / num_seeds * 100"
   ]
  },
  {
   "cell_type": "code",
   "execution_count": null,
   "id": "228fbe1e",
   "metadata": {
    "vscode": {
     "languageId": "r"
    }
   },
   "outputs": [
    {
     "data": {
      "text/html": [
       "<div>\n",
       "<style scoped>\n",
       "    .dataframe tbody tr th:only-of-type {\n",
       "        vertical-align: middle;\n",
       "    }\n",
       "\n",
       "    .dataframe tbody tr th {\n",
       "        vertical-align: top;\n",
       "    }\n",
       "\n",
       "    .dataframe thead th {\n",
       "        text-align: right;\n",
       "    }\n",
       "</style>\n",
       "<table border=\"1\" class=\"dataframe\">\n",
       "  <thead>\n",
       "    <tr style=\"text-align: right;\">\n",
       "      <th></th>\n",
       "      <th>top_gene</th>\n",
       "      <th>count</th>\n",
       "      <th>pct</th>\n",
       "    </tr>\n",
       "  </thead>\n",
       "  <tbody>\n",
       "    <tr>\n",
       "      <th>0</th>\n",
       "      <td>SELE</td>\n",
       "      <td>95</td>\n",
       "      <td>95.0</td>\n",
       "    </tr>\n",
       "    <tr>\n",
       "      <th>1</th>\n",
       "      <td>CCL2</td>\n",
       "      <td>84</td>\n",
       "      <td>84.0</td>\n",
       "    </tr>\n",
       "    <tr>\n",
       "      <th>2</th>\n",
       "      <td>GDF15</td>\n",
       "      <td>78</td>\n",
       "      <td>78.0</td>\n",
       "    </tr>\n",
       "    <tr>\n",
       "      <th>3</th>\n",
       "      <td>GZMA</td>\n",
       "      <td>76</td>\n",
       "      <td>76.0</td>\n",
       "    </tr>\n",
       "    <tr>\n",
       "      <th>4</th>\n",
       "      <td>CX3CL1</td>\n",
       "      <td>70</td>\n",
       "      <td>70.0</td>\n",
       "    </tr>\n",
       "    <tr>\n",
       "      <th>...</th>\n",
       "      <td>...</td>\n",
       "      <td>...</td>\n",
       "      <td>...</td>\n",
       "    </tr>\n",
       "    <tr>\n",
       "      <th>69</th>\n",
       "      <td>CCL1</td>\n",
       "      <td>1</td>\n",
       "      <td>1.0</td>\n",
       "    </tr>\n",
       "    <tr>\n",
       "      <th>70</th>\n",
       "      <td>CXCL1</td>\n",
       "      <td>1</td>\n",
       "      <td>1.0</td>\n",
       "    </tr>\n",
       "    <tr>\n",
       "      <th>71</th>\n",
       "      <td>IL17RA</td>\n",
       "      <td>1</td>\n",
       "      <td>1.0</td>\n",
       "    </tr>\n",
       "    <tr>\n",
       "      <th>72</th>\n",
       "      <td>AREG</td>\n",
       "      <td>1</td>\n",
       "      <td>1.0</td>\n",
       "    </tr>\n",
       "    <tr>\n",
       "      <th>73</th>\n",
       "      <td>NCR1</td>\n",
       "      <td>1</td>\n",
       "      <td>1.0</td>\n",
       "    </tr>\n",
       "  </tbody>\n",
       "</table>\n",
       "<p>74 rows × 3 columns</p>\n",
       "</div>"
      ],
      "text/plain": [
       "   top_gene  count   pct\n",
       "0      SELE     95  95.0\n",
       "1      CCL2     84  84.0\n",
       "2     GDF15     78  78.0\n",
       "3      GZMA     76  76.0\n",
       "4    CX3CL1     70  70.0\n",
       "..      ...    ...   ...\n",
       "69     CCL1      1   1.0\n",
       "70    CXCL1      1   1.0\n",
       "71   IL17RA      1   1.0\n",
       "72     AREG      1   1.0\n",
       "73     NCR1      1   1.0\n",
       "\n",
       "[74 rows x 3 columns]"
      ]
     },
     "execution_count": 19,
     "metadata": {},
     "output_type": "execute_result"
    }
   ],
   "source": [
    "dist_df"
   ]
  },
  {
   "cell_type": "code",
   "execution_count": null,
   "id": "553d35fd",
   "metadata": {
    "vscode": {
     "languageId": "r"
    }
   },
   "outputs": [
    {
     "data": {
      "text/plain": [
       "Text(0.5, 0, 'Percent')"
      ]
     },
     "execution_count": 20,
     "metadata": {},
     "output_type": "execute_result"
    },
    {
     "data": {
      "image/png": "[encoded data removed]",
      "text/plain": [
       "<Figure size 800x600 with 1 Axes>"
      ]
     },
     "metadata": {},
     "output_type": "display_data"
    }
   ],
   "source": [
    "fig, ax = plt.subplots(figsize=(8,6))\n",
    "\n",
    "sns.barplot(dist_df.iloc[0:20], y='top_gene', x='pct')\n",
    "\n",
    "ax.set_title(f'Bootstrap frequency of a given gene in {num_seeds} RF models')\n",
    "ax.set_ylabel(f'Genes (those present in the top {topn})')\n",
    "ax.set_xlabel('Percent')"
   ]
  },
  {
   "cell_type": "code",
   "execution_count": null,
   "id": "c2ba6acf",
   "metadata": {
    "vscode": {
     "languageId": "r"
    }
   },
   "outputs": [],
   "source": [
    "outfn = os.path.join(outdir, 'bootstrap_results.ibd_subtypes.tsv')\n",
    "dist_df.to_csv(outfn, sep='\\t', index=False, header=True)"
   ]
  },
  {
   "cell_type": "code",
   "execution_count": null,
   "id": "a6967e26",
   "metadata": {
    "vscode": {
     "languageId": "r"
    }
   },
   "outputs": [],
   "source": []
  },
  {
   "cell_type": "code",
   "execution_count": null,
   "id": "72700b2e",
   "metadata": {
    "vscode": {
     "languageId": "r"
    }
   },
   "outputs": [],
   "source": []
  },
  {
   "cell_type": "code",
   "execution_count": null,
   "id": "9f711fe5",
   "metadata": {
    "vscode": {
     "languageId": "r"
    }
   },
   "outputs": [],
   "source": []
  },
  {
   "cell_type": "code",
   "execution_count": null,
   "id": "74c52740",
   "metadata": {
    "vscode": {
     "languageId": "r"
    }
   },
   "outputs": [],
   "source": []
  },
  {
   "cell_type": "code",
   "execution_count": null,
   "id": "372312ad",
   "metadata": {
    "vscode": {
     "languageId": "r"
    }
   },
   "outputs": [],
   "source": []
  },
  {
   "cell_type": "markdown",
   "id": "664dad3d-9114-43f9-9de5-7cd50cefdb9a",
   "metadata": {},
   "source": [
    "## Predicting Disease Activity"
   ]
  },
  {
   "cell_type": "code",
   "execution_count": null,
   "id": "dc272a8c-6911-4f75-bc03-3ca66a6f1046",
   "metadata": {
    "vscode": {
     "languageId": "r"
    }
   },
   "outputs": [],
   "source": [
    "# Extract the diagnosis column\n",
    "task_data = clinical_data['disease_activity']"
   ]
  },
  {
   "cell_type": "code",
   "execution_count": null,
   "id": "58a1b85a-743d-44cc-b0f5-bca92388f714",
   "metadata": {
    "tags": [],
    "vscode": {
     "languageId": "r"
    }
   },
   "outputs": [],
   "source": [
    "# resample to balance classes\n",
    "X_resampled, task_resampled = RandomOverSampler(random_state=random_state).fit_resample(protein_data, task_data)"
   ]
  },
  {
   "cell_type": "code",
   "execution_count": null,
   "id": "243caf67-6180-42b4-b0a9-a42c781cc1d7",
   "metadata": {
    "tags": [],
    "vscode": {
     "languageId": "r"
    }
   },
   "outputs": [
    {
     "data": {
      "text/plain": [
       "disease_activity\n",
       "Quiescent                62\n",
       "Moderate                 62\n",
       "Mild                     62\n",
       "N/A (Non-IBD Control)    62\n",
       "Name: count, dtype: int64"
      ]
     },
     "execution_count": 23,
     "metadata": {},
     "output_type": "execute_result"
    }
   ],
   "source": [
    "task_resampled.value_counts()"
   ]
  },
  {
   "cell_type": "code",
   "execution_count": null,
   "id": "6dda4010-fc2a-49e4-af59-982288da92d4",
   "metadata": {
    "vscode": {
     "languageId": "r"
    }
   },
   "outputs": [],
   "source": [
    "#X_train, X_test, y_train, y_test = train_test_split(protein_data, task_data, test_size=0.2, random_state=random_state)\n",
    "X_train, X_test, y_train, y_test = train_test_split(X_resampled, task_resampled, test_size=0.2, random_state=random_state)\n",
    "model = RandomForestClassifier(random_state=0)"
   ]
  },
  {
   "cell_type": "code",
   "execution_count": null,
   "id": "6273c940-2f59-4a9f-8a8b-36c318d40c4e",
   "metadata": {
    "vscode": {
     "languageId": "r"
    }
   },
   "outputs": [
    {
     "data": {
      "text/html": [
       "<style>#sk-container-id-2 {\n",
       "  /* Definition of color scheme common for light and dark mode */\n",
       "  --sklearn-color-text: black;\n",
       "  --sklearn-color-line: gray;\n",
       "  /* Definition of color scheme for unfitted estimators */\n",
       "  --sklearn-color-unfitted-level-0: #fff5e6;\n",
       "  --sklearn-color-unfitted-level-1: #f6e4d2;\n",
       "  --sklearn-color-unfitted-level-2: #ffe0b3;\n",
       "  --sklearn-color-unfitted-level-3: chocolate;\n",
       "  /* Definition of color scheme for fitted estimators */\n",
       "  --sklearn-color-fitted-level-0: #f0f8ff;\n",
       "  --sklearn-color-fitted-level-1: #d4ebff;\n",
       "  --sklearn-color-fitted-level-2: #b3dbfd;\n",
       "  --sklearn-color-fitted-level-3: cornflowerblue;\n",
       "\n",
       "  /* Specific color for light theme */\n",
       "  --sklearn-color-text-on-default-background: var(--sg-text-color, var(--theme-code-foreground, var(--jp-content-font-color1, black)));\n",
       "  --sklearn-color-background: var(--sg-background-color, var(--theme-background, var(--jp-layout-color0, white)));\n",
       "  --sklearn-color-border-box: var(--sg-text-color, var(--theme-code-foreground, var(--jp-content-font-color1, black)));\n",
       "  --sklearn-color-icon: #696969;\n",
       "\n",
       "  @media (prefers-color-scheme: dark) {\n",
       "    /* Redefinition of color scheme for dark theme */\n",
       "    --sklearn-color-text-on-default-background: var(--sg-text-color, var(--theme-code-foreground, var(--jp-content-font-color1, white)));\n",
       "    --sklearn-color-background: var(--sg-background-color, var(--theme-background, var(--jp-layout-color0, #111)));\n",
       "    --sklearn-color-border-box: var(--sg-text-color, var(--theme-code-foreground, var(--jp-content-font-color1, white)));\n",
       "    --sklearn-color-icon: #878787;\n",
       "  }\n",
       "}\n",
       "\n",
       "#sk-container-id-2 {\n",
       "  color: var(--sklearn-color-text);\n",
       "}\n",
       "\n",
       "#sk-container-id-2 pre {\n",
       "  padding: 0;\n",
       "}\n",
       "\n",
       "#sk-container-id-2 input.sk-hidden--visually {\n",
       "  border: 0;\n",
       "  clip: rect(1px 1px 1px 1px);\n",
       "  clip: rect(1px, 1px, 1px, 1px);\n",
       "  height: 1px;\n",
       "  margin: -1px;\n",
       "  overflow: hidden;\n",
       "  padding: 0;\n",
       "  position: absolute;\n",
       "  width: 1px;\n",
       "}\n",
       "\n",
       "#sk-container-id-2 div.sk-dashed-wrapped {\n",
       "  border: 1px dashed var(--sklearn-color-line);\n",
       "  margin: 0 0.4em 0.5em 0.4em;\n",
       "  box-sizing: border-box;\n",
       "  padding-bottom: 0.4em;\n",
       "  background-color: var(--sklearn-color-background);\n",
       "}\n",
       "\n",
       "#sk-container-id-2 div.sk-container {\n",
       "  /* jupyter's `normalize.less` sets `[hidden] { display: none; }`\n",
       "     but bootstrap.min.css set `[hidden] { display: none !important; }`\n",
       "     so we also need the `!important` here to be able to override the\n",
       "     default hidden behavior on the sphinx rendered scikit-learn.org.\n",
       "     See: https://github.com/scikit-learn/scikit-learn/issues/21755 */\n",
       "  display: inline-block !important;\n",
       "  position: relative;\n",
       "}\n",
       "\n",
       "#sk-container-id-2 div.sk-text-repr-fallback {\n",
       "  display: none;\n",
       "}\n",
       "\n",
       "div.sk-parallel-item,\n",
       "div.sk-serial,\n",
       "div.sk-item {\n",
       "  /* draw centered vertical line to link estimators */\n",
       "  background-image: linear-gradient(var(--sklearn-color-text-on-default-background), var(--sklearn-color-text-on-default-background));\n",
       "  background-size: 2px 100%;\n",
       "  background-repeat: no-repeat;\n",
       "  background-position: center center;\n",
       "}\n",
       "\n",
       "/* Parallel-specific style estimator block */\n",
       "\n",
       "#sk-container-id-2 div.sk-parallel-item::after {\n",
       "  content: \"\";\n",
       "  width: 100%;\n",
       "  border-bottom: 2px solid var(--sklearn-color-text-on-default-background);\n",
       "  flex-grow: 1;\n",
       "}\n",
       "\n",
       "#sk-container-id-2 div.sk-parallel {\n",
       "  display: flex;\n",
       "  align-items: stretch;\n",
       "  justify-content: center;\n",
       "  background-color: var(--sklearn-color-background);\n",
       "  position: relative;\n",
       "}\n",
       "\n",
       "#sk-container-id-2 div.sk-parallel-item {\n",
       "  display: flex;\n",
       "  flex-direction: column;\n",
       "}\n",
       "\n",
       "#sk-container-id-2 div.sk-parallel-item:first-child::after {\n",
       "  align-self: flex-end;\n",
       "  width: 50%;\n",
       "}\n",
       "\n",
       "#sk-container-id-2 div.sk-parallel-item:last-child::after {\n",
       "  align-self: flex-start;\n",
       "  width: 50%;\n",
       "}\n",
       "\n",
       "#sk-container-id-2 div.sk-parallel-item:only-child::after {\n",
       "  width: 0;\n",
       "}\n",
       "\n",
       "/* Serial-specific style estimator block */\n",
       "\n",
       "#sk-container-id-2 div.sk-serial {\n",
       "  display: flex;\n",
       "  flex-direction: column;\n",
       "  align-items: center;\n",
       "  background-color: var(--sklearn-color-background);\n",
       "  padding-right: 1em;\n",
       "  padding-left: 1em;\n",
       "}\n",
       "\n",
       "\n",
       "/* Toggleable style: style used for estimator/Pipeline/ColumnTransformer box that is\n",
       "clickable and can be expanded/collapsed.\n",
       "- Pipeline and ColumnTransformer use this feature and define the default style\n",
       "- Estimators will overwrite some part of the style using the `sk-estimator` class\n",
       "*/\n",
       "\n",
       "/* Pipeline and ColumnTransformer style (default) */\n",
       "\n",
       "#sk-container-id-2 div.sk-toggleable {\n",
       "  /* Default theme specific background. It is overwritten whether we have a\n",
       "  specific estimator or a Pipeline/ColumnTransformer */\n",
       "  background-color: var(--sklearn-color-background);\n",
       "}\n",
       "\n",
       "/* Toggleable label */\n",
       "#sk-container-id-2 label.sk-toggleable__label {\n",
       "  cursor: pointer;\n",
       "  display: block;\n",
       "  width: 100%;\n",
       "  margin-bottom: 0;\n",
       "  padding: 0.5em;\n",
       "  box-sizing: border-box;\n",
       "  text-align: center;\n",
       "}\n",
       "\n",
       "#sk-container-id-2 label.sk-toggleable__label-arrow:before {\n",
       "  /* Arrow on the left of the label */\n",
       "  content: \"▸\";\n",
       "  float: left;\n",
       "  margin-right: 0.25em;\n",
       "  color: var(--sklearn-color-icon);\n",
       "}\n",
       "\n",
       "#sk-container-id-2 label.sk-toggleable__label-arrow:hover:before {\n",
       "  color: var(--sklearn-color-text);\n",
       "}\n",
       "\n",
       "/* Toggleable content - dropdown */\n",
       "\n",
       "#sk-container-id-2 div.sk-toggleable__content {\n",
       "  max-height: 0;\n",
       "  max-width: 0;\n",
       "  overflow: hidden;\n",
       "  text-align: left;\n",
       "  /* unfitted */\n",
       "  background-color: var(--sklearn-color-unfitted-level-0);\n",
       "}\n",
       "\n",
       "#sk-container-id-2 div.sk-toggleable__content.fitted {\n",
       "  /* fitted */\n",
       "  background-color: var(--sklearn-color-fitted-level-0);\n",
       "}\n",
       "\n",
       "#sk-container-id-2 div.sk-toggleable__content pre {\n",
       "  margin: 0.2em;\n",
       "  border-radius: 0.25em;\n",
       "  color: var(--sklearn-color-text);\n",
       "  /* unfitted */\n",
       "  background-color: var(--sklearn-color-unfitted-level-0);\n",
       "}\n",
       "\n",
       "#sk-container-id-2 div.sk-toggleable__content.fitted pre {\n",
       "  /* unfitted */\n",
       "  background-color: var(--sklearn-color-fitted-level-0);\n",
       "}\n",
       "\n",
       "#sk-container-id-2 input.sk-toggleable__control:checked~div.sk-toggleable__content {\n",
       "  /* Expand drop-down */\n",
       "  max-height: 200px;\n",
       "  max-width: 100%;\n",
       "  overflow: auto;\n",
       "}\n",
       "\n",
       "#sk-container-id-2 input.sk-toggleable__control:checked~label.sk-toggleable__label-arrow:before {\n",
       "  content: \"▾\";\n",
       "}\n",
       "\n",
       "/* Pipeline/ColumnTransformer-specific style */\n",
       "\n",
       "#sk-container-id-2 div.sk-label input.sk-toggleable__control:checked~label.sk-toggleable__label {\n",
       "  color: var(--sklearn-color-text);\n",
       "  background-color: var(--sklearn-color-unfitted-level-2);\n",
       "}\n",
       "\n",
       "#sk-container-id-2 div.sk-label.fitted input.sk-toggleable__control:checked~label.sk-toggleable__label {\n",
       "  background-color: var(--sklearn-color-fitted-level-2);\n",
       "}\n",
       "\n",
       "/* Estimator-specific style */\n",
       "\n",
       "/* Colorize estimator box */\n",
       "#sk-container-id-2 div.sk-estimator input.sk-toggleable__control:checked~label.sk-toggleable__label {\n",
       "  /* unfitted */\n",
       "  background-color: var(--sklearn-color-unfitted-level-2);\n",
       "}\n",
       "\n",
       "#sk-container-id-2 div.sk-estimator.fitted input.sk-toggleable__control:checked~label.sk-toggleable__label {\n",
       "  /* fitted */\n",
       "  background-color: var(--sklearn-color-fitted-level-2);\n",
       "}\n",
       "\n",
       "#sk-container-id-2 div.sk-label label.sk-toggleable__label,\n",
       "#sk-container-id-2 div.sk-label label {\n",
       "  /* The background is the default theme color */\n",
       "  color: var(--sklearn-color-text-on-default-background);\n",
       "}\n",
       "\n",
       "/* On hover, darken the color of the background */\n",
       "#sk-container-id-2 div.sk-label:hover label.sk-toggleable__label {\n",
       "  color: var(--sklearn-color-text);\n",
       "  background-color: var(--sklearn-color-unfitted-level-2);\n",
       "}\n",
       "\n",
       "/* Label box, darken color on hover, fitted */\n",
       "#sk-container-id-2 div.sk-label.fitted:hover label.sk-toggleable__label.fitted {\n",
       "  color: var(--sklearn-color-text);\n",
       "  background-color: var(--sklearn-color-fitted-level-2);\n",
       "}\n",
       "\n",
       "/* Estimator label */\n",
       "\n",
       "#sk-container-id-2 div.sk-label label {\n",
       "  font-family: monospace;\n",
       "  font-weight: bold;\n",
       "  display: inline-block;\n",
       "  line-height: 1.2em;\n",
       "}\n",
       "\n",
       "#sk-container-id-2 div.sk-label-container {\n",
       "  text-align: center;\n",
       "}\n",
       "\n",
       "/* Estimator-specific */\n",
       "#sk-container-id-2 div.sk-estimator {\n",
       "  font-family: monospace;\n",
       "  border: 1px dotted var(--sklearn-color-border-box);\n",
       "  border-radius: 0.25em;\n",
       "  box-sizing: border-box;\n",
       "  margin-bottom: 0.5em;\n",
       "  /* unfitted */\n",
       "  background-color: var(--sklearn-color-unfitted-level-0);\n",
       "}\n",
       "\n",
       "#sk-container-id-2 div.sk-estimator.fitted {\n",
       "  /* fitted */\n",
       "  background-color: var(--sklearn-color-fitted-level-0);\n",
       "}\n",
       "\n",
       "/* on hover */\n",
       "#sk-container-id-2 div.sk-estimator:hover {\n",
       "  /* unfitted */\n",
       "  background-color: var(--sklearn-color-unfitted-level-2);\n",
       "}\n",
       "\n",
       "#sk-container-id-2 div.sk-estimator.fitted:hover {\n",
       "  /* fitted */\n",
       "  background-color: var(--sklearn-color-fitted-level-2);\n",
       "}\n",
       "\n",
       "/* Specification for estimator info (e.g. \"i\" and \"?\") */\n",
       "\n",
       "/* Common style for \"i\" and \"?\" */\n",
       "\n",
       ".sk-estimator-doc-link,\n",
       "a:link.sk-estimator-doc-link,\n",
       "a:visited.sk-estimator-doc-link {\n",
       "  float: right;\n",
       "  font-size: smaller;\n",
       "  line-height: 1em;\n",
       "  font-family: monospace;\n",
       "  background-color: var(--sklearn-color-background);\n",
       "  border-radius: 1em;\n",
       "  height: 1em;\n",
       "  width: 1em;\n",
       "  text-decoration: none !important;\n",
       "  margin-left: 1ex;\n",
       "  /* unfitted */\n",
       "  border: var(--sklearn-color-unfitted-level-1) 1pt solid;\n",
       "  color: var(--sklearn-color-unfitted-level-1);\n",
       "}\n",
       "\n",
       ".sk-estimator-doc-link.fitted,\n",
       "a:link.sk-estimator-doc-link.fitted,\n",
       "a:visited.sk-estimator-doc-link.fitted {\n",
       "  /* fitted */\n",
       "  border: var(--sklearn-color-fitted-level-1) 1pt solid;\n",
       "  color: var(--sklearn-color-fitted-level-1);\n",
       "}\n",
       "\n",
       "/* On hover */\n",
       "div.sk-estimator:hover .sk-estimator-doc-link:hover,\n",
       ".sk-estimator-doc-link:hover,\n",
       "div.sk-label-container:hover .sk-estimator-doc-link:hover,\n",
       ".sk-estimator-doc-link:hover {\n",
       "  /* unfitted */\n",
       "  background-color: var(--sklearn-color-unfitted-level-3);\n",
       "  color: var(--sklearn-color-background);\n",
       "  text-decoration: none;\n",
       "}\n",
       "\n",
       "div.sk-estimator.fitted:hover .sk-estimator-doc-link.fitted:hover,\n",
       ".sk-estimator-doc-link.fitted:hover,\n",
       "div.sk-label-container:hover .sk-estimator-doc-link.fitted:hover,\n",
       ".sk-estimator-doc-link.fitted:hover {\n",
       "  /* fitted */\n",
       "  background-color: var(--sklearn-color-fitted-level-3);\n",
       "  color: var(--sklearn-color-background);\n",
       "  text-decoration: none;\n",
       "}\n",
       "\n",
       "/* Span, style for the box shown on hovering the info icon */\n",
       ".sk-estimator-doc-link span {\n",
       "  display: none;\n",
       "  z-index: 9999;\n",
       "  position: relative;\n",
       "  font-weight: normal;\n",
       "  right: .2ex;\n",
       "  padding: .5ex;\n",
       "  margin: .5ex;\n",
       "  width: min-content;\n",
       "  min-width: 20ex;\n",
       "  max-width: 50ex;\n",
       "  color: var(--sklearn-color-text);\n",
       "  box-shadow: 2pt 2pt 4pt #999;\n",
       "  /* unfitted */\n",
       "  background: var(--sklearn-color-unfitted-level-0);\n",
       "  border: .5pt solid var(--sklearn-color-unfitted-level-3);\n",
       "}\n",
       "\n",
       ".sk-estimator-doc-link.fitted span {\n",
       "  /* fitted */\n",
       "  background: var(--sklearn-color-fitted-level-0);\n",
       "  border: var(--sklearn-color-fitted-level-3);\n",
       "}\n",
       "\n",
       ".sk-estimator-doc-link:hover span {\n",
       "  display: block;\n",
       "}\n",
       "\n",
       "/* \"?\"-specific style due to the `<a>` HTML tag */\n",
       "\n",
       "#sk-container-id-2 a.estimator_doc_link {\n",
       "  float: right;\n",
       "  font-size: 1rem;\n",
       "  line-height: 1em;\n",
       "  font-family: monospace;\n",
       "  background-color: var(--sklearn-color-background);\n",
       "  border-radius: 1rem;\n",
       "  height: 1rem;\n",
       "  width: 1rem;\n",
       "  text-decoration: none;\n",
       "  /* unfitted */\n",
       "  color: var(--sklearn-color-unfitted-level-1);\n",
       "  border: var(--sklearn-color-unfitted-level-1) 1pt solid;\n",
       "}\n",
       "\n",
       "#sk-container-id-2 a.estimator_doc_link.fitted {\n",
       "  /* fitted */\n",
       "  border: var(--sklearn-color-fitted-level-1) 1pt solid;\n",
       "  color: var(--sklearn-color-fitted-level-1);\n",
       "}\n",
       "\n",
       "/* On hover */\n",
       "#sk-container-id-2 a.estimator_doc_link:hover {\n",
       "  /* unfitted */\n",
       "  background-color: var(--sklearn-color-unfitted-level-3);\n",
       "  color: var(--sklearn-color-background);\n",
       "  text-decoration: none;\n",
       "}\n",
       "\n",
       "#sk-container-id-2 a.estimator_doc_link.fitted:hover {\n",
       "  /* fitted */\n",
       "  background-color: var(--sklearn-color-fitted-level-3);\n",
       "}\n",
       "</style><div id=\"sk-container-id-2\" class=\"sk-top-container\"><div class=\"sk-text-repr-fallback\"><pre>RandomForestClassifier(random_state=0)</pre><b>In a Jupyter environment, please rerun this cell to show the HTML representation or trust the notebook. <br />On GitHub, the HTML representation is unable to render, please try loading this page with nbviewer.org.</b></div><div class=\"sk-container\" hidden><div class=\"sk-item\"><div class=\"sk-estimator fitted sk-toggleable\"><input class=\"sk-toggleable__control sk-hidden--visually\" id=\"sk-estimator-id-2\" type=\"checkbox\" checked><label for=\"sk-estimator-id-2\" class=\"sk-toggleable__label fitted sk-toggleable__label-arrow fitted\">&nbsp;&nbsp;RandomForestClassifier<a class=\"sk-estimator-doc-link fitted\" rel=\"noreferrer\" target=\"_blank\" href=\"https://scikit-learn.org/1.5/modules/generated/sklearn.ensemble.RandomForestClassifier.html\">?<span>Documentation for RandomForestClassifier</span></a><span class=\"sk-estimator-doc-link fitted\">i<span>Fitted</span></span></label><div class=\"sk-toggleable__content fitted\"><pre>RandomForestClassifier(random_state=0)</pre></div> </div></div></div></div>"
      ],
      "text/plain": [
       "RandomForestClassifier(random_state=0)"
      ]
     },
     "execution_count": 25,
     "metadata": {},
     "output_type": "execute_result"
    }
   ],
   "source": [
    "# Fit the model on the training data\n",
    "model.fit(X_train, y_train)"
   ]
  },
  {
   "cell_type": "code",
   "execution_count": null,
   "id": "0fbd55be-0a0e-42aa-8aab-4501d868b6ee",
   "metadata": {
    "vscode": {
     "languageId": "r"
    }
   },
   "outputs": [
    {
     "name": "stdout",
     "output_type": "stream",
     "text": [
      "Training Accuracy: 1.00\n"
     ]
    }
   ],
   "source": [
    "# Check the accuracy on the training data\n",
    "train_accuracy = model.score(X_train, y_train)\n",
    "print(f\"Training Accuracy: {train_accuracy:.2f}\")"
   ]
  },
  {
   "cell_type": "code",
   "execution_count": null,
   "id": "adbecff2-eeef-4ec1-97e4-a959a6fe4681",
   "metadata": {
    "vscode": {
     "languageId": "r"
    }
   },
   "outputs": [
    {
     "name": "stdout",
     "output_type": "stream",
     "text": [
      "Testing Accuracy: 1.00\n"
     ]
    }
   ],
   "source": [
    "# Check the accuracy on the test data\n",
    "test_accuracy = model.score(X_test, y_test)\n",
    "print(f\"Testing Accuracy: {test_accuracy:.2f}\")"
   ]
  },
  {
   "cell_type": "code",
   "execution_count": null,
   "id": "cd516238-9618-41d9-aec2-018329d39fbb",
   "metadata": {
    "vscode": {
     "languageId": "r"
    }
   },
   "outputs": [
    {
     "data": {
      "image/png": "[encoded data removed]",
      "text/plain": [
       "<Figure size 640x480 with 2 Axes>"
      ]
     },
     "metadata": {},
     "output_type": "display_data"
    }
   ],
   "source": [
    "predictions = model.predict(X_test)\n",
    "cm = confusion_matrix(y_test, predictions, labels=model.classes_)\n",
    "disp = ConfusionMatrixDisplay(confusion_matrix=cm,\n",
    "                              display_labels=model.classes_)\n",
    "disp.plot()\n",
    "\n",
    "# Rotate x-tick labels\n",
    "plt.xticks(rotation=45)  # Change the angle as needed (e.g., 90 for vertical)\n",
    "plt.show()\n",
    "\n",
    "fn = os.path.join(outdir, 'rf_model.disease_activity.confusion_matrix.png')\n",
    "disp.figure_.savefig(fn, dpi=600)"
   ]
  },
  {
   "cell_type": "code",
   "execution_count": null,
   "id": "e0bb3668-2194-4ce6-8f7d-245c8de78949",
   "metadata": {
    "vscode": {
     "languageId": "r"
    }
   },
   "outputs": [
    {
     "name": "stdout",
     "output_type": "stream",
     "text": [
      "                       precision    recall  f1-score   support\n",
      "\n",
      "                 Mild       1.00      1.00      1.00        15\n",
      "             Moderate       1.00      1.00      1.00        13\n",
      "N/A (Non-IBD Control)       1.00      1.00      1.00        12\n",
      "            Quiescent       1.00      1.00      1.00        10\n",
      "\n",
      "             accuracy                           1.00        50\n",
      "            macro avg       1.00      1.00      1.00        50\n",
      "         weighted avg       1.00      1.00      1.00        50\n",
      "\n"
     ]
    }
   ],
   "source": [
    "# Print the classification report\n",
    "print(classification_report(y_test, predictions))"
   ]
  },
  {
   "cell_type": "code",
   "execution_count": null,
   "id": "8bada89b-810e-45f2-bb86-379512f3afe1",
   "metadata": {
    "tags": [],
    "vscode": {
     "languageId": "r"
    }
   },
   "outputs": [],
   "source": [
    "# get importance scores\n",
    "importances = model.feature_importances_\n",
    "feature_names = model.feature_names_in_\n",
    "\n",
    "# get data\n",
    "topn = 10\n",
    "indices = np.argsort(importances)[::-1][0:topn]\n",
    "feature_names = protein_data.columns"
   ]
  },
  {
   "cell_type": "code",
   "execution_count": null,
   "id": "14c97ea7-a0b7-4ed1-ad7c-9dd245c1059c",
   "metadata": {
    "tags": [],
    "vscode": {
     "languageId": "r"
    }
   },
   "outputs": [
    {
     "data": {
      "image/png": "[encoded data removed]",
      "text/plain": [
       "<Figure size 640x480 with 1 Axes>"
      ]
     },
     "metadata": {},
     "output_type": "display_data"
    }
   ],
   "source": [
    "# plot\n",
    "fig, ax = plt.subplots()\n",
    "ax.set_title(\"Feature Importances\")\n",
    "ax.bar(range(topn), importances[indices], align=\"center\")\n",
    "ax.set_xticks(range(topn), np.array(feature_names)[indices], rotation=90)\n",
    "ax.set_xlim([-1, topn])\n",
    "\n",
    "fn = os.path.join(outdir, 'rf_model.disease_activity.feature_importance.png')\n",
    "fig.savefig(fn, dpi=600)"
   ]
  },
  {
   "cell_type": "code",
   "execution_count": null,
   "id": "389a7a31-5dda-4c18-b35a-e990e29bcacc",
   "metadata": {
    "vscode": {
     "languageId": "r"
    }
   },
   "outputs": [],
   "source": [
    "importances_df = pd.DataFrame([importances, feature_names]).T\n",
    "importances_df.columns = ['score', 'protein']\n",
    "importances_df = importances_df[['protein', 'score']]"
   ]
  },
  {
   "cell_type": "code",
   "execution_count": null,
   "id": "be211b47-a763-40a0-82db-2f49713ddb61",
   "metadata": {
    "vscode": {
     "languageId": "r"
    }
   },
   "outputs": [],
   "source": [
    "outfn = os.path.join(outdir, 'rf_model.disease_activity.scores.tsv')\n",
    "importances_df.to_csv(outfn, index=None, sep=\"\\t\")"
   ]
  },
  {
   "cell_type": "code",
   "execution_count": null,
   "id": "1fcb5edc-598b-4ef5-9113-773f34356edc",
   "metadata": {
    "vscode": {
     "languageId": "r"
    }
   },
   "outputs": [
    {
     "data": {
      "text/html": [
       "<div>\n",
       "<style scoped>\n",
       "    .dataframe tbody tr th:only-of-type {\n",
       "        vertical-align: middle;\n",
       "    }\n",
       "\n",
       "    .dataframe tbody tr th {\n",
       "        vertical-align: top;\n",
       "    }\n",
       "\n",
       "    .dataframe thead th {\n",
       "        text-align: right;\n",
       "    }\n",
       "</style>\n",
       "<table border=\"1\" class=\"dataframe\">\n",
       "  <thead>\n",
       "    <tr style=\"text-align: right;\">\n",
       "      <th></th>\n",
       "      <th>protein</th>\n",
       "      <th>score</th>\n",
       "    </tr>\n",
       "  </thead>\n",
       "  <tbody>\n",
       "    <tr>\n",
       "      <th>0</th>\n",
       "      <td>AGER</td>\n",
       "      <td>0.009232</td>\n",
       "    </tr>\n",
       "    <tr>\n",
       "      <th>1</th>\n",
       "      <td>AGRP</td>\n",
       "      <td>0.003677</td>\n",
       "    </tr>\n",
       "    <tr>\n",
       "      <th>2</th>\n",
       "      <td>ANGPT1</td>\n",
       "      <td>0.001271</td>\n",
       "    </tr>\n",
       "    <tr>\n",
       "      <th>3</th>\n",
       "      <td>ANGPT2</td>\n",
       "      <td>0.001523</td>\n",
       "    </tr>\n",
       "    <tr>\n",
       "      <th>4</th>\n",
       "      <td>ANXA1</td>\n",
       "      <td>0.001788</td>\n",
       "    </tr>\n",
       "    <tr>\n",
       "      <th>5</th>\n",
       "      <td>AREG</td>\n",
       "      <td>0.003832</td>\n",
       "    </tr>\n",
       "    <tr>\n",
       "      <th>6</th>\n",
       "      <td>BDNF</td>\n",
       "      <td>0.0</td>\n",
       "    </tr>\n",
       "    <tr>\n",
       "      <th>7</th>\n",
       "      <td>BMP7</td>\n",
       "      <td>0.000692</td>\n",
       "    </tr>\n",
       "    <tr>\n",
       "      <th>8</th>\n",
       "      <td>BST2</td>\n",
       "      <td>0.005298</td>\n",
       "    </tr>\n",
       "    <tr>\n",
       "      <th>9</th>\n",
       "      <td>C1QA</td>\n",
       "      <td>0.001817</td>\n",
       "    </tr>\n",
       "    <tr>\n",
       "      <th>10</th>\n",
       "      <td>CALCA</td>\n",
       "      <td>0.001854</td>\n",
       "    </tr>\n",
       "    <tr>\n",
       "      <th>11</th>\n",
       "      <td>CCL1</td>\n",
       "      <td>0.003105</td>\n",
       "    </tr>\n",
       "    <tr>\n",
       "      <th>12</th>\n",
       "      <td>CCL11</td>\n",
       "      <td>0.010769</td>\n",
       "    </tr>\n",
       "    <tr>\n",
       "      <th>13</th>\n",
       "      <td>CCL13</td>\n",
       "      <td>0.002187</td>\n",
       "    </tr>\n",
       "    <tr>\n",
       "      <th>14</th>\n",
       "      <td>CCL14</td>\n",
       "      <td>0.00074</td>\n",
       "    </tr>\n",
       "    <tr>\n",
       "      <th>15</th>\n",
       "      <td>CCL15</td>\n",
       "      <td>0.000313</td>\n",
       "    </tr>\n",
       "    <tr>\n",
       "      <th>16</th>\n",
       "      <td>CCL16</td>\n",
       "      <td>0.000726</td>\n",
       "    </tr>\n",
       "    <tr>\n",
       "      <th>17</th>\n",
       "      <td>CCL17</td>\n",
       "      <td>0.002111</td>\n",
       "    </tr>\n",
       "    <tr>\n",
       "      <th>18</th>\n",
       "      <td>CCL19</td>\n",
       "      <td>0.000758</td>\n",
       "    </tr>\n",
       "    <tr>\n",
       "      <th>19</th>\n",
       "      <td>CCL2</td>\n",
       "      <td>0.003181</td>\n",
       "    </tr>\n",
       "  </tbody>\n",
       "</table>\n",
       "</div>"
      ],
      "text/plain": [
       "   protein     score\n",
       "0     AGER  0.009232\n",
       "1     AGRP  0.003677\n",
       "2   ANGPT1  0.001271\n",
       "3   ANGPT2  0.001523\n",
       "4    ANXA1  0.001788\n",
       "5     AREG  0.003832\n",
       "6     BDNF       0.0\n",
       "7     BMP7  0.000692\n",
       "8     BST2  0.005298\n",
       "9     C1QA  0.001817\n",
       "10   CALCA  0.001854\n",
       "11    CCL1  0.003105\n",
       "12   CCL11  0.010769\n",
       "13   CCL13  0.002187\n",
       "14   CCL14   0.00074\n",
       "15   CCL15  0.000313\n",
       "16   CCL16  0.000726\n",
       "17   CCL17  0.002111\n",
       "18   CCL19  0.000758\n",
       "19    CCL2  0.003181"
      ]
     },
     "execution_count": 34,
     "metadata": {},
     "output_type": "execute_result"
    }
   ],
   "source": [
    "importances_df.head(20)"
   ]
  },
  {
   "cell_type": "markdown",
   "id": "3d736894-7693-4dec-8d6f-61a4cb245b11",
   "metadata": {},
   "source": [
    "### Bootstrap Analysis"
   ]
  },
  {
   "cell_type": "code",
   "execution_count": null,
   "id": "3eb39720",
   "metadata": {
    "vscode": {
     "languageId": "r"
    }
   },
   "outputs": [],
   "source": [
    "bs_data = []\n",
    "num_seeds = 100\n",
    "\n",
    "for seed in range(num_seeds):\n",
    "\n",
    "    model = RandomForestClassifier(random_state=seed)\n",
    "\n",
    "    # Fit the model on the training data\n",
    "    model.fit(X_train, y_train)\n",
    "\n",
    "    # Check the accuracy on the training data\n",
    "    train_accuracy = model.score(X_train, y_train)\n",
    "\n",
    "    # Check the accuracy on the test data\n",
    "    test_accuracy = model.score(X_test, y_test)\n",
    "\n",
    "    # get importance scores\n",
    "    importances = model.feature_importances_\n",
    "\n",
    "    # get data\n",
    "    topn = 10\n",
    "    indices = np.argsort(importances)[::-1][0:topn]\n",
    "    topn_feature_names = np.array(protein_data.columns)[indices]\n",
    "\n",
    "    cdata = [seed, train_accuracy, test_accuracy, topn_feature_names]\n",
    "    bs_data.append(cdata)"
   ]
  },
  {
   "cell_type": "code",
   "execution_count": null,
   "id": "04c65f60",
   "metadata": {
    "vscode": {
     "languageId": "r"
    }
   },
   "outputs": [],
   "source": [
    "# load data into df\n",
    "bs_df = pd.DataFrame(bs_data)\n",
    "bs_df.columns = ['seed', 'train_acc', 'test_acc', 'top_genes']\n",
    "\n",
    "# value counts for the top genes\n",
    "dist_data = list(it.chain(*bs_df.top_genes.tolist()))\n",
    "dist_df = pd.Series(dist_data).value_counts().to_frame().reset_index()\n",
    "dist_df.rename(columns={'index': 'top_gene'}, inplace=True)\n",
    "dist_df.loc[:, 'pct'] = dist_df.loc[:, 'count'] / num_seeds * 100"
   ]
  },
  {
   "cell_type": "code",
   "execution_count": null,
   "id": "14a9fd6d",
   "metadata": {
    "vscode": {
     "languageId": "r"
    }
   },
   "outputs": [
    {
     "data": {
      "text/html": [
       "<div>\n",
       "<style scoped>\n",
       "    .dataframe tbody tr th:only-of-type {\n",
       "        vertical-align: middle;\n",
       "    }\n",
       "\n",
       "    .dataframe tbody tr th {\n",
       "        vertical-align: top;\n",
       "    }\n",
       "\n",
       "    .dataframe thead th {\n",
       "        text-align: right;\n",
       "    }\n",
       "</style>\n",
       "<table border=\"1\" class=\"dataframe\">\n",
       "  <thead>\n",
       "    <tr style=\"text-align: right;\">\n",
       "      <th></th>\n",
       "      <th>top_gene</th>\n",
       "      <th>count</th>\n",
       "      <th>pct</th>\n",
       "    </tr>\n",
       "  </thead>\n",
       "  <tbody>\n",
       "    <tr>\n",
       "      <th>0</th>\n",
       "      <td>TLR3</td>\n",
       "      <td>99</td>\n",
       "      <td>99.0</td>\n",
       "    </tr>\n",
       "    <tr>\n",
       "      <th>1</th>\n",
       "      <td>MMP12</td>\n",
       "      <td>99</td>\n",
       "      <td>99.0</td>\n",
       "    </tr>\n",
       "    <tr>\n",
       "      <th>2</th>\n",
       "      <td>ICAM1</td>\n",
       "      <td>92</td>\n",
       "      <td>92.0</td>\n",
       "    </tr>\n",
       "    <tr>\n",
       "      <th>3</th>\n",
       "      <td>IL17RB</td>\n",
       "      <td>88</td>\n",
       "      <td>88.0</td>\n",
       "    </tr>\n",
       "    <tr>\n",
       "      <th>4</th>\n",
       "      <td>TAFA5</td>\n",
       "      <td>81</td>\n",
       "      <td>81.0</td>\n",
       "    </tr>\n",
       "    <tr>\n",
       "      <th>5</th>\n",
       "      <td>CD80</td>\n",
       "      <td>60</td>\n",
       "      <td>60.0</td>\n",
       "    </tr>\n",
       "    <tr>\n",
       "      <th>6</th>\n",
       "      <td>TNFSF13</td>\n",
       "      <td>50</td>\n",
       "      <td>50.0</td>\n",
       "    </tr>\n",
       "    <tr>\n",
       "      <th>7</th>\n",
       "      <td>IL12RB1</td>\n",
       "      <td>44</td>\n",
       "      <td>44.0</td>\n",
       "    </tr>\n",
       "    <tr>\n",
       "      <th>8</th>\n",
       "      <td>CXCL16</td>\n",
       "      <td>43</td>\n",
       "      <td>43.0</td>\n",
       "    </tr>\n",
       "    <tr>\n",
       "      <th>9</th>\n",
       "      <td>IL36B</td>\n",
       "      <td>42</td>\n",
       "      <td>42.0</td>\n",
       "    </tr>\n",
       "    <tr>\n",
       "      <th>10</th>\n",
       "      <td>IFNB1</td>\n",
       "      <td>34</td>\n",
       "      <td>34.0</td>\n",
       "    </tr>\n",
       "    <tr>\n",
       "      <th>11</th>\n",
       "      <td>AGER</td>\n",
       "      <td>30</td>\n",
       "      <td>30.0</td>\n",
       "    </tr>\n",
       "    <tr>\n",
       "      <th>12</th>\n",
       "      <td>TNFRSF13C</td>\n",
       "      <td>30</td>\n",
       "      <td>30.0</td>\n",
       "    </tr>\n",
       "    <tr>\n",
       "      <th>13</th>\n",
       "      <td>CD276</td>\n",
       "      <td>27</td>\n",
       "      <td>27.0</td>\n",
       "    </tr>\n",
       "    <tr>\n",
       "      <th>14</th>\n",
       "      <td>CTF1</td>\n",
       "      <td>23</td>\n",
       "      <td>23.0</td>\n",
       "    </tr>\n",
       "    <tr>\n",
       "      <th>15</th>\n",
       "      <td>FGF23</td>\n",
       "      <td>22</td>\n",
       "      <td>22.0</td>\n",
       "    </tr>\n",
       "    <tr>\n",
       "      <th>16</th>\n",
       "      <td>TNFSF14</td>\n",
       "      <td>21</td>\n",
       "      <td>21.0</td>\n",
       "    </tr>\n",
       "    <tr>\n",
       "      <th>17</th>\n",
       "      <td>OSMR</td>\n",
       "      <td>18</td>\n",
       "      <td>18.0</td>\n",
       "    </tr>\n",
       "    <tr>\n",
       "      <th>18</th>\n",
       "      <td>LAG3</td>\n",
       "      <td>15</td>\n",
       "      <td>15.0</td>\n",
       "    </tr>\n",
       "    <tr>\n",
       "      <th>19</th>\n",
       "      <td>CSF3R</td>\n",
       "      <td>14</td>\n",
       "      <td>14.0</td>\n",
       "    </tr>\n",
       "    <tr>\n",
       "      <th>20</th>\n",
       "      <td>IL17A|IL17F</td>\n",
       "      <td>12</td>\n",
       "      <td>12.0</td>\n",
       "    </tr>\n",
       "    <tr>\n",
       "      <th>21</th>\n",
       "      <td>NAMPT</td>\n",
       "      <td>11</td>\n",
       "      <td>11.0</td>\n",
       "    </tr>\n",
       "    <tr>\n",
       "      <th>22</th>\n",
       "      <td>CTLA4</td>\n",
       "      <td>5</td>\n",
       "      <td>5.0</td>\n",
       "    </tr>\n",
       "    <tr>\n",
       "      <th>23</th>\n",
       "      <td>CX3CL1</td>\n",
       "      <td>5</td>\n",
       "      <td>5.0</td>\n",
       "    </tr>\n",
       "    <tr>\n",
       "      <th>24</th>\n",
       "      <td>CD70</td>\n",
       "      <td>5</td>\n",
       "      <td>5.0</td>\n",
       "    </tr>\n",
       "    <tr>\n",
       "      <th>25</th>\n",
       "      <td>CCL7</td>\n",
       "      <td>4</td>\n",
       "      <td>4.0</td>\n",
       "    </tr>\n",
       "    <tr>\n",
       "      <th>26</th>\n",
       "      <td>CHI3L1</td>\n",
       "      <td>4</td>\n",
       "      <td>4.0</td>\n",
       "    </tr>\n",
       "    <tr>\n",
       "      <th>27</th>\n",
       "      <td>TSLP</td>\n",
       "      <td>3</td>\n",
       "      <td>3.0</td>\n",
       "    </tr>\n",
       "    <tr>\n",
       "      <th>28</th>\n",
       "      <td>CD200R1</td>\n",
       "      <td>3</td>\n",
       "      <td>3.0</td>\n",
       "    </tr>\n",
       "    <tr>\n",
       "      <th>29</th>\n",
       "      <td>VSTM1</td>\n",
       "      <td>3</td>\n",
       "      <td>3.0</td>\n",
       "    </tr>\n",
       "    <tr>\n",
       "      <th>30</th>\n",
       "      <td>KITLG</td>\n",
       "      <td>2</td>\n",
       "      <td>2.0</td>\n",
       "    </tr>\n",
       "    <tr>\n",
       "      <th>31</th>\n",
       "      <td>CCL26</td>\n",
       "      <td>2</td>\n",
       "      <td>2.0</td>\n",
       "    </tr>\n",
       "    <tr>\n",
       "      <th>32</th>\n",
       "      <td>IL13RA2</td>\n",
       "      <td>2</td>\n",
       "      <td>2.0</td>\n",
       "    </tr>\n",
       "    <tr>\n",
       "      <th>33</th>\n",
       "      <td>IL1R1</td>\n",
       "      <td>1</td>\n",
       "      <td>1.0</td>\n",
       "    </tr>\n",
       "    <tr>\n",
       "      <th>34</th>\n",
       "      <td>TNFRSF4</td>\n",
       "      <td>1</td>\n",
       "      <td>1.0</td>\n",
       "    </tr>\n",
       "    <tr>\n",
       "      <th>35</th>\n",
       "      <td>CRP</td>\n",
       "      <td>1</td>\n",
       "      <td>1.0</td>\n",
       "    </tr>\n",
       "    <tr>\n",
       "      <th>36</th>\n",
       "      <td>VCAM1</td>\n",
       "      <td>1</td>\n",
       "      <td>1.0</td>\n",
       "    </tr>\n",
       "    <tr>\n",
       "      <th>37</th>\n",
       "      <td>CCL28</td>\n",
       "      <td>1</td>\n",
       "      <td>1.0</td>\n",
       "    </tr>\n",
       "    <tr>\n",
       "      <th>38</th>\n",
       "      <td>IL12B</td>\n",
       "      <td>1</td>\n",
       "      <td>1.0</td>\n",
       "    </tr>\n",
       "    <tr>\n",
       "      <th>39</th>\n",
       "      <td>TGFB3</td>\n",
       "      <td>1</td>\n",
       "      <td>1.0</td>\n",
       "    </tr>\n",
       "  </tbody>\n",
       "</table>\n",
       "</div>"
      ],
      "text/plain": [
       "       top_gene  count   pct\n",
       "0          TLR3     99  99.0\n",
       "1         MMP12     99  99.0\n",
       "2         ICAM1     92  92.0\n",
       "3        IL17RB     88  88.0\n",
       "4         TAFA5     81  81.0\n",
       "5          CD80     60  60.0\n",
       "6       TNFSF13     50  50.0\n",
       "7       IL12RB1     44  44.0\n",
       "8        CXCL16     43  43.0\n",
       "9         IL36B     42  42.0\n",
       "10        IFNB1     34  34.0\n",
       "11         AGER     30  30.0\n",
       "12    TNFRSF13C     30  30.0\n",
       "13        CD276     27  27.0\n",
       "14         CTF1     23  23.0\n",
       "15        FGF23     22  22.0\n",
       "16      TNFSF14     21  21.0\n",
       "17         OSMR     18  18.0\n",
       "18         LAG3     15  15.0\n",
       "19        CSF3R     14  14.0\n",
       "20  IL17A|IL17F     12  12.0\n",
       "21        NAMPT     11  11.0\n",
       "22        CTLA4      5   5.0\n",
       "23       CX3CL1      5   5.0\n",
       "24         CD70      5   5.0\n",
       "25         CCL7      4   4.0\n",
       "26       CHI3L1      4   4.0\n",
       "27         TSLP      3   3.0\n",
       "28      CD200R1      3   3.0\n",
       "29        VSTM1      3   3.0\n",
       "30        KITLG      2   2.0\n",
       "31        CCL26      2   2.0\n",
       "32      IL13RA2      2   2.0\n",
       "33        IL1R1      1   1.0\n",
       "34      TNFRSF4      1   1.0\n",
       "35          CRP      1   1.0\n",
       "36        VCAM1      1   1.0\n",
       "37        CCL28      1   1.0\n",
       "38        IL12B      1   1.0\n",
       "39        TGFB3      1   1.0"
      ]
     },
     "execution_count": 37,
     "metadata": {},
     "output_type": "execute_result"
    }
   ],
   "source": [
    "dist_df"
   ]
  },
  {
   "cell_type": "code",
   "execution_count": null,
   "id": "8575ba71",
   "metadata": {
    "vscode": {
     "languageId": "r"
    }
   },
   "outputs": [
    {
     "data": {
      "text/plain": [
       "Text(0.5, 0, 'Percent')"
      ]
     },
     "execution_count": 38,
     "metadata": {},
     "output_type": "execute_result"
    },
    {
     "data": {
      "image/png": "[encoded data removed]",
      "text/plain": [
       "<Figure size 800x600 with 1 Axes>"
      ]
     },
     "metadata": {},
     "output_type": "display_data"
    }
   ],
   "source": [
    "fig, ax = plt.subplots(figsize=(8,6))\n",
    "\n",
    "sns.barplot(dist_df.iloc[0:20], y='top_gene', x='pct')\n",
    "\n",
    "ax.set_title(f'Bootstrap frequency of a given gene in {num_seeds} RF models')\n",
    "ax.set_ylabel(f'Genes (those present in the top {topn})')\n",
    "ax.set_xlabel('Percent')"
   ]
  },
  {
   "cell_type": "code",
   "execution_count": null,
   "id": "a68a7a84",
   "metadata": {
    "vscode": {
     "languageId": "r"
    }
   },
   "outputs": [],
   "source": [
    "outfn = os.path.join(outdir, 'bootstrap_results.da.tsv')\n",
    "dist_df.to_csv(outfn, sep='\\t', index=False, header=True)"
   ]
  },
  {
   "cell_type": "code",
   "execution_count": null,
   "id": "007fda24",
   "metadata": {
    "vscode": {
     "languageId": "r"
    }
   },
   "outputs": [],
   "source": []
  },
  {
   "cell_type": "code",
   "execution_count": null,
   "id": "99d6326f",
   "metadata": {
    "vscode": {
     "languageId": "r"
    }
   },
   "outputs": [],
   "source": []
  },
  {
   "cell_type": "code",
   "execution_count": null,
   "id": "8d09bb4b",
   "metadata": {
    "vscode": {
     "languageId": "r"
    }
   },
   "outputs": [],
   "source": []
  },
  {
   "cell_type": "code",
   "execution_count": null,
   "id": "43a26694",
   "metadata": {
    "vscode": {
     "languageId": "r"
    }
   },
   "outputs": [],
   "source": []
  },
  {
   "cell_type": "code",
   "execution_count": null,
   "id": "e117e94c",
   "metadata": {
    "vscode": {
     "languageId": "r"
    }
   },
   "outputs": [],
   "source": []
  },
  {
   "cell_type": "code",
   "execution_count": null,
   "id": "3949811a",
   "metadata": {
    "vscode": {
     "languageId": "r"
    }
   },
   "outputs": [],
   "source": []
  }
 ],
 "metadata": {
  "kernelspec": {
   "display_name": "R-starter",
   "language": "R",
   "name": "r-starter"
  },
  "language_info": {
   "codemirror_mode": "r",
   "file_extension": ".r",
   "mimetype": "text/x-r-source",
   "name": "R",
   "pygments_lexer": "r",
   "version": "4.4.1"
  }
 },
 "nbformat": 4,
 "nbformat_minor": 5
}
